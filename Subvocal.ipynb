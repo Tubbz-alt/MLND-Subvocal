{
 "cells": [
  {
   "cell_type": "markdown",
   "metadata": {},
   "source": [
    "### Helper Classes\n",
    "\n",
    "First we get all of our helper modules. The prepare_EMG module will prepare the EMG data for phoneme recognition. The prepare_outputs module will prepare our target labels and align them with our EMG data. The module 'prepare_data' will help us read data from CSV into a dataframe. Finally, 'vis' will help visualize EMG data in both time and frequency domains. "
   ]
  },
  {
   "cell_type": "code",
   "execution_count": 32,
   "metadata": {
    "collapsed": false
   },
   "outputs": [
    {
     "name": "stdout",
     "output_type": "stream",
     "text": [
      "The autoreload extension is already loaded. To reload it, use:\n",
      "  %reload_ext autoreload\n"
     ]
    },
    {
     "name": "stderr",
     "output_type": "stream",
     "text": [
      "/home/brian/anaconda3/lib/python3.6/site-packages/sklearn/utils/validation.py:526: DataConversionWarning: A column-vector y was passed when a 1d array was expected. Please change the shape of y to (n_samples, ), for example using ravel().\n",
      "  y = column_or_1d(y, warn=True)\n"
     ]
    },
    {
     "name": "stdout",
     "output_type": "stream",
     "text": [
      "Training Score: 0.896547109208\n"
     ]
    }
   ],
   "source": [
    "%load_ext autoreload\n",
    "%autoreload 2\n",
    "\n",
    "import prepare_EMG, prepare_outputs, prepare_data, vis\n",
    "# autodetector = Output_Prep.detector\n",
    "EMG_Prep = prepare_EMG.EMG_preparer(window_size=60.0)\n",
    "# Output_Prep = prepare_outputs.output_preparer(subvocal_detector = autodetector, window_size=30.0)\n",
    "Output_Prep = prepare_outputs.output_preparer(window_size=60.0,do_grid_search=False)\n",
    "\n",
    "Data_Prep = prepare_data.data_preparer()\n",
    "\n"
   ]
  },
  {
   "cell_type": "markdown",
   "metadata": {},
   "source": [
    "### Labeling the Data\n",
    "\n",
    "First, we need to visualize a few EMG voltage graphs to find some sections that most likely contain no subvocalization. Then, we'll need to find some regions that almost certainly do. These two classes of EMG readouts will serve to train an identifier to help us automatically label EMG windows with phonemes. The model used here will most likely be an SVC, inside \"prepare_outputs\". It will process each EMG window in order, and when it finds one that most likely contains subvocalization, it applies the next phoneme as that window's label. "
   ]
  },
  {
   "cell_type": "code",
   "execution_count": 33,
   "metadata": {
    "collapsed": false
   },
   "outputs": [],
   "source": [
    "data_1 = Data_Prep.load('Sat Mar  4 00:44:23 2017')\n",
    "data_2 = Data_Prep.load('Sat Mar  4 00:45:02 2017')\n",
    "data_3 = Data_Prep.load('Sat Mar  4 00:45:47 2017')\n",
    "data_4 = Data_Prep.load('Sat Mar  4 00:47:01 2017')\n",
    "data_5 = Data_Prep.load('Sat Mar  4 00:47:36 2017')\n",
    "data_6 = Data_Prep.load('Sat Mar  4 00:48:09 2017')\n",
    "data_7 = Data_Prep.load('Sat Mar  4 00:49:05 2017')\n",
    "data_8 = Data_Prep.load('Sat Mar  4 00:49:41 2017')\n",
    "data_9 = Data_Prep.load('Sat Mar  4 00:50:22 2017')\n",
    "data_10 = Data_Prep.load('Sat Mar  4 00:51:17 2017')\n",
    "data_11 = Data_Prep.load('Sat Mar  4 00:52:02 2017')\n",
    "data_12 = Data_Prep.load('Sat Mar  4 00:52:38 2017')\n",
    "data_13 = Data_Prep.load('Sat Mar  4 00:53:24 2017')\n",
    "data_14 = Data_Prep.load('Sat Mar  4 00:53:51 2017')\n",
    "data_15 = Data_Prep.load('Sat Mar  4 00:54:25 2017')\n",
    "data_16 = Data_Prep.load('Sat Mar  4 00:54:57 2017')\n",
    "data_17 = Data_Prep.load('Sat Mar  4 00:56:01 2017')\n",
    "data_18 = Data_Prep.load('Sat Mar  4 00:56:35 2017')\n",
    "data_19 = Data_Prep.load('Sat Mar  4 00:57:21 2017')\n",
    "data_20 = Data_Prep.load('Sat Mar  4 00:57:49 2017')\n",
    "data_21 = Data_Prep.load('Sat Mar  4 00:58:59 2017')\n",
    "data_22 = Data_Prep.load('Sat Mar  4 00:59:53 2017')\n",
    "\n",
    "data_list = [data_1, data_2, data_3, data_4, data_5, data_6, data_7, data_8, data_9, data_10, data_11, data_12, data_13, data_14, data_15, data_16, data_17, data_18, data_19, data_20, data_21, data_22]"
   ]
  },
  {
   "cell_type": "code",
   "execution_count": 34,
   "metadata": {
    "collapsed": false
   },
   "outputs": [
    {
     "name": "stdout",
     "output_type": "stream",
     "text": [
      "Aligned Data shape: (5300, 60) Trans labels shape: (5300, 4)\n"
     ]
    }
   ],
   "source": [
    "import pandas\n",
    "%autoreload 2\n",
    "\n",
    "num_files = len(data_list)\n",
    "labels_frame = pandas.read_csv('austen_subvocal.csv')\n",
    "trans_labels = Output_Prep.transform(labels_frame.iloc[0][0])\n",
    "data_1_proc = EMG_Prep.process(data_1)\n",
    "aligned_data, trans_labels= Output_Prep.zip(data_1_proc, trans_labels, repeat=3)\n",
    "\n",
    "for file in range(1, num_files):\n",
    "    trans_labels_iter = Output_Prep.transform(labels_frame.iloc[file][0])\n",
    "    data_proc_iter = EMG_Prep.process(data_list[file])\n",
    "    aligned_data_iter, trans_labels_iter = Output_Prep.zip(data_proc_iter, trans_labels_iter, repeat=3)\n",
    "\n",
    "    aligned_data = aligned_data.append(aligned_data_iter)\n",
    "    trans_labels = trans_labels.append(trans_labels_iter)\n",
    "    \n",
    "print('Aligned Data shape:',aligned_data.shape,'Trans labels shape:',trans_labels.shape)"
   ]
  },
  {
   "cell_type": "markdown",
   "metadata": {},
   "source": [
    "### AF Extractor Models\n",
    "\n",
    "These models will be optimized for extracting AF's from the data, before passing those AF's onto an MLPC for identifying the most likely phoneme. "
   ]
  },
  {
   "cell_type": "code",
   "execution_count": 35,
   "metadata": {
    "collapsed": false
   },
   "outputs": [
    {
     "name": "stdout",
     "output_type": "stream",
     "text": [
      "number layer sizes: 5 here be layer sizes [(30, 30), (60, 60), (90, 90), (120, 120), (150, 150)]\n"
     ]
    }
   ],
   "source": [
    "# Prepare lists of parameters for our GridSearch\n",
    "# First, our layer sizes\n",
    "layer_sizes = []\n",
    "for i in range(2,3):\n",
    "    for j in range(0,180,30):\n",
    "        if j:\n",
    "            tup = []\n",
    "            for k in range(i):\n",
    "                tup.append(j)\n",
    "            layer_sizes.append(tuple(tup))\n",
    "print('number layer sizes:',len(layer_sizes),'here be layer sizes',layer_sizes)\n",
    "\n",
    "# Next, our alpha values\n",
    "# alphas = [0.0000001,1,1000]"
   ]
  },
  {
   "cell_type": "code",
   "execution_count": 90,
   "metadata": {
    "collapsed": false
   },
   "outputs": [
    {
     "name": "stdout",
     "output_type": "stream",
     "text": [
      "manner score: 0.405031446541 place score: 0.277987421384 height score: 0.494339622642 vowel score: 0.593710691824\n"
     ]
    }
   ],
   "source": [
    "from sklearn.neural_network import MLPClassifier as MLPC\n",
    "# Import other models to try for feature extraction\n",
    "from sklearn.model_selection import GridSearchCV\n",
    "from sklearn.model_selection import train_test_split\n",
    "from sklearn.pipeline import Pipeline, FeatureUnion\n",
    "from sklearn.decomposition import PCA\n",
    "from sklearn.feature_selection import SelectKBest\n",
    "\n",
    "import copy\n",
    "\n",
    "X_train, X_test, y_train, y_test = train_test_split(aligned_data, trans_labels, test_size=0.15, random_state=12)\n",
    "\n",
    "combined_features = FeatureUnion([\n",
    "    ('pca',PCA(random_state=18)),\n",
    "    ('kbest',SelectKBest(k=1))\n",
    "])\n",
    "\n",
    "pipeline = Pipeline([\n",
    "    ('features', combined_features),\n",
    "    ('model', MLPC(random_state=12))\n",
    "])\n",
    "\n",
    "\n",
    "param_grid = {\n",
    "    'features__pca__n_components':[0.5,0.66,0.9],\n",
    "    'model__solver':['adam'],\n",
    "    'model__hidden_layer_sizes':layer_sizes,\n",
    "    'model__activation':['relu'],\n",
    "#     'model__alpha': alphas,\n",
    "    'model__max_iter':[200]\n",
    "}\n",
    "\n",
    "\n",
    "grid_search = GridSearchCV(pipeline, param_grid, n_jobs=-1)\n",
    "\n",
    "manner_classifier = MLPC(solver='adam',hidden_layer_sizes=(21,21),random_state=3)\n",
    "manner_classifier.fit(X_train, y_train['manner'])\n",
    "m_score = manner_classifier.score(X_test, y_test['manner'])\n",
    "\n",
    "place_classifier = MLPC(solver='adam',hidden_layer_sizes=(30,30),random_state=6)\n",
    "place_classifier.fit(X_train, y_train['place'])\n",
    "p_score = place_classifier.score(X_test, y_test['place'])\n",
    "\n",
    "height_classifier = MLPC(solver='adam',hidden_layer_sizes=(30,30),random_state=9)\n",
    "height_classifier.fit(X_train, y_train['height'])\n",
    "h_score = height_classifier.score(X_test, y_test['height'])\n",
    "\n",
    "vowel_classifier = MLPC(solver='adam',hidden_layer_sizes=(30,30),random_state=12)\n",
    "vowel_classifier.fit(X_train, y_train['vowel'])\n",
    "v_score = vowel_classifier.score(X_test, y_test['vowel'])\n",
    "\n",
    "print('manner score:',m_score,'place score:',p_score,'height score:',h_score,'vowel score:',v_score)\n",
    "# print(data_1_proc.head(50), trans_labels['manner'].head(50))"
   ]
  },
  {
   "cell_type": "code",
   "execution_count": 41,
   "metadata": {
    "collapsed": true
   },
   "outputs": [
    {
     "name": "stderr",
     "output_type": "stream",
     "text": [
      "/home/brian/anaconda3/lib/python3.6/site-packages/sklearn/neural_network/multilayer_perceptron.py:563: ConvergenceWarning: Stochastic Optimizer: Maximum iterations reached and the optimization hasn't converged yet.\n",
      "  % (), ConvergenceWarning)\n",
      "/home/brian/anaconda3/lib/python3.6/site-packages/sklearn/neural_network/multilayer_perceptron.py:563: ConvergenceWarning: Stochastic Optimizer: Maximum iterations reached and the optimization hasn't converged yet.\n",
      "  % (), ConvergenceWarning)\n",
      "/home/brian/anaconda3/lib/python3.6/site-packages/sklearn/neural_network/multilayer_perceptron.py:563: ConvergenceWarning: Stochastic Optimizer: Maximum iterations reached and the optimization hasn't converged yet.\n",
      "  % (), ConvergenceWarning)\n",
      "/home/brian/anaconda3/lib/python3.6/site-packages/sklearn/neural_network/multilayer_perceptron.py:563: ConvergenceWarning: Stochastic Optimizer: Maximum iterations reached and the optimization hasn't converged yet.\n",
      "  % (), ConvergenceWarning)\n",
      "/home/brian/anaconda3/lib/python3.6/site-packages/sklearn/neural_network/multilayer_perceptron.py:563: ConvergenceWarning: Stochastic Optimizer: Maximum iterations reached and the optimization hasn't converged yet.\n",
      "  % (), ConvergenceWarning)\n",
      "/home/brian/anaconda3/lib/python3.6/site-packages/sklearn/neural_network/multilayer_perceptron.py:563: ConvergenceWarning: Stochastic Optimizer: Maximum iterations reached and the optimization hasn't converged yet.\n",
      "  % (), ConvergenceWarning)\n",
      "/home/brian/anaconda3/lib/python3.6/site-packages/sklearn/neural_network/multilayer_perceptron.py:563: ConvergenceWarning: Stochastic Optimizer: Maximum iterations reached and the optimization hasn't converged yet.\n",
      "  % (), ConvergenceWarning)\n",
      "/home/brian/anaconda3/lib/python3.6/site-packages/sklearn/neural_network/multilayer_perceptron.py:563: ConvergenceWarning: Stochastic Optimizer: Maximum iterations reached and the optimization hasn't converged yet.\n",
      "  % (), ConvergenceWarning)\n",
      "/home/brian/anaconda3/lib/python3.6/site-packages/sklearn/neural_network/multilayer_perceptron.py:563: ConvergenceWarning: Stochastic Optimizer: Maximum iterations reached and the optimization hasn't converged yet.\n",
      "  % (), ConvergenceWarning)\n",
      "/home/brian/anaconda3/lib/python3.6/site-packages/sklearn/neural_network/multilayer_perceptron.py:563: ConvergenceWarning: Stochastic Optimizer: Maximum iterations reached and the optimization hasn't converged yet.\n",
      "  % (), ConvergenceWarning)\n",
      "/home/brian/anaconda3/lib/python3.6/site-packages/sklearn/neural_network/multilayer_perceptron.py:563: ConvergenceWarning: Stochastic Optimizer: Maximum iterations reached and the optimization hasn't converged yet.\n",
      "  % (), ConvergenceWarning)\n",
      "/home/brian/anaconda3/lib/python3.6/site-packages/sklearn/neural_network/multilayer_perceptron.py:563: ConvergenceWarning: Stochastic Optimizer: Maximum iterations reached and the optimization hasn't converged yet.\n",
      "  % (), ConvergenceWarning)\n",
      "/home/brian/anaconda3/lib/python3.6/site-packages/sklearn/neural_network/multilayer_perceptron.py:563: ConvergenceWarning: Stochastic Optimizer: Maximum iterations reached and the optimization hasn't converged yet.\n",
      "  % (), ConvergenceWarning)\n",
      "/home/brian/anaconda3/lib/python3.6/site-packages/sklearn/neural_network/multilayer_perceptron.py:563: ConvergenceWarning: Stochastic Optimizer: Maximum iterations reached and the optimization hasn't converged yet.\n",
      "  % (), ConvergenceWarning)\n"
     ]
    },
    {
     "name": "stdout",
     "output_type": "stream",
     "text": [
      "manner score: 0.389433962264\n"
     ]
    }
   ],
   "source": [
    "manner_classifier2 = copy.deepcopy(grid_search)\n",
    "manner_classifier2.fit(aligned_data, trans_labels['manner'])\n",
    "m_score2 = manner_classifier2.score(aligned_data, trans_labels['manner'])\n",
    "\n",
    "print('manner score:',m_score2)"
   ]
  },
  {
   "cell_type": "code",
   "execution_count": 53,
   "metadata": {
    "collapsed": false
   },
   "outputs": [
    {
     "name": "stdout",
     "output_type": "stream",
     "text": [
      "[('features', FeatureUnion(n_jobs=1,\n",
      "       transformer_list=[('pca', PCA(copy=True, iterated_power='auto', n_components=0.9, random_state=18,\n",
      "  svd_solver='auto', tol=0.0, whiten=False)), ('kbest', SelectKBest(k=1, score_func=<function f_classif at 0x7f550ab948c8>))],\n",
      "       transformer_weights=None)), ('model', MLPClassifier(activation='relu', alpha=1, batch_size='auto', beta_1=0.9,\n",
      "       beta_2=0.999, early_stopping=False, epsilon=1e-08,\n",
      "       hidden_layer_sizes=(120, 120), learning_rate='constant',\n",
      "       learning_rate_init=0.001, max_iter=200, momentum=0.9,\n",
      "       nesterovs_momentum=True, power_t=0.5, random_state=12, shuffle=True,\n",
      "       solver='adam', tol=0.0001, validation_fraction=0.1, verbose=False,\n",
      "       warm_start=False))]\n"
     ]
    }
   ],
   "source": [
    "print(manner_classifier2.best_estimator_.steps)"
   ]
  },
  {
   "cell_type": "code",
   "execution_count": 59,
   "metadata": {
    "collapsed": true
   },
   "outputs": [
    {
     "name": "stderr",
     "output_type": "stream",
     "text": [
      "/home/brian/anaconda3/lib/python3.6/site-packages/sklearn/neural_network/multilayer_perceptron.py:563: ConvergenceWarning: Stochastic Optimizer: Maximum iterations reached and the optimization hasn't converged yet.\n",
      "  % (), ConvergenceWarning)\n",
      "/home/brian/anaconda3/lib/python3.6/site-packages/sklearn/neural_network/multilayer_perceptron.py:563: ConvergenceWarning: Stochastic Optimizer: Maximum iterations reached and the optimization hasn't converged yet.\n",
      "  % (), ConvergenceWarning)\n",
      "/home/brian/anaconda3/lib/python3.6/site-packages/sklearn/neural_network/multilayer_perceptron.py:563: ConvergenceWarning: Stochastic Optimizer: Maximum iterations reached and the optimization hasn't converged yet.\n",
      "  % (), ConvergenceWarning)\n",
      "/home/brian/anaconda3/lib/python3.6/site-packages/sklearn/neural_network/multilayer_perceptron.py:563: ConvergenceWarning: Stochastic Optimizer: Maximum iterations reached and the optimization hasn't converged yet.\n",
      "  % (), ConvergenceWarning)\n",
      "/home/brian/anaconda3/lib/python3.6/site-packages/sklearn/neural_network/multilayer_perceptron.py:563: ConvergenceWarning: Stochastic Optimizer: Maximum iterations reached and the optimization hasn't converged yet.\n",
      "  % (), ConvergenceWarning)\n",
      "/home/brian/anaconda3/lib/python3.6/site-packages/sklearn/neural_network/multilayer_perceptron.py:563: ConvergenceWarning: Stochastic Optimizer: Maximum iterations reached and the optimization hasn't converged yet.\n",
      "  % (), ConvergenceWarning)\n",
      "/home/brian/anaconda3/lib/python3.6/site-packages/sklearn/neural_network/multilayer_perceptron.py:563: ConvergenceWarning: Stochastic Optimizer: Maximum iterations reached and the optimization hasn't converged yet.\n",
      "  % (), ConvergenceWarning)\n",
      "/home/brian/anaconda3/lib/python3.6/site-packages/sklearn/neural_network/multilayer_perceptron.py:563: ConvergenceWarning: Stochastic Optimizer: Maximum iterations reached and the optimization hasn't converged yet.\n",
      "  % (), ConvergenceWarning)\n",
      "/home/brian/anaconda3/lib/python3.6/site-packages/sklearn/neural_network/multilayer_perceptron.py:563: ConvergenceWarning: Stochastic Optimizer: Maximum iterations reached and the optimization hasn't converged yet.\n",
      "  % (), ConvergenceWarning)\n",
      "/home/brian/anaconda3/lib/python3.6/site-packages/sklearn/neural_network/multilayer_perceptron.py:563: ConvergenceWarning: Stochastic Optimizer: Maximum iterations reached and the optimization hasn't converged yet.\n",
      "  % (), ConvergenceWarning)\n",
      "/home/brian/anaconda3/lib/python3.6/site-packages/sklearn/neural_network/multilayer_perceptron.py:563: ConvergenceWarning: Stochastic Optimizer: Maximum iterations reached and the optimization hasn't converged yet.\n",
      "  % (), ConvergenceWarning)\n",
      "/home/brian/anaconda3/lib/python3.6/site-packages/sklearn/neural_network/multilayer_perceptron.py:563: ConvergenceWarning: Stochastic Optimizer: Maximum iterations reached and the optimization hasn't converged yet.\n",
      "  % (), ConvergenceWarning)\n",
      "/home/brian/anaconda3/lib/python3.6/site-packages/sklearn/neural_network/multilayer_perceptron.py:563: ConvergenceWarning: Stochastic Optimizer: Maximum iterations reached and the optimization hasn't converged yet.\n",
      "  % (), ConvergenceWarning)\n",
      "/home/brian/anaconda3/lib/python3.6/site-packages/sklearn/neural_network/multilayer_perceptron.py:563: ConvergenceWarning: Stochastic Optimizer: Maximum iterations reached and the optimization hasn't converged yet.\n",
      "  % (), ConvergenceWarning)\n",
      "/home/brian/anaconda3/lib/python3.6/site-packages/sklearn/neural_network/multilayer_perceptron.py:563: ConvergenceWarning: Stochastic Optimizer: Maximum iterations reached and the optimization hasn't converged yet.\n",
      "  % (), ConvergenceWarning)\n"
     ]
    },
    {
     "name": "stdout",
     "output_type": "stream",
     "text": [
      "place score: 0.280943396226\n"
     ]
    }
   ],
   "source": [
    "place_classifier2 = copy.deepcopy(grid_search)\n",
    "place_classifier2.fit(aligned_data, trans_labels['place'])\n",
    "p_score2 = place_classifier2.score(aligned_data, trans_labels['place'])\n",
    "\n",
    "print('place score:',p_score2)"
   ]
  },
  {
   "cell_type": "code",
   "execution_count": 62,
   "metadata": {
    "collapsed": true
   },
   "outputs": [
    {
     "name": "stdout",
     "output_type": "stream",
     "text": [
      "[('features', FeatureUnion(n_jobs=1,\n",
      "       transformer_list=[('pca', PCA(copy=True, iterated_power='auto', n_components=0.5, random_state=18,\n",
      "  svd_solver='auto', tol=0.0, whiten=False)), ('kbest', SelectKBest(k=1, score_func=<function f_classif at 0x7f550ab948c8>))],\n",
      "       transformer_weights=None)), ('model', MLPClassifier(activation='relu', alpha=0.0001, batch_size='auto', beta_1=0.9,\n",
      "       beta_2=0.999, early_stopping=False, epsilon=1e-08,\n",
      "       hidden_layer_sizes=(120, 120), learning_rate='constant',\n",
      "       learning_rate_init=0.001, max_iter=200, momentum=0.9,\n",
      "       nesterovs_momentum=True, power_t=0.5, random_state=12, shuffle=True,\n",
      "       solver='adam', tol=0.0001, validation_fraction=0.1, verbose=False,\n",
      "       warm_start=False))]\n"
     ]
    }
   ],
   "source": [
    "print(place_classifier2.best_estimator_.steps)"
   ]
  },
  {
   "cell_type": "code",
   "execution_count": 60,
   "metadata": {
    "collapsed": true
   },
   "outputs": [
    {
     "name": "stderr",
     "output_type": "stream",
     "text": [
      "/home/brian/anaconda3/lib/python3.6/site-packages/sklearn/neural_network/multilayer_perceptron.py:563: ConvergenceWarning: Stochastic Optimizer: Maximum iterations reached and the optimization hasn't converged yet.\n",
      "  % (), ConvergenceWarning)\n",
      "/home/brian/anaconda3/lib/python3.6/site-packages/sklearn/neural_network/multilayer_perceptron.py:563: ConvergenceWarning: Stochastic Optimizer: Maximum iterations reached and the optimization hasn't converged yet.\n",
      "  % (), ConvergenceWarning)\n",
      "/home/brian/anaconda3/lib/python3.6/site-packages/sklearn/neural_network/multilayer_perceptron.py:563: ConvergenceWarning: Stochastic Optimizer: Maximum iterations reached and the optimization hasn't converged yet.\n",
      "  % (), ConvergenceWarning)\n",
      "/home/brian/anaconda3/lib/python3.6/site-packages/sklearn/neural_network/multilayer_perceptron.py:563: ConvergenceWarning: Stochastic Optimizer: Maximum iterations reached and the optimization hasn't converged yet.\n",
      "  % (), ConvergenceWarning)\n",
      "/home/brian/anaconda3/lib/python3.6/site-packages/sklearn/neural_network/multilayer_perceptron.py:563: ConvergenceWarning: Stochastic Optimizer: Maximum iterations reached and the optimization hasn't converged yet.\n",
      "  % (), ConvergenceWarning)\n",
      "/home/brian/anaconda3/lib/python3.6/site-packages/sklearn/neural_network/multilayer_perceptron.py:563: ConvergenceWarning: Stochastic Optimizer: Maximum iterations reached and the optimization hasn't converged yet.\n",
      "  % (), ConvergenceWarning)\n",
      "/home/brian/anaconda3/lib/python3.6/site-packages/sklearn/neural_network/multilayer_perceptron.py:563: ConvergenceWarning: Stochastic Optimizer: Maximum iterations reached and the optimization hasn't converged yet.\n",
      "  % (), ConvergenceWarning)\n",
      "/home/brian/anaconda3/lib/python3.6/site-packages/sklearn/neural_network/multilayer_perceptron.py:563: ConvergenceWarning: Stochastic Optimizer: Maximum iterations reached and the optimization hasn't converged yet.\n",
      "  % (), ConvergenceWarning)\n",
      "/home/brian/anaconda3/lib/python3.6/site-packages/sklearn/neural_network/multilayer_perceptron.py:563: ConvergenceWarning: Stochastic Optimizer: Maximum iterations reached and the optimization hasn't converged yet.\n",
      "  % (), ConvergenceWarning)\n",
      "/home/brian/anaconda3/lib/python3.6/site-packages/sklearn/neural_network/multilayer_perceptron.py:563: ConvergenceWarning: Stochastic Optimizer: Maximum iterations reached and the optimization hasn't converged yet.\n",
      "  % (), ConvergenceWarning)\n",
      "/home/brian/anaconda3/lib/python3.6/site-packages/sklearn/neural_network/multilayer_perceptron.py:563: ConvergenceWarning: Stochastic Optimizer: Maximum iterations reached and the optimization hasn't converged yet.\n",
      "  % (), ConvergenceWarning)\n",
      "/home/brian/anaconda3/lib/python3.6/site-packages/sklearn/neural_network/multilayer_perceptron.py:563: ConvergenceWarning: Stochastic Optimizer: Maximum iterations reached and the optimization hasn't converged yet.\n",
      "  % (), ConvergenceWarning)\n",
      "/home/brian/anaconda3/lib/python3.6/site-packages/sklearn/neural_network/multilayer_perceptron.py:563: ConvergenceWarning: Stochastic Optimizer: Maximum iterations reached and the optimization hasn't converged yet.\n",
      "  % (), ConvergenceWarning)\n",
      "/home/brian/anaconda3/lib/python3.6/site-packages/sklearn/neural_network/multilayer_perceptron.py:563: ConvergenceWarning: Stochastic Optimizer: Maximum iterations reached and the optimization hasn't converged yet.\n",
      "  % (), ConvergenceWarning)\n",
      "/home/brian/anaconda3/lib/python3.6/site-packages/sklearn/neural_network/multilayer_perceptron.py:563: ConvergenceWarning: Stochastic Optimizer: Maximum iterations reached and the optimization hasn't converged yet.\n",
      "  % (), ConvergenceWarning)\n"
     ]
    },
    {
     "name": "stdout",
     "output_type": "stream",
     "text": [
      "height score: 0.504905660377\n"
     ]
    }
   ],
   "source": [
    "height_classifier2 = copy.deepcopy(grid_search)\n",
    "height_classifier2.fit(aligned_data, trans_labels['height'])\n",
    "h_score2 = height_classifier2.score(aligned_data, trans_labels['height'])\n",
    "\n",
    "print('height score:',h_score2)"
   ]
  },
  {
   "cell_type": "code",
   "execution_count": 61,
   "metadata": {
    "collapsed": true
   },
   "outputs": [
    {
     "name": "stderr",
     "output_type": "stream",
     "text": [
      "/home/brian/anaconda3/lib/python3.6/site-packages/sklearn/neural_network/multilayer_perceptron.py:563: ConvergenceWarning: Stochastic Optimizer: Maximum iterations reached and the optimization hasn't converged yet.\n",
      "  % (), ConvergenceWarning)\n",
      "/home/brian/anaconda3/lib/python3.6/site-packages/sklearn/neural_network/multilayer_perceptron.py:563: ConvergenceWarning: Stochastic Optimizer: Maximum iterations reached and the optimization hasn't converged yet.\n",
      "  % (), ConvergenceWarning)\n"
     ]
    },
    {
     "name": "stdout",
     "output_type": "stream",
     "text": [
      "vowel score: 0.610566037736\n"
     ]
    }
   ],
   "source": [
    "vowel_classifier2 = copy.deepcopy(grid_search)\n",
    "vowel_classifier2.fit(aligned_data, trans_labels['vowel'])\n",
    "v_score2 = vowel_classifier2.score(aligned_data, trans_labels['vowel'])\n",
    "\n",
    "print('vowel score:',v_score2)"
   ]
  },
  {
   "cell_type": "code",
   "execution_count": 126,
   "metadata": {
    "collapsed": false
   },
   "outputs": [
    {
     "name": "stdout",
     "output_type": "stream",
     "text": [
      "manner score: 0.405031446541\n"
     ]
    }
   ],
   "source": [
    "# Experiment with PCA here\n",
    "\n",
    "from sklearn.decomposition import PCA\n",
    "\n",
    "\n",
    "manner_union = FeatureUnion([('pca',PCA(n_components=0.03)),('kbest',SelectKBest(k=1))])\n",
    "manner_reduced_data = manner_union.fit_transform(aligned_data, trans_labels['manner'])\n",
    "X_train, X_test, y_train, y_test = train_test_split(manner_reduced_data, trans_labels, test_size=0.15, random_state=12)\n",
    "\n",
    "\n",
    "manner_classifier3 = MLPC(solver='adam',alpha=1000,hidden_layer_sizes=(1),random_state=3,max_iter=300)\n",
    "manner_classifier3.fit(X_train, y_train['manner'])\n",
    "m_score3 = manner_classifier3.score(X_test, y_test['manner'])\n",
    "print('manner score:',m_score3)"
   ]
  },
  {
   "cell_type": "code",
   "execution_count": 86,
   "metadata": {
    "collapsed": false
   },
   "outputs": [
    {
     "name": "stdout",
     "output_type": "stream",
     "text": [
      "place classifier score: 0.624716981132\n"
     ]
    }
   ],
   "source": [
    "place_union = FeatureUnion([('pca',PCA(n_components=0.9)),('kbest',SelectKBest(k=1))])\n",
    "place_reduced_data = place_union.fit_transform(aligned_data, trans_labels['place'])\n",
    "place_classifier3 = MLPC(solver='adam',alpha=0.00001,hidden_layer_sizes=(120,120),random_state=6,max_iter=300)\n",
    "place_classifier3.fit(place_reduced_data, trans_labels['place'])\n",
    "p_score3 = place_classifier3.score(place_reduced_data, trans_labels['place'])\n",
    "print('place classifier score:',p_score3)"
   ]
  },
  {
   "cell_type": "code",
   "execution_count": 87,
   "metadata": {
    "collapsed": false
   },
   "outputs": [
    {
     "name": "stdout",
     "output_type": "stream",
     "text": [
      "height score: 0.907169811321\n"
     ]
    }
   ],
   "source": [
    "height_union = FeatureUnion([('pca',PCA(n_components=0.9)),('kbest',SelectKBest(k=1))])\n",
    "height_reduced_data = height_union.fit_transform(aligned_data, trans_labels['height'])\n",
    "height_classifier3 = MLPC(solver='adam',alpha=0.00001,hidden_layer_sizes=(180,180),random_state=12,max_iter=300)\n",
    "height_classifier3.fit(height_reduced_data, trans_labels['height'])\n",
    "h_score3 = height_classifier3.score(height_reduced_data, trans_labels['height'])\n",
    "print('height score:',h_score3)"
   ]
  },
  {
   "cell_type": "code",
   "execution_count": 88,
   "metadata": {
    "collapsed": false
   },
   "outputs": [
    {
     "name": "stdout",
     "output_type": "stream",
     "text": [
      "vowel score: 0.948113207547\n"
     ]
    }
   ],
   "source": [
    "vowel_union = FeatureUnion([('pca',PCA(n_components=0.9)),('kbest',SelectKBest(k=1))])\n",
    "vowel_reduced_data = vowel_union.fit_transform(aligned_data, trans_labels['vowel'])\n",
    "vowel_classifier3 = MLPC(solver='adam',alpha=0.00001,hidden_layer_sizes=(180,180),random_state=12,max_iter=300)\n",
    "vowel_classifier3.fit(vowel_reduced_data, trans_labels['vowel'])\n",
    "v_score3 = vowel_classifier3.score(vowel_reduced_data, trans_labels['vowel'])\n",
    "print('vowel score:',v_score3)"
   ]
  },
  {
   "cell_type": "code",
   "execution_count": null,
   "metadata": {
    "collapsed": true
   },
   "outputs": [],
   "source": []
  },
  {
   "cell_type": "code",
   "execution_count": null,
   "metadata": {
    "collapsed": false
   },
   "outputs": [],
   "source": [
    "print(aligned_data.head(),trans_labels['manner'].head())\n",
    "\n",
    "phoneme_inputs = pandas.concat([aligned_data,trans_labels['manner'],trans_labels['place'],trans_labels['height'],trans_labels['vowel']],axis=1,join='outer')\n",
    "phoneme_labels = trans_labels.axes[0]\n",
    "phoneme_classifier = MLPC(solver='adam',hidden_layer_sizes=(90,90),random_state=6, max_iter=300)\n",
    "phoneme_classifier.fit(phoneme_inputs, phoneme_labels)"
   ]
  }
 ],
 "metadata": {
  "kernelspec": {
   "display_name": "Python 3",
   "language": "python",
   "name": "python3"
  },
  "language_info": {
   "codemirror_mode": {
    "name": "ipython",
    "version": 3
   },
   "file_extension": ".py",
   "mimetype": "text/x-python",
   "name": "python",
   "nbconvert_exporter": "python",
   "pygments_lexer": "ipython3",
   "version": "3.6.0"
  }
 },
 "nbformat": 4,
 "nbformat_minor": 2
}
