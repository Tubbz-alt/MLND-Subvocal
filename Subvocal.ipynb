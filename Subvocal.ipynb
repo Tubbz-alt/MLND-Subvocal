{
 "cells": [
  {
   "cell_type": "markdown",
   "metadata": {},
   "source": [
    "### Helper Classes\n",
    "\n",
    "First we get all of our helper modules. The prepare_EMG module will prepare the EMG data for phoneme recognition. The prepare_outputs module will prepare our target labels and align them with our EMG data. The module 'prepare_data' will help us read data from CSV into a dataframe. Finally, 'vis' will help visualize EMG data in both time and frequency domains. "
   ]
  },
  {
   "cell_type": "code",
   "execution_count": 55,
   "metadata": {
    "collapsed": false
   },
   "outputs": [
    {
     "name": "stdout",
     "output_type": "stream",
     "text": [
      "The autoreload extension is already loaded. To reload it, use:\n",
      "  %reload_ext autoreload\n"
     ]
    },
    {
     "name": "stderr",
     "output_type": "stream",
     "text": [
      "/home/brian/anaconda3/lib/python3.6/site-packages/sklearn/utils/validation.py:526: DataConversionWarning: A column-vector y was passed when a 1d array was expected. Please change the shape of y to (n_samples, ), for example using ravel().\n",
      "  y = column_or_1d(y, warn=True)\n"
     ]
    },
    {
     "name": "stdout",
     "output_type": "stream",
     "text": [
      "Training Score: 0.89906312737\n"
     ]
    }
   ],
   "source": [
    "%load_ext autoreload\n",
    "%autoreload 2\n",
    "\n",
    "import prepare_EMG, prepare_outputs, prepare_data, vis\n",
    "# autodetector = Output_Prep.detector\n",
    "EMG_Prep = prepare_EMG.EMG_preparer(window_size=50.0)\n",
    "# Output_Prep = prepare_outputs.output_preparer(subvocal_detector = autodetector, window_size=30.0)\n",
    "Output_Prep = prepare_outputs.output_preparer(window_size=50.0,do_grid_search=False)\n",
    "\n",
    "Data_Prep = prepare_data.data_preparer()\n",
    "\n"
   ]
  },
  {
   "cell_type": "code",
   "execution_count": null,
   "metadata": {
    "collapsed": false
   },
   "outputs": [],
   "source": [
    "print('detector:',Output_Prep.detector,'cv results:',Output_Prep.cv_results)\n",
    "\n"
   ]
  },
  {
   "cell_type": "markdown",
   "metadata": {},
   "source": [
    "### Labeling the Data\n",
    "\n",
    "First, we need to visualize a few EMG voltage graphs to find some sections that most likely contain no subvocalization. Then, we'll need to find some regions that almost certainly do. These two classes of EMG readouts will serve to train an identifier to help us automatically label EMG windows with phonemes. The model used here will most likely be an SVC, inside \"prepare_outputs\". It will process each EMG window in order, and when it finds one that most likely contains subvocalization, it applies the next phoneme as that window's label. "
   ]
  },
  {
   "cell_type": "code",
   "execution_count": 56,
   "metadata": {
    "collapsed": false
   },
   "outputs": [],
   "source": [
    "data_1 = Data_Prep.load('Sat Mar  4 00:44:23 2017')\n",
    "data_2 = Data_Prep.load('Sat Mar  4 00:45:02 2017')\n",
    "data_3 = Data_Prep.load('Sat Mar  4 00:45:47 2017')\n",
    "data_4 = Data_Prep.load('Sat Mar  4 00:47:01 2017')\n",
    "data_5 = Data_Prep.load('Sat Mar  4 00:47:36 2017')\n",
    "data_6 = Data_Prep.load('Sat Mar  4 00:48:09 2017')\n",
    "data_7 = Data_Prep.load('Sat Mar  4 00:49:05 2017')\n",
    "data_8 = Data_Prep.load('Sat Mar  4 00:49:41 2017')\n",
    "data_9 = Data_Prep.load('Sat Mar  4 00:50:22 2017')\n",
    "data_10 = Data_Prep.load('Sat Mar  4 00:51:17 2017')\n",
    "data_11 = Data_Prep.load('Sat Mar  4 00:52:02 2017')\n",
    "data_12 = Data_Prep.load('Sat Mar  4 00:52:38 2017')\n",
    "data_13 = Data_Prep.load('Sat Mar  4 00:53:24 2017')\n",
    "data_14 = Data_Prep.load('Sat Mar  4 00:53:51 2017')\n",
    "data_15 = Data_Prep.load('Sat Mar  4 00:54:25 2017')\n",
    "data_16 = Data_Prep.load('Sat Mar  4 00:54:57 2017')\n",
    "data_17 = Data_Prep.load('Sat Mar  4 00:56:01 2017')\n",
    "data_18 = Data_Prep.load('Sat Mar  4 00:56:35 2017')\n",
    "data_19 = Data_Prep.load('Sat Mar  4 00:57:21 2017')\n",
    "data_20 = Data_Prep.load('Sat Mar  4 00:57:49 2017')\n",
    "data_21 = Data_Prep.load('Sat Mar  4 00:58:59 2017')\n",
    "data_22 = Data_Prep.load('Sat Mar  4 00:59:53 2017')\n",
    "\n",
    "\n",
    "\n",
    "data_list = [data_1, data_2, data_3, data_4, data_5, data_6, data_7, data_8, data_9, data_10, data_11, data_12, data_13, data_14, data_15, data_16, data_17, data_18, data_19, data_20, data_21, data_22]"
   ]
  },
  {
   "cell_type": "code",
   "execution_count": 57,
   "metadata": {
    "collapsed": false
   },
   "outputs": [
    {
     "name": "stdout",
     "output_type": "stream",
     "text": [
      "Aligned Data shape: (5300, 50) Trans labels shape: (5300, 4)\n"
     ]
    }
   ],
   "source": [
    "import pandas\n",
    "%autoreload 2\n",
    "\n",
    "\n",
    "num_files = len(data_list)\n",
    "labels_frame = pandas.read_csv('austen_subvocal.csv')\n",
    "labels_frame\n",
    "# print(labels_frame.iloc[0][0])\n",
    "trans_labels = Output_Prep.transform(labels_frame.iloc[0][0])\n",
    "data_1_proc = EMG_Prep.process(data_1)\n",
    "aligned_data, trans_labels= Output_Prep.zip(data_1_proc, trans_labels, repeat=3)\n",
    "\n",
    "\n",
    "for file in range(1, num_files):\n",
    "    trans_labels_iter = Output_Prep.transform(labels_frame.iloc[file][0])\n",
    "    data_proc_iter = EMG_Prep.process(data_list[file])\n",
    "    aligned_data_iter, trans_labels_iter = Output_Prep.zip(data_proc_iter, trans_labels_iter, repeat=3)\n",
    "\n",
    "    aligned_data = aligned_data.append(aligned_data_iter)\n",
    "    trans_labels = trans_labels.append(trans_labels_iter)\n",
    "    \n",
    "# print(\"This is trans_labels:\",trans_labels,'This is trans_labels length:',len(trans_labels))\n",
    "# print('this is data_1_proc:',data_1_proc)\n",
    "# print('this is aligned_data', aligned_data)\n",
    "# aligned_data = aligned_data_1.append([aligned_data_2, aligned_data_3])\n",
    "# trans_labels = trans_labels_1.append([trans_labels_2, trans_labels_3])\n",
    "print('Aligned Data shape:',aligned_data.shape,'Trans labels shape:',trans_labels.shape)"
   ]
  },
  {
   "cell_type": "markdown",
   "metadata": {},
   "source": [
    "### AF Extractor Models\n",
    "\n",
    "These models will be optimized for extracting AF's from the data, before passing those AF's onto an MLPC for identifying the most likely phoneme. "
   ]
  },
  {
   "cell_type": "code",
   "execution_count": 58,
   "metadata": {
    "collapsed": false
   },
   "outputs": [
    {
     "name": "stdout",
     "output_type": "stream",
     "text": [
      "number layer sizes: 5 here be layer sizes [(30, 30), (60, 60), (90, 90), (120, 120), (150, 150)]\n"
     ]
    }
   ],
   "source": [
    "# Prepare lists of parameters for our GridSearch\n",
    "# First, our layer sizes\n",
    "layer_sizes = []\n",
    "for i in range(2,3):\n",
    "    for j in range(0,180,30):\n",
    "        if j:\n",
    "            tup = []\n",
    "            for k in range(i):\n",
    "                tup.append(j)\n",
    "            layer_sizes.append(tuple(tup))\n",
    "print('number layer sizes:',len(layer_sizes),'here be layer sizes',layer_sizes)\n",
    "\n",
    "# Next, our alpha values\n",
    "alphas = [0.0000001,1,1000]\n",
    "\n",
    "\n"
   ]
  },
  {
   "cell_type": "code",
   "execution_count": 59,
   "metadata": {
    "collapsed": false
   },
   "outputs": [
    {
     "name": "stdout",
     "output_type": "stream",
     "text": [
      "manner score: 0.389433962264 place score: 0.280754716981 height score: 0.504905660377 vowel score: 0.609811320755\n",
      "         0.00      0.02      0.02      0.04      0.04      0.06      0.06  \\\n",
      "0   78.065625  3.629224  0.839573  3.174895  1.251957  2.208909  1.631892   \n",
      "1   81.932813  0.103984  0.130759  0.309920  0.064390  0.066917  0.193844   \n",
      "2   81.610547  0.000919  0.088216  0.155386  0.019537  0.417452  0.116381   \n",
      "3   81.507422  0.102635  0.009653  0.043715  0.095052  0.314954  0.227756   \n",
      "4   80.850000  0.155503  0.197546  0.229949  0.048328  0.000701  0.013273   \n",
      "5   81.236719  0.112354  0.056141  0.004062  0.008119  0.054205  0.101333   \n",
      "6   80.772656  0.272261  0.141355  0.000662  0.071712  0.215915  0.154497   \n",
      "7   81.339844  0.121409  0.035416  0.103136  0.015159  0.099398  0.092555   \n",
      "8   81.417187  0.109337  0.133520  0.164354  0.112874  0.137802  0.280535   \n",
      "9   81.584766  0.035747  0.029262  0.073996  0.024613  0.107165  0.467060   \n",
      "10  81.816797  0.082701  0.026714  0.067038  0.000022  0.202497  0.290278   \n",
      "11  81.816797  0.043148  0.040481  0.137203  0.093773  0.334649  0.004198   \n",
      "12  81.842578  0.080063  0.007397  0.078345  0.133106  0.145127  0.336244   \n",
      "13  81.558984  0.142304  0.003092  0.203127  0.081986  0.286047  0.201826   \n",
      "14  81.842578  0.043767  0.045860  0.001146  0.046189  0.102302  0.275609   \n",
      "15  80.244141  0.242682  0.288194  0.091233  0.524947  0.619379  1.591233   \n",
      "16  80.128125  0.013354  0.082463  0.095361  0.436660  1.240996  0.902904   \n",
      "17  80.257031  0.026053  0.318464  0.338711  0.351563  1.337281  0.720145   \n",
      "18  80.025000  0.248272  0.266781  0.319002  0.065080  0.666695  1.445382   \n",
      "19  80.875781  0.511995  0.126595  0.258792  0.104275  0.901728  0.510804   \n",
      "20  81.094922  0.044643  0.069931  0.154097  0.014810  0.491317  0.292824   \n",
      "21  81.816797  0.002106  0.052432  0.088664  0.100716  0.095688  0.008307   \n",
      "22  81.816797  0.065998  0.066880  0.069005  0.100491  0.355055  0.163415   \n",
      "23  81.675000  0.022083  0.000924  0.076040  0.161339  0.026027  0.406956   \n",
      "24  81.584766  0.037907  0.005985  0.182631  0.074878  0.293651  0.220902   \n",
      "25  81.816797  0.084589  0.031135  0.047532  0.013001  0.083226  0.277647   \n",
      "26  81.855469  0.100665  0.087752  0.101074  0.105680  0.298149  0.211446   \n",
      "27  81.649219  0.005671  0.042770  0.110556  0.034905  0.449136  0.056078   \n",
      "28  81.571875  0.198412  0.050826  0.216060  0.196571  0.178606  0.184168   \n",
      "29  81.816797  0.103701  0.037753  0.080793  0.050253  0.176865  0.343708   \n",
      "30  81.558984  0.015010  0.029700  0.048523  0.002304  0.174019  0.477451   \n",
      "31  81.687891  0.132840  0.012516  0.020683  0.077854  0.084879  0.277701   \n",
      "32  81.687891  0.024933  0.044088  0.186773  0.003091  0.283203  0.055978   \n",
      "33  81.623437  0.053685  0.041981  0.024643  0.031573  0.410070  0.316243   \n",
      "34  81.623437  0.133110  0.004137  0.006643  0.090151  0.105954  0.450452   \n",
      "35  81.546094  0.084324  0.007670  0.044044  0.020444  0.194881  0.426794   \n",
      "36  81.713672  0.034576  0.058997  0.057318  0.002647  0.162256  0.344867   \n",
      "37  81.700781  0.118733  0.034284  0.007673  0.067999  0.400119  0.292292   \n",
      "38  81.636328  0.004862  0.046470  0.125762  0.016101  0.372510  0.071196   \n",
      "39  81.816797  0.022595  0.057615  0.015527  0.013180  0.137172  0.320543   \n",
      "40  81.649219  0.045668  0.038534  0.024590  0.059126  0.047290  0.474940   \n",
      "41  81.584766  0.006802  0.036447  0.011231  0.071984  0.380062  0.266149   \n",
      "42  81.649219  0.061600  0.072703  0.061811  0.055774  0.304463  0.016433   \n",
      "43  81.675000  0.072757  0.001779  0.029745  0.019679  0.454731  0.181778   \n",
      "44  81.700781  0.063337  0.066367  0.034842  0.015814  0.113170  0.413676   \n",
      "45  81.597656  0.023973  0.078721  0.112034  0.060942  0.040169  0.412085   \n",
      "46  81.700781  0.093499  0.000029  0.015926  0.025592  0.193051  0.364617   \n",
      "47  81.765234  0.029063  0.052772  0.038028  0.018154  0.385346  0.113803   \n",
      "48  81.649219  0.022339  0.064647  0.086742  0.009860  0.414118  0.124524   \n",
      "49  81.791016  0.005552  0.045816  0.087815  0.023707  0.278366  0.166339   \n",
      "\n",
      "        0.08      0.08          0.10      ...               0.40      0.42  \\\n",
      "0   1.791043  1.554317  1.512493e+00      ...       1.780078e-01  0.742287   \n",
      "1   0.161134  0.081164  5.460556e-02      ...       9.365587e-03  0.011660   \n",
      "2   0.050420  0.021393  7.966844e-03      ...       2.451943e-02  0.016823   \n",
      "3   0.076585  0.133080  4.923781e-03      ...       1.515384e-02  0.010112   \n",
      "4   0.067188  0.256212  3.208289e-01      ...       3.967326e-02  0.022098   \n",
      "5   0.054618  0.019468  2.730278e-02      ...       1.762572e-02  0.005895   \n",
      "6   0.085101  0.101109  5.945751e-01      ...       4.546152e-02  0.016520   \n",
      "7   0.022890  0.108100  3.613815e-01      ...       3.030768e-02  0.067231   \n",
      "8   0.267024  0.137330  8.531059e-02      ...       9.365587e-03  0.000571   \n",
      "9   0.032215  0.138233  1.006631e-01      ...       1.115426e-02  0.022552   \n",
      "10  0.072022  0.016151  1.839558e-02      ...       1.694251e-02  0.009922   \n",
      "11  0.051595  0.013549  7.698457e-02      ...       1.404838e-02  0.004574   \n",
      "12  0.144649  0.017490  2.824314e-02      ...       1.788668e-03  0.004154   \n",
      "13  0.084937  0.067040  4.569836e-02      ...       2.162530e-02  0.005209   \n",
      "14  0.006077  0.039573  2.331936e-02      ...       2.273076e-02  0.030197   \n",
      "15  0.432432  0.172975  3.024333e-01      ...       2.103651e-01  0.053809   \n",
      "16  0.531347  0.360346  1.355736e-01      ...       2.059432e-01  0.007688   \n",
      "17  0.186220  0.382269  1.306498e-01      ...       3.430726e-02  0.304157   \n",
      "18  0.314961  0.539577  7.089844e-02      ...       8.929565e-02  0.109270   \n",
      "19  0.493990  0.046896  1.729459e-01      ...       7.713561e-02  0.017903   \n",
      "20  0.301671  0.248483  2.140796e-01      ...       4.861660e-02  0.057351   \n",
      "21  0.147982  0.019955  2.117550e-01      ...       2.851901e-02  0.042936   \n",
      "22  0.044475  0.076088  4.816025e-02      ...       2.562488e-02  0.002698   \n",
      "23  0.129001  0.009720  4.323647e-02      ...       1.625930e-02  0.019312   \n",
      "24  0.012387  0.055247  8.190835e-02      ...       1.404838e-02  0.045668   \n",
      "25  0.040334  0.148562  6.503430e-02      ...       3.999583e-03  0.051423   \n",
      "26  0.063238  0.123632  3.773152e-02      ...       1.225971e-02  0.034634   \n",
      "27  0.085410  0.148429  1.131945e-01      ...       5.772123e-02  0.000519   \n",
      "28  0.085476  0.015728  8.531059e-02      ...       2.451943e-02  0.006310   \n",
      "29  0.153163  0.067480  2.085747e-02      ...       2.451943e-02  0.024008   \n",
      "30  0.073811  0.097530  9.936357e-02      ...       8.777701e-16  0.022761   \n",
      "31  0.005859  0.025451  2.730278e-02      ...       1.047104e-02  0.041326   \n",
      "32  0.101908  0.032926  2.237900e-02      ...       2.562488e-02  0.013368   \n",
      "33  0.112275  0.088445  4.910061e-02      ...       1.336517e-02  0.006552   \n",
      "34  0.137782  0.056309  1.781441e-02      ...       8.326673e-17  0.033517   \n",
      "35  0.088610  0.030814  3.773152e-02      ...       2.894126e-03  0.011665   \n",
      "36  0.097642  0.104523  1.289062e-02      ...       1.515384e-02  0.003947   \n",
      "37  0.014377  0.075971  1.131945e-01      ...       6.471462e-03  0.000782   \n",
      "38  0.045433  0.128979  1.349924e-01      ...       3.577336e-03  0.000955   \n",
      "39  0.070688  0.090403  7.026486e-03      ...       1.804796e-02  0.022208   \n",
      "40  0.029826  0.165291  6.105088e-02      ...       1.404838e-02  0.007967   \n",
      "41  0.022906  0.108981  7.944646e-02      ...       1.225971e-02  0.018999   \n",
      "42  0.005358  0.093262  2.475450e-15      ...       3.388501e-02  0.005499   \n",
      "43  0.133920  0.062289  6.351277e-02      ...       1.804796e-02  0.004172   \n",
      "44  0.083950  0.107451  5.864139e-03      ...       1.225971e-02  0.051321   \n",
      "45  0.088552  0.027195  1.289063e-02      ...       9.365587e-03  0.028085   \n",
      "46  0.014518  0.067355  1.441216e-02      ...       1.404838e-02  0.002352   \n",
      "47  0.010755  0.133750  5.612710e-02      ...       2.562488e-02  0.005648   \n",
      "48  0.075669  0.092725  6.105088e-02      ...       1.983663e-02  0.002461   \n",
      "49  0.026417  0.116147  8.589177e-02      ...       2.273076e-02  0.009177   \n",
      "\n",
      "        0.42      0.44      0.44      0.46      0.46      0.48      0.48  \\\n",
      "0   0.125555  0.753068  0.092526  0.764743  0.069400  0.730824  0.037105   \n",
      "1   0.015946  0.037619  0.010678  0.001343  0.029746  0.004828  0.007180   \n",
      "2   0.012797  0.011548  0.019708  0.006258  0.009121  0.018506  0.011735   \n",
      "3   0.014335  0.002464  0.014348  0.049805  0.025473  0.021054  0.006622   \n",
      "4   0.079969  0.000825  0.015470  0.010057  0.069636  0.000806  0.010587   \n",
      "5   0.038731  0.018687  0.096491  0.023543  0.011519  0.020488  0.004349   \n",
      "6   0.079411  0.000383  0.027955  0.012289  0.080277  0.036481  0.097544   \n",
      "7   0.020507  0.025171  0.014079  0.026889  0.047625  0.088747  0.018915   \n",
      "8   0.044256  0.017152  0.045372  0.020269  0.012779  0.036456  0.030475   \n",
      "9   0.023883  0.061379  0.007736  0.016346  0.012764  0.000973  0.003214   \n",
      "10  0.039747  0.000527  0.016881  0.019420  0.019347  0.024917  0.008268   \n",
      "11  0.007093  0.005222  0.028874  0.001440  0.012493  0.008853  0.008523   \n",
      "12  0.010112  0.004939  0.014264  0.012279  0.037207  0.002510  0.000296   \n",
      "13  0.013693  0.024855  0.018825  0.029012  0.000061  0.008217  0.003190   \n",
      "14  0.024372  0.032106  0.010731  0.000151  0.006202  0.036998  0.010043   \n",
      "15  0.177026  0.042826  0.019773  0.200433  0.024942  0.110749  0.181988   \n",
      "16  0.113000  0.001962  0.064952  0.042315  0.169154  0.035166  0.167655   \n",
      "17  0.256698  0.109889  0.030667  0.229572  0.053574  0.366612  0.045522   \n",
      "18  0.103724  0.190253  0.124882  0.094245  0.071422  0.040630  0.230687   \n",
      "19  0.111716  0.029351  0.058566  0.018665  0.118035  0.097815  0.044864   \n",
      "20  0.008033  0.020627  0.137689  0.042016  0.020462  0.073378  0.082759   \n",
      "21  0.073450  0.015410  0.008083  0.050110  0.064539  0.099768  0.014819   \n",
      "22  0.035490  0.006749  0.038059  0.030981  0.021885  0.018695  0.001104   \n",
      "23  0.019282  0.040490  0.039842  0.016725  0.002954  0.004961  0.002648   \n",
      "24  0.017419  0.037721  0.010751  0.001135  0.027927  0.012442  0.022322   \n",
      "25  0.015947  0.007448  0.021864  0.008130  0.003852  0.004849  0.006894   \n",
      "26  0.008483  0.030932  0.009011  0.034329  0.037338  0.031447  0.019002   \n",
      "27  0.009261  0.005641  0.033760  0.004003  0.035078  0.000451  0.037858   \n",
      "28  0.006245  0.009259  0.002172  0.029581  0.027578  0.023954  0.025674   \n",
      "29  0.044149  0.036244  0.013067  0.012578  0.006631  0.031699  0.006242   \n",
      "30  0.030002  0.004682  0.025756  0.040819  0.016180  0.021321  0.017052   \n",
      "31  0.021691  0.004687  0.000352  0.028028  0.002975  0.021691  0.035054   \n",
      "32  0.017121  0.011953  0.009226  0.008191  0.014959  0.002111  0.001189   \n",
      "33  0.014019  0.003299  0.013330  0.013081  0.010112  0.021275  0.033599   \n",
      "34  0.044200  0.007638  0.001611  0.049646  0.020038  0.029912  0.019321   \n",
      "35  0.013218  0.018232  0.016273  0.012902  0.003881  0.020217  0.019341   \n",
      "36  0.021098  0.001383  0.029152  0.014600  0.006391  0.036698  0.004359   \n",
      "37  0.019276  0.001831  0.016055  0.025304  0.006879  0.008687  0.012711   \n",
      "38  0.005717  0.001152  0.020458  0.006407  0.003950  0.011297  0.013420   \n",
      "39  0.004081  0.000632  0.008116  0.009034  0.016481  0.019174  0.004519   \n",
      "40  0.045638  0.005085  0.011292  0.026163  0.029902  0.030779  0.010862   \n",
      "41  0.004098  0.003968  0.002287  0.002633  0.004766  0.020090  0.014052   \n",
      "42  0.007522  0.004283  0.022373  0.030000  0.005407  0.014467  0.013366   \n",
      "43  0.009041  0.032007  0.010935  0.020818  0.006697  0.028993  0.014633   \n",
      "44  0.002206  0.006955  0.031442  0.033271  0.033599  0.013259  0.004738   \n",
      "45  0.007976  0.014104  0.005577  0.017061  0.027441  0.015384  0.000824   \n",
      "46  0.024434  0.006352  0.001916  0.025134  0.030779  0.008247  0.009994   \n",
      "47  0.014781  0.015461  0.020934  0.001104  0.007898  0.015376  0.006330   \n",
      "48  0.009692  0.000268  0.005816  0.017852  0.046904  0.001929  0.009794   \n",
      "49  0.008751  0.006289  0.024824  0.046063  0.018670  0.039498  0.003015   \n",
      "\n",
      "            0.50  \n",
      "0   7.476562e-01  \n",
      "1   2.578125e-02  \n",
      "2   3.867187e-02  \n",
      "3   1.289062e-02  \n",
      "4   2.578125e-02  \n",
      "5   5.156250e-02  \n",
      "6   5.156250e-02  \n",
      "7   7.734375e-02  \n",
      "8   1.031250e-01  \n",
      "9   1.289062e-02  \n",
      "10  1.289063e-02  \n",
      "11  1.289062e-02  \n",
      "12  1.289062e-02  \n",
      "13  3.867188e-02  \n",
      "14  6.445313e-02  \n",
      "15  1.289063e-02  \n",
      "16  2.578125e-02  \n",
      "17  2.578125e-02  \n",
      "18  2.578125e-02  \n",
      "19  7.105427e-15  \n",
      "20  6.445313e-02  \n",
      "21  1.289062e-02  \n",
      "22  1.289063e-02  \n",
      "23  0.000000e+00  \n",
      "24  3.867187e-02  \n",
      "25  1.289063e-02  \n",
      "26  0.000000e+00  \n",
      "27  0.000000e+00  \n",
      "28  1.031250e-01  \n",
      "29  3.867187e-02  \n",
      "30  1.289063e-02  \n",
      "31  1.289063e-02  \n",
      "32  3.867188e-02  \n",
      "33  2.578125e-02  \n",
      "34  0.000000e+00  \n",
      "35  7.105427e-15  \n",
      "36  1.289062e-02  \n",
      "37  0.000000e+00  \n",
      "38  1.289063e-02  \n",
      "39  1.289062e-02  \n",
      "40  7.105427e-15  \n",
      "41  1.289062e-02  \n",
      "42  0.000000e+00  \n",
      "43  2.578125e-02  \n",
      "44  2.578125e-02  \n",
      "45  5.156250e-02  \n",
      "46  0.000000e+00  \n",
      "47  1.289062e-02  \n",
      "48  0.000000e+00  \n",
      "49  1.289062e-02  \n",
      "\n",
      "[50 rows x 50 columns] DH    voiced-fricative\n",
      "AH               vowel\n",
      "F            fricative\n",
      "AE               vowel\n",
      "M                nasal\n",
      "AH               vowel\n",
      "L          approximant\n",
      "IY               vowel\n",
      "AH               vowel\n",
      "V     voiced-fricative\n",
      "D          voiced-stop\n",
      "AE               vowel\n",
      "SH           fricative\n",
      "W          approximant\n",
      "UH               vowel\n",
      "D          voiced-stop\n",
      "HH           aspirated\n",
      "AE               vowel\n",
      "D          voiced-stop\n",
      "L          approximant\n",
      "AO               vowel\n",
      "NG               nasal\n",
      "B          voiced-stop\n",
      "IH               vowel\n",
      "N                nasal\n",
      "S            fricative\n",
      "EH               vowel\n",
      "T                 stop\n",
      "AH               vowel\n",
      "L          approximant\n",
      "D          voiced-stop\n",
      "IH               vowel\n",
      "N                nasal\n",
      "S            fricative\n",
      "AH               vowel\n",
      "S            fricative\n",
      "IH               vowel\n",
      "K                 stop\n",
      "S            fricative\n",
      "DH    voiced-fricative\n",
      "AH               vowel\n",
      "F            fricative\n",
      "AE               vowel\n",
      "M                nasal\n",
      "AH               vowel\n",
      "L          approximant\n",
      "IY               vowel\n",
      "AH               vowel\n",
      "V     voiced-fricative\n",
      "D          voiced-stop\n",
      "Name: manner, dtype: object\n"
     ]
    }
   ],
   "source": [
    "from sklearn.neural_network import MLPClassifier as MLPC\n",
    "# Import other models to try for feature extraction\n",
    "from sklearn.feature_extraction import DictVectorizer\n",
    "from sklearn.model_selection import GridSearchCV\n",
    "import copy\n",
    "\n",
    "param_grid = {\n",
    "    'solver':['adam'],\n",
    "    'hidden_layer_sizes':layer_sizes,\n",
    "    'activation':['logistic'],\n",
    "    'alpha': alphas,\n",
    "    'max_iter':[200],\n",
    "    'beta_1':[((10000-n)/10000) for n in range(2,2000,400)],\n",
    "    'beta_2':[((10000-n)/10000) for n in range(2,80,20)]\n",
    "}\n",
    "grid_search = GridSearchCV(MLPC(), param_grid, n_jobs=-1)\n",
    "# vectorizer = DictVectorizer()\n",
    "# trans_aligned_labels = vectorizer.fit_transform([item[1] for item in aligned_labels.iterrows()])\n",
    "# print(trans_aligned_labels)\n",
    "# TODO: Implement feature vectorization to use multioutput classification of MLPC\n",
    "manner_classifier = MLPC(solver='adam',hidden_layer_sizes=(21,21),random_state=3)\n",
    "manner_classifier.fit(aligned_data, trans_labels['manner'])\n",
    "m_score = manner_classifier.score(aligned_data, trans_labels['manner'])\n",
    "\n",
    "place_classifier = MLPC(solver='adam',hidden_layer_sizes=(30,30),random_state=6)\n",
    "place_classifier.fit(aligned_data, trans_labels['place'])\n",
    "p_score = place_classifier.score(aligned_data, trans_labels['place'])\n",
    "\n",
    "height_classifier = MLPC(solver='adam',hidden_layer_sizes=(30,30),random_state=9)\n",
    "height_classifier.fit(aligned_data, trans_labels['height'])\n",
    "h_score = height_classifier.score(aligned_data, trans_labels['height'])\n",
    "\n",
    "vowel_classifier = MLPC(solver='adam',hidden_layer_sizes=(30,30),random_state=12)\n",
    "vowel_classifier.fit(aligned_data, trans_labels['vowel'])\n",
    "v_score = vowel_classifier.score(aligned_data, trans_labels['vowel'])\n",
    "\n",
    "print('manner score:',m_score,'place score:',p_score,'height score:',h_score,'vowel score:',v_score)\n",
    "print(data_1_proc.head(50), trans_labels['manner'].head(50))"
   ]
  },
  {
   "cell_type": "code",
   "execution_count": 60,
   "metadata": {
    "collapsed": false
   },
   "outputs": [
    {
     "name": "stderr",
     "output_type": "stream",
     "text": [
      "/home/brian/anaconda3/lib/python3.6/site-packages/sklearn/neural_network/multilayer_perceptron.py:565: UserWarning: Training interrupted by user.\n",
      "  warnings.warn(\"Training interrupted by user.\")\n",
      "/home/brian/anaconda3/lib/python3.6/site-packages/sklearn/neural_network/multilayer_perceptron.py:565: UserWarning: Training interrupted by user.\n",
      "  warnings.warn(\"Training interrupted by user.\")\n",
      "/home/brian/anaconda3/lib/python3.6/site-packages/sklearn/neural_network/multilayer_perceptron.py:565: UserWarning: Training interrupted by user.\n",
      "  warnings.warn(\"Training interrupted by user.\")\n",
      "/home/brian/anaconda3/lib/python3.6/site-packages/sklearn/neural_network/multilayer_perceptron.py:565: UserWarning: Training interrupted by user.\n",
      "  warnings.warn(\"Training interrupted by user.\")\n",
      "/home/brian/anaconda3/lib/python3.6/site-packages/sklearn/neural_network/multilayer_perceptron.py:565: UserWarning: Training interrupted by user.\n",
      "  warnings.warn(\"Training interrupted by user.\")\n"
     ]
    },
    {
     "ename": "KeyboardInterrupt",
     "evalue": "",
     "output_type": "error",
     "traceback": [
      "\u001b[0;31m---------------------------------------------------------------------------\u001b[0m",
      "\u001b[0;31mKeyboardInterrupt\u001b[0m                         Traceback (most recent call last)",
      "\u001b[0;32m<ipython-input-60-679518bbc656>\u001b[0m in \u001b[0;36m<module>\u001b[0;34m()\u001b[0m\n\u001b[1;32m      1\u001b[0m \u001b[0mmanner_classifier2\u001b[0m \u001b[0;34m=\u001b[0m \u001b[0mgrid_search\u001b[0m\u001b[0;34m\u001b[0m\u001b[0m\n\u001b[0;32m----> 2\u001b[0;31m \u001b[0mmanner_classifier2\u001b[0m\u001b[0;34m.\u001b[0m\u001b[0mfit\u001b[0m\u001b[0;34m(\u001b[0m\u001b[0maligned_data\u001b[0m\u001b[0;34m,\u001b[0m \u001b[0mtrans_labels\u001b[0m\u001b[0;34m[\u001b[0m\u001b[0;34m'manner'\u001b[0m\u001b[0;34m]\u001b[0m\u001b[0;34m)\u001b[0m\u001b[0;34m\u001b[0m\u001b[0m\n\u001b[0m\u001b[1;32m      3\u001b[0m \u001b[0mm_score2\u001b[0m \u001b[0;34m=\u001b[0m \u001b[0mmanner_classifier2\u001b[0m\u001b[0;34m.\u001b[0m\u001b[0mscore\u001b[0m\u001b[0;34m(\u001b[0m\u001b[0maligned_data\u001b[0m\u001b[0;34m,\u001b[0m \u001b[0mtrans_labels\u001b[0m\u001b[0;34m[\u001b[0m\u001b[0;34m'manner'\u001b[0m\u001b[0;34m]\u001b[0m\u001b[0;34m)\u001b[0m\u001b[0;34m\u001b[0m\u001b[0m\n\u001b[1;32m      4\u001b[0m \u001b[0;34m\u001b[0m\u001b[0m\n\u001b[1;32m      5\u001b[0m \u001b[0mprint\u001b[0m\u001b[0;34m(\u001b[0m\u001b[0;34m'manner score:'\u001b[0m\u001b[0;34m,\u001b[0m\u001b[0mm_score2\u001b[0m\u001b[0;34m)\u001b[0m\u001b[0;34m\u001b[0m\u001b[0m\n",
      "\u001b[0;32m/home/brian/anaconda3/lib/python3.6/site-packages/sklearn/model_selection/_search.py\u001b[0m in \u001b[0;36mfit\u001b[0;34m(self, X, y, groups)\u001b[0m\n\u001b[1;32m    943\u001b[0m             \u001b[0mtrain\u001b[0m\u001b[0;34m/\u001b[0m\u001b[0mtest\u001b[0m \u001b[0mset\u001b[0m\u001b[0;34m.\u001b[0m\u001b[0;34m\u001b[0m\u001b[0m\n\u001b[1;32m    944\u001b[0m         \"\"\"\n\u001b[0;32m--> 945\u001b[0;31m         \u001b[0;32mreturn\u001b[0m \u001b[0mself\u001b[0m\u001b[0;34m.\u001b[0m\u001b[0m_fit\u001b[0m\u001b[0;34m(\u001b[0m\u001b[0mX\u001b[0m\u001b[0;34m,\u001b[0m \u001b[0my\u001b[0m\u001b[0;34m,\u001b[0m \u001b[0mgroups\u001b[0m\u001b[0;34m,\u001b[0m \u001b[0mParameterGrid\u001b[0m\u001b[0;34m(\u001b[0m\u001b[0mself\u001b[0m\u001b[0;34m.\u001b[0m\u001b[0mparam_grid\u001b[0m\u001b[0;34m)\u001b[0m\u001b[0;34m)\u001b[0m\u001b[0;34m\u001b[0m\u001b[0m\n\u001b[0m\u001b[1;32m    946\u001b[0m \u001b[0;34m\u001b[0m\u001b[0m\n\u001b[1;32m    947\u001b[0m \u001b[0;34m\u001b[0m\u001b[0m\n",
      "\u001b[0;32m/home/brian/anaconda3/lib/python3.6/site-packages/sklearn/model_selection/_search.py\u001b[0m in \u001b[0;36m_fit\u001b[0;34m(self, X, y, groups, parameter_iterable)\u001b[0m\n\u001b[1;32m    562\u001b[0m                                   \u001b[0mreturn_times\u001b[0m\u001b[0;34m=\u001b[0m\u001b[0;32mTrue\u001b[0m\u001b[0;34m,\u001b[0m \u001b[0mreturn_parameters\u001b[0m\u001b[0;34m=\u001b[0m\u001b[0;32mTrue\u001b[0m\u001b[0;34m,\u001b[0m\u001b[0;34m\u001b[0m\u001b[0m\n\u001b[1;32m    563\u001b[0m                                   error_score=self.error_score)\n\u001b[0;32m--> 564\u001b[0;31m           \u001b[0;32mfor\u001b[0m \u001b[0mparameters\u001b[0m \u001b[0;32min\u001b[0m \u001b[0mparameter_iterable\u001b[0m\u001b[0;34m\u001b[0m\u001b[0m\n\u001b[0m\u001b[1;32m    565\u001b[0m           for train, test in cv_iter)\n\u001b[1;32m    566\u001b[0m \u001b[0;34m\u001b[0m\u001b[0m\n",
      "\u001b[0;32m/home/brian/anaconda3/lib/python3.6/site-packages/sklearn/externals/joblib/parallel.py\u001b[0m in \u001b[0;36m__call__\u001b[0;34m(self, iterable)\u001b[0m\n\u001b[1;32m    766\u001b[0m                 \u001b[0;31m# consumption.\u001b[0m\u001b[0;34m\u001b[0m\u001b[0;34m\u001b[0m\u001b[0m\n\u001b[1;32m    767\u001b[0m                 \u001b[0mself\u001b[0m\u001b[0;34m.\u001b[0m\u001b[0m_iterating\u001b[0m \u001b[0;34m=\u001b[0m \u001b[0;32mFalse\u001b[0m\u001b[0;34m\u001b[0m\u001b[0m\n\u001b[0;32m--> 768\u001b[0;31m             \u001b[0mself\u001b[0m\u001b[0;34m.\u001b[0m\u001b[0mretrieve\u001b[0m\u001b[0;34m(\u001b[0m\u001b[0;34m)\u001b[0m\u001b[0;34m\u001b[0m\u001b[0m\n\u001b[0m\u001b[1;32m    769\u001b[0m             \u001b[0;31m# Make sure that we get a last message telling us we are done\u001b[0m\u001b[0;34m\u001b[0m\u001b[0;34m\u001b[0m\u001b[0m\n\u001b[1;32m    770\u001b[0m             \u001b[0melapsed_time\u001b[0m \u001b[0;34m=\u001b[0m \u001b[0mtime\u001b[0m\u001b[0;34m.\u001b[0m\u001b[0mtime\u001b[0m\u001b[0;34m(\u001b[0m\u001b[0;34m)\u001b[0m \u001b[0;34m-\u001b[0m \u001b[0mself\u001b[0m\u001b[0;34m.\u001b[0m\u001b[0m_start_time\u001b[0m\u001b[0;34m\u001b[0m\u001b[0m\n",
      "\u001b[0;32m/home/brian/anaconda3/lib/python3.6/site-packages/sklearn/externals/joblib/parallel.py\u001b[0m in \u001b[0;36mretrieve\u001b[0;34m(self)\u001b[0m\n\u001b[1;32m    717\u001b[0m                     \u001b[0mensure_ready\u001b[0m \u001b[0;34m=\u001b[0m \u001b[0mself\u001b[0m\u001b[0;34m.\u001b[0m\u001b[0m_managed_backend\u001b[0m\u001b[0;34m\u001b[0m\u001b[0m\n\u001b[1;32m    718\u001b[0m                     \u001b[0mbackend\u001b[0m\u001b[0;34m.\u001b[0m\u001b[0mabort_everything\u001b[0m\u001b[0;34m(\u001b[0m\u001b[0mensure_ready\u001b[0m\u001b[0;34m=\u001b[0m\u001b[0mensure_ready\u001b[0m\u001b[0;34m)\u001b[0m\u001b[0;34m\u001b[0m\u001b[0m\n\u001b[0;32m--> 719\u001b[0;31m                 \u001b[0;32mraise\u001b[0m \u001b[0mexception\u001b[0m\u001b[0;34m\u001b[0m\u001b[0m\n\u001b[0m\u001b[1;32m    720\u001b[0m \u001b[0;34m\u001b[0m\u001b[0m\n\u001b[1;32m    721\u001b[0m     \u001b[0;32mdef\u001b[0m \u001b[0m__call__\u001b[0m\u001b[0;34m(\u001b[0m\u001b[0mself\u001b[0m\u001b[0;34m,\u001b[0m \u001b[0miterable\u001b[0m\u001b[0;34m)\u001b[0m\u001b[0;34m:\u001b[0m\u001b[0;34m\u001b[0m\u001b[0m\n",
      "\u001b[0;32m/home/brian/anaconda3/lib/python3.6/site-packages/sklearn/externals/joblib/parallel.py\u001b[0m in \u001b[0;36mretrieve\u001b[0;34m(self)\u001b[0m\n\u001b[1;32m    680\u001b[0m                 \u001b[0;31m# check if timeout supported in backend future implementation\u001b[0m\u001b[0;34m\u001b[0m\u001b[0;34m\u001b[0m\u001b[0m\n\u001b[1;32m    681\u001b[0m                 \u001b[0;32mif\u001b[0m \u001b[0;34m'timeout'\u001b[0m \u001b[0;32min\u001b[0m \u001b[0mgetfullargspec\u001b[0m\u001b[0;34m(\u001b[0m\u001b[0mjob\u001b[0m\u001b[0;34m.\u001b[0m\u001b[0mget\u001b[0m\u001b[0;34m)\u001b[0m\u001b[0;34m.\u001b[0m\u001b[0margs\u001b[0m\u001b[0;34m:\u001b[0m\u001b[0;34m\u001b[0m\u001b[0m\n\u001b[0;32m--> 682\u001b[0;31m                     \u001b[0mself\u001b[0m\u001b[0;34m.\u001b[0m\u001b[0m_output\u001b[0m\u001b[0;34m.\u001b[0m\u001b[0mextend\u001b[0m\u001b[0;34m(\u001b[0m\u001b[0mjob\u001b[0m\u001b[0;34m.\u001b[0m\u001b[0mget\u001b[0m\u001b[0;34m(\u001b[0m\u001b[0mtimeout\u001b[0m\u001b[0;34m=\u001b[0m\u001b[0mself\u001b[0m\u001b[0;34m.\u001b[0m\u001b[0mtimeout\u001b[0m\u001b[0;34m)\u001b[0m\u001b[0;34m)\u001b[0m\u001b[0;34m\u001b[0m\u001b[0m\n\u001b[0m\u001b[1;32m    683\u001b[0m                 \u001b[0;32melse\u001b[0m\u001b[0;34m:\u001b[0m\u001b[0;34m\u001b[0m\u001b[0m\n\u001b[1;32m    684\u001b[0m                     \u001b[0mself\u001b[0m\u001b[0;34m.\u001b[0m\u001b[0m_output\u001b[0m\u001b[0;34m.\u001b[0m\u001b[0mextend\u001b[0m\u001b[0;34m(\u001b[0m\u001b[0mjob\u001b[0m\u001b[0;34m.\u001b[0m\u001b[0mget\u001b[0m\u001b[0;34m(\u001b[0m\u001b[0;34m)\u001b[0m\u001b[0;34m)\u001b[0m\u001b[0;34m\u001b[0m\u001b[0m\n",
      "\u001b[0;32m/home/brian/anaconda3/lib/python3.6/multiprocessing/pool.py\u001b[0m in \u001b[0;36mget\u001b[0;34m(self, timeout)\u001b[0m\n\u001b[1;32m    600\u001b[0m \u001b[0;34m\u001b[0m\u001b[0m\n\u001b[1;32m    601\u001b[0m     \u001b[0;32mdef\u001b[0m \u001b[0mget\u001b[0m\u001b[0;34m(\u001b[0m\u001b[0mself\u001b[0m\u001b[0;34m,\u001b[0m \u001b[0mtimeout\u001b[0m\u001b[0;34m=\u001b[0m\u001b[0;32mNone\u001b[0m\u001b[0;34m)\u001b[0m\u001b[0;34m:\u001b[0m\u001b[0;34m\u001b[0m\u001b[0m\n\u001b[0;32m--> 602\u001b[0;31m         \u001b[0mself\u001b[0m\u001b[0;34m.\u001b[0m\u001b[0mwait\u001b[0m\u001b[0;34m(\u001b[0m\u001b[0mtimeout\u001b[0m\u001b[0;34m)\u001b[0m\u001b[0;34m\u001b[0m\u001b[0m\n\u001b[0m\u001b[1;32m    603\u001b[0m         \u001b[0;32mif\u001b[0m \u001b[0;32mnot\u001b[0m \u001b[0mself\u001b[0m\u001b[0;34m.\u001b[0m\u001b[0mready\u001b[0m\u001b[0;34m(\u001b[0m\u001b[0;34m)\u001b[0m\u001b[0;34m:\u001b[0m\u001b[0;34m\u001b[0m\u001b[0m\n\u001b[1;32m    604\u001b[0m             \u001b[0;32mraise\u001b[0m \u001b[0mTimeoutError\u001b[0m\u001b[0;34m\u001b[0m\u001b[0m\n",
      "\u001b[0;32m/home/brian/anaconda3/lib/python3.6/multiprocessing/pool.py\u001b[0m in \u001b[0;36mwait\u001b[0;34m(self, timeout)\u001b[0m\n\u001b[1;32m    597\u001b[0m \u001b[0;34m\u001b[0m\u001b[0m\n\u001b[1;32m    598\u001b[0m     \u001b[0;32mdef\u001b[0m \u001b[0mwait\u001b[0m\u001b[0;34m(\u001b[0m\u001b[0mself\u001b[0m\u001b[0;34m,\u001b[0m \u001b[0mtimeout\u001b[0m\u001b[0;34m=\u001b[0m\u001b[0;32mNone\u001b[0m\u001b[0;34m)\u001b[0m\u001b[0;34m:\u001b[0m\u001b[0;34m\u001b[0m\u001b[0m\n\u001b[0;32m--> 599\u001b[0;31m         \u001b[0mself\u001b[0m\u001b[0;34m.\u001b[0m\u001b[0m_event\u001b[0m\u001b[0;34m.\u001b[0m\u001b[0mwait\u001b[0m\u001b[0;34m(\u001b[0m\u001b[0mtimeout\u001b[0m\u001b[0;34m)\u001b[0m\u001b[0;34m\u001b[0m\u001b[0m\n\u001b[0m\u001b[1;32m    600\u001b[0m \u001b[0;34m\u001b[0m\u001b[0m\n\u001b[1;32m    601\u001b[0m     \u001b[0;32mdef\u001b[0m \u001b[0mget\u001b[0m\u001b[0;34m(\u001b[0m\u001b[0mself\u001b[0m\u001b[0;34m,\u001b[0m \u001b[0mtimeout\u001b[0m\u001b[0;34m=\u001b[0m\u001b[0;32mNone\u001b[0m\u001b[0;34m)\u001b[0m\u001b[0;34m:\u001b[0m\u001b[0;34m\u001b[0m\u001b[0m\n",
      "\u001b[0;32m/home/brian/anaconda3/lib/python3.6/threading.py\u001b[0m in \u001b[0;36mwait\u001b[0;34m(self, timeout)\u001b[0m\n\u001b[1;32m    549\u001b[0m             \u001b[0msignaled\u001b[0m \u001b[0;34m=\u001b[0m \u001b[0mself\u001b[0m\u001b[0;34m.\u001b[0m\u001b[0m_flag\u001b[0m\u001b[0;34m\u001b[0m\u001b[0m\n\u001b[1;32m    550\u001b[0m             \u001b[0;32mif\u001b[0m \u001b[0;32mnot\u001b[0m \u001b[0msignaled\u001b[0m\u001b[0;34m:\u001b[0m\u001b[0;34m\u001b[0m\u001b[0m\n\u001b[0;32m--> 551\u001b[0;31m                 \u001b[0msignaled\u001b[0m \u001b[0;34m=\u001b[0m \u001b[0mself\u001b[0m\u001b[0;34m.\u001b[0m\u001b[0m_cond\u001b[0m\u001b[0;34m.\u001b[0m\u001b[0mwait\u001b[0m\u001b[0;34m(\u001b[0m\u001b[0mtimeout\u001b[0m\u001b[0;34m)\u001b[0m\u001b[0;34m\u001b[0m\u001b[0m\n\u001b[0m\u001b[1;32m    552\u001b[0m             \u001b[0;32mreturn\u001b[0m \u001b[0msignaled\u001b[0m\u001b[0;34m\u001b[0m\u001b[0m\n\u001b[1;32m    553\u001b[0m \u001b[0;34m\u001b[0m\u001b[0m\n",
      "\u001b[0;32m/home/brian/anaconda3/lib/python3.6/threading.py\u001b[0m in \u001b[0;36mwait\u001b[0;34m(self, timeout)\u001b[0m\n\u001b[1;32m    293\u001b[0m         \u001b[0;32mtry\u001b[0m\u001b[0;34m:\u001b[0m    \u001b[0;31m# restore state no matter what (e.g., KeyboardInterrupt)\u001b[0m\u001b[0;34m\u001b[0m\u001b[0m\n\u001b[1;32m    294\u001b[0m             \u001b[0;32mif\u001b[0m \u001b[0mtimeout\u001b[0m \u001b[0;32mis\u001b[0m \u001b[0;32mNone\u001b[0m\u001b[0;34m:\u001b[0m\u001b[0;34m\u001b[0m\u001b[0m\n\u001b[0;32m--> 295\u001b[0;31m                 \u001b[0mwaiter\u001b[0m\u001b[0;34m.\u001b[0m\u001b[0macquire\u001b[0m\u001b[0;34m(\u001b[0m\u001b[0;34m)\u001b[0m\u001b[0;34m\u001b[0m\u001b[0m\n\u001b[0m\u001b[1;32m    296\u001b[0m                 \u001b[0mgotit\u001b[0m \u001b[0;34m=\u001b[0m \u001b[0;32mTrue\u001b[0m\u001b[0;34m\u001b[0m\u001b[0m\n\u001b[1;32m    297\u001b[0m             \u001b[0;32melse\u001b[0m\u001b[0;34m:\u001b[0m\u001b[0;34m\u001b[0m\u001b[0m\n",
      "\u001b[0;31mKeyboardInterrupt\u001b[0m: "
     ]
    }
   ],
   "source": [
    "manner_classifier2 = grid_search\n",
    "manner_classifier2.fit(aligned_data, trans_labels['manner'])\n",
    "m_score2 = manner_classifier2.score(aligned_data, trans_labels['manner'])\n",
    "\n",
    "print('manner score:',m_score2)"
   ]
  },
  {
   "cell_type": "code",
   "execution_count": 74,
   "metadata": {
    "collapsed": false
   },
   "outputs": [
    {
     "name": "stdout",
     "output_type": "stream",
     "text": [
      "place score: 0.280566037736\n"
     ]
    }
   ],
   "source": [
    "place_classifier2 = MLPC(solver='adam',hidden_layer_sizes=(1),random_state=6, max_iter=300)\n",
    "place_classifier2.fit(aligned_data, trans_labels['place'])\n",
    "p_score2 = place_classifier2.score(aligned_data, trans_labels['place'])\n",
    "\n",
    "print('place score:',p_score2)"
   ]
  },
  {
   "cell_type": "code",
   "execution_count": 83,
   "metadata": {
    "collapsed": false
   },
   "outputs": [
    {
     "name": "stdout",
     "output_type": "stream",
     "text": [
      "height score: 0.532051282051\n"
     ]
    }
   ],
   "source": [
    "height_classifier2 = MLPC(solver='lbfgs',hidden_layer_sizes=(60,60),random_state=9)\n",
    "height_classifier2.fit(aligned_data, trans_labels['height'])\n",
    "h_score2 = height_classifier2.score(aligned_data, trans_labels['height'])\n",
    "\n",
    "print('height score:',h_score2)"
   ]
  },
  {
   "cell_type": "code",
   "execution_count": 84,
   "metadata": {
    "collapsed": false
   },
   "outputs": [
    {
     "name": "stdout",
     "output_type": "stream",
     "text": [
      "vowel score: 0.647435897436\n"
     ]
    }
   ],
   "source": [
    "vowel_classifier2 = MLPC(solver='lbfgs',hidden_layer_sizes=(240,240,240),random_state=12)\n",
    "vowel_classifier2.fit(aligned_data, trans_labels['vowel'])\n",
    "v_score2 = vowel_classifier2.score(aligned_data, trans_labels['vowel'])\n",
    "\n",
    "print('vowel score:',v_score2)"
   ]
  },
  {
   "cell_type": "code",
   "execution_count": 66,
   "metadata": {
    "collapsed": false
   },
   "outputs": [
    {
     "name": "stdout",
     "output_type": "stream",
     "text": [
      "    0.000000  0.033333  0.033333  0.066667  0.066667  0.100000  0.100000  \\\n",
      "0  48.133594  0.184898  0.521387  0.658988  0.484811  0.207412  0.830928   \n",
      "1  48.391406  0.434197  0.334258  0.323602  0.734820  0.048160  0.231146   \n",
      "2  48.017578  0.087168  0.253308  0.201288  1.038683  0.474576  0.374263   \n",
      "3  48.417187  0.001295  0.219229  0.280249  0.731593  0.085533  0.095184   \n",
      "4  48.120703  0.063312  0.076657  0.783632  0.326545  0.120802  0.117231   \n",
      "\n",
      "   0.133333  0.133333  0.166667    ...     0.333333  0.366667  0.366667  \\\n",
      "0  0.343484  0.126331  0.251367    ...     0.256763  0.126939  0.047097   \n",
      "1  0.099682  0.464614  0.045117    ...     0.100472  0.059356  0.001035   \n",
      "2  0.594198  0.037230  0.315820    ...     0.033491  0.175025  0.098646   \n",
      "3  0.330538  0.124166  0.154687    ...     0.044654  0.026136  0.052012   \n",
      "4  0.628709  0.007656  0.296484    ...     0.111636  0.072937  0.092085   \n",
      "\n",
      "   0.400000  0.400000  0.433333  0.433333  0.466667  0.466667  0.500000  \n",
      "0  0.047357  0.119020  0.074875  0.004445  0.017760  0.082136  0.154688  \n",
      "1  0.024704  0.037201  0.026500  0.012870  0.014149  0.010682  0.051563  \n",
      "2  0.026722  0.154433  0.078155  0.018045  0.182913  0.094629  0.012891  \n",
      "3  0.014993  0.013626  0.087315  0.109835  0.015850  0.089193  0.232031  \n",
      "4  0.021883  0.020520  0.006652  0.089282  0.022458  0.084795  0.064453  \n",
      "\n",
      "[5 rows x 30 columns] DH    voiced-fricative\n",
      "AH               vowel\n",
      "F            fricative\n",
      "AE               vowel\n",
      "M                nasal\n",
      "Name: manner, dtype: object\n"
     ]
    },
    {
     "ename": "InvalidIndexError",
     "evalue": "Reindexing only valid with uniquely valued Index objects",
     "output_type": "error",
     "traceback": [
      "\u001b[0;31m---------------------------------------------------------------------------\u001b[0m",
      "\u001b[0;31mInvalidIndexError\u001b[0m                         Traceback (most recent call last)",
      "\u001b[0;32m<ipython-input-66-324d9ab4fa3f>\u001b[0m in \u001b[0;36m<module>\u001b[0;34m()\u001b[0m\n\u001b[1;32m      1\u001b[0m \u001b[0mprint\u001b[0m\u001b[0;34m(\u001b[0m\u001b[0maligned_data\u001b[0m\u001b[0;34m.\u001b[0m\u001b[0mhead\u001b[0m\u001b[0;34m(\u001b[0m\u001b[0;34m)\u001b[0m\u001b[0;34m,\u001b[0m\u001b[0mtrans_labels\u001b[0m\u001b[0;34m[\u001b[0m\u001b[0;34m'manner'\u001b[0m\u001b[0;34m]\u001b[0m\u001b[0;34m.\u001b[0m\u001b[0mhead\u001b[0m\u001b[0;34m(\u001b[0m\u001b[0;34m)\u001b[0m\u001b[0;34m)\u001b[0m\u001b[0;34m\u001b[0m\u001b[0m\n\u001b[1;32m      2\u001b[0m \u001b[0;34m\u001b[0m\u001b[0m\n\u001b[0;32m----> 3\u001b[0;31m \u001b[0mphoneme_inputs\u001b[0m \u001b[0;34m=\u001b[0m \u001b[0mpandas\u001b[0m\u001b[0;34m.\u001b[0m\u001b[0mconcat\u001b[0m\u001b[0;34m(\u001b[0m\u001b[0;34m[\u001b[0m\u001b[0maligned_data\u001b[0m\u001b[0;34m,\u001b[0m\u001b[0mtrans_labels\u001b[0m\u001b[0;34m[\u001b[0m\u001b[0;34m'manner'\u001b[0m\u001b[0;34m]\u001b[0m\u001b[0;34m,\u001b[0m\u001b[0mtrans_labels\u001b[0m\u001b[0;34m[\u001b[0m\u001b[0;34m'place'\u001b[0m\u001b[0;34m]\u001b[0m\u001b[0;34m,\u001b[0m\u001b[0mtrans_labels\u001b[0m\u001b[0;34m[\u001b[0m\u001b[0;34m'height'\u001b[0m\u001b[0;34m]\u001b[0m\u001b[0;34m,\u001b[0m\u001b[0mtrans_labels\u001b[0m\u001b[0;34m[\u001b[0m\u001b[0;34m'vowel'\u001b[0m\u001b[0;34m]\u001b[0m\u001b[0;34m]\u001b[0m\u001b[0;34m,\u001b[0m\u001b[0maxis\u001b[0m\u001b[0;34m=\u001b[0m\u001b[0;36m1\u001b[0m\u001b[0;34m,\u001b[0m\u001b[0mjoin\u001b[0m\u001b[0;34m=\u001b[0m\u001b[0;34m'outer'\u001b[0m\u001b[0;34m)\u001b[0m\u001b[0;34m\u001b[0m\u001b[0m\n\u001b[0m\u001b[1;32m      4\u001b[0m \u001b[0mphoneme_labels\u001b[0m \u001b[0;34m=\u001b[0m \u001b[0mtrans_labels\u001b[0m\u001b[0;34m.\u001b[0m\u001b[0maxes\u001b[0m\u001b[0;34m[\u001b[0m\u001b[0;36m0\u001b[0m\u001b[0;34m]\u001b[0m\u001b[0;34m\u001b[0m\u001b[0m\n\u001b[1;32m      5\u001b[0m \u001b[0mphoneme_classifier\u001b[0m \u001b[0;34m=\u001b[0m \u001b[0mMLPC\u001b[0m\u001b[0;34m(\u001b[0m\u001b[0msolver\u001b[0m\u001b[0;34m=\u001b[0m\u001b[0;34m'adam'\u001b[0m\u001b[0;34m,\u001b[0m\u001b[0mhidden_layer_sizes\u001b[0m\u001b[0;34m=\u001b[0m\u001b[0;34m(\u001b[0m\u001b[0;36m90\u001b[0m\u001b[0;34m,\u001b[0m\u001b[0;36m90\u001b[0m\u001b[0;34m)\u001b[0m\u001b[0;34m,\u001b[0m\u001b[0mrandom_state\u001b[0m\u001b[0;34m=\u001b[0m\u001b[0;36m6\u001b[0m\u001b[0;34m,\u001b[0m \u001b[0mmax_iter\u001b[0m\u001b[0;34m=\u001b[0m\u001b[0;36m300\u001b[0m\u001b[0;34m)\u001b[0m\u001b[0;34m\u001b[0m\u001b[0m\n",
      "\u001b[0;32m/home/brian/anaconda3/lib/python3.6/site-packages/pandas/tools/merge.py\u001b[0m in \u001b[0;36mconcat\u001b[0;34m(objs, axis, join, join_axes, ignore_index, keys, levels, names, verify_integrity, copy)\u001b[0m\n\u001b[1;32m   1449\u001b[0m                        \u001b[0mkeys\u001b[0m\u001b[0;34m=\u001b[0m\u001b[0mkeys\u001b[0m\u001b[0;34m,\u001b[0m \u001b[0mlevels\u001b[0m\u001b[0;34m=\u001b[0m\u001b[0mlevels\u001b[0m\u001b[0;34m,\u001b[0m \u001b[0mnames\u001b[0m\u001b[0;34m=\u001b[0m\u001b[0mnames\u001b[0m\u001b[0;34m,\u001b[0m\u001b[0;34m\u001b[0m\u001b[0m\n\u001b[1;32m   1450\u001b[0m                        \u001b[0mverify_integrity\u001b[0m\u001b[0;34m=\u001b[0m\u001b[0mverify_integrity\u001b[0m\u001b[0;34m,\u001b[0m\u001b[0;34m\u001b[0m\u001b[0m\n\u001b[0;32m-> 1451\u001b[0;31m                        copy=copy)\n\u001b[0m\u001b[1;32m   1452\u001b[0m     \u001b[0;32mreturn\u001b[0m \u001b[0mop\u001b[0m\u001b[0;34m.\u001b[0m\u001b[0mget_result\u001b[0m\u001b[0;34m(\u001b[0m\u001b[0;34m)\u001b[0m\u001b[0;34m\u001b[0m\u001b[0m\n\u001b[1;32m   1453\u001b[0m \u001b[0;34m\u001b[0m\u001b[0m\n",
      "\u001b[0;32m/home/brian/anaconda3/lib/python3.6/site-packages/pandas/tools/merge.py\u001b[0m in \u001b[0;36m__init__\u001b[0;34m(self, objs, axis, join, join_axes, keys, levels, names, ignore_index, verify_integrity, copy)\u001b[0m\n\u001b[1;32m   1595\u001b[0m         \u001b[0mself\u001b[0m\u001b[0;34m.\u001b[0m\u001b[0mcopy\u001b[0m \u001b[0;34m=\u001b[0m \u001b[0mcopy\u001b[0m\u001b[0;34m\u001b[0m\u001b[0m\n\u001b[1;32m   1596\u001b[0m \u001b[0;34m\u001b[0m\u001b[0m\n\u001b[0;32m-> 1597\u001b[0;31m         \u001b[0mself\u001b[0m\u001b[0;34m.\u001b[0m\u001b[0mnew_axes\u001b[0m \u001b[0;34m=\u001b[0m \u001b[0mself\u001b[0m\u001b[0;34m.\u001b[0m\u001b[0m_get_new_axes\u001b[0m\u001b[0;34m(\u001b[0m\u001b[0;34m)\u001b[0m\u001b[0;34m\u001b[0m\u001b[0m\n\u001b[0m\u001b[1;32m   1598\u001b[0m \u001b[0;34m\u001b[0m\u001b[0m\n\u001b[1;32m   1599\u001b[0m     \u001b[0;32mdef\u001b[0m \u001b[0mget_result\u001b[0m\u001b[0;34m(\u001b[0m\u001b[0mself\u001b[0m\u001b[0;34m)\u001b[0m\u001b[0;34m:\u001b[0m\u001b[0;34m\u001b[0m\u001b[0m\n",
      "\u001b[0;32m/home/brian/anaconda3/lib/python3.6/site-packages/pandas/tools/merge.py\u001b[0m in \u001b[0;36m_get_new_axes\u001b[0;34m(self)\u001b[0m\n\u001b[1;32m   1670\u001b[0m                 \u001b[0;32mif\u001b[0m \u001b[0mi\u001b[0m \u001b[0;34m==\u001b[0m \u001b[0mself\u001b[0m\u001b[0;34m.\u001b[0m\u001b[0maxis\u001b[0m\u001b[0;34m:\u001b[0m\u001b[0;34m\u001b[0m\u001b[0m\n\u001b[1;32m   1671\u001b[0m                     \u001b[0;32mcontinue\u001b[0m\u001b[0;34m\u001b[0m\u001b[0m\n\u001b[0;32m-> 1672\u001b[0;31m                 \u001b[0mnew_axes\u001b[0m\u001b[0;34m[\u001b[0m\u001b[0mi\u001b[0m\u001b[0;34m]\u001b[0m \u001b[0;34m=\u001b[0m \u001b[0mself\u001b[0m\u001b[0;34m.\u001b[0m\u001b[0m_get_comb_axis\u001b[0m\u001b[0;34m(\u001b[0m\u001b[0mi\u001b[0m\u001b[0;34m)\u001b[0m\u001b[0;34m\u001b[0m\u001b[0m\n\u001b[0m\u001b[1;32m   1673\u001b[0m         \u001b[0;32melse\u001b[0m\u001b[0;34m:\u001b[0m\u001b[0;34m\u001b[0m\u001b[0m\n\u001b[1;32m   1674\u001b[0m             \u001b[0;32mif\u001b[0m \u001b[0mlen\u001b[0m\u001b[0;34m(\u001b[0m\u001b[0mself\u001b[0m\u001b[0;34m.\u001b[0m\u001b[0mjoin_axes\u001b[0m\u001b[0;34m)\u001b[0m \u001b[0;34m!=\u001b[0m \u001b[0mndim\u001b[0m \u001b[0;34m-\u001b[0m \u001b[0;36m1\u001b[0m\u001b[0;34m:\u001b[0m\u001b[0;34m\u001b[0m\u001b[0m\n",
      "\u001b[0;32m/home/brian/anaconda3/lib/python3.6/site-packages/pandas/tools/merge.py\u001b[0m in \u001b[0;36m_get_comb_axis\u001b[0;34m(self, i)\u001b[0m\n\u001b[1;32m   1696\u001b[0m                 \u001b[0;32mraise\u001b[0m \u001b[0mTypeError\u001b[0m\u001b[0;34m(\u001b[0m\u001b[0;34m\"Cannot concatenate list of %s\"\u001b[0m \u001b[0;34m%\u001b[0m \u001b[0mtypes\u001b[0m\u001b[0;34m)\u001b[0m\u001b[0;34m\u001b[0m\u001b[0m\n\u001b[1;32m   1697\u001b[0m \u001b[0;34m\u001b[0m\u001b[0m\n\u001b[0;32m-> 1698\u001b[0;31m         \u001b[0;32mreturn\u001b[0m \u001b[0m_get_combined_index\u001b[0m\u001b[0;34m(\u001b[0m\u001b[0mall_indexes\u001b[0m\u001b[0;34m,\u001b[0m \u001b[0mintersect\u001b[0m\u001b[0;34m=\u001b[0m\u001b[0mself\u001b[0m\u001b[0;34m.\u001b[0m\u001b[0mintersect\u001b[0m\u001b[0;34m)\u001b[0m\u001b[0;34m\u001b[0m\u001b[0m\n\u001b[0m\u001b[1;32m   1699\u001b[0m \u001b[0;34m\u001b[0m\u001b[0m\n\u001b[1;32m   1700\u001b[0m     \u001b[0;32mdef\u001b[0m \u001b[0m_get_concat_axis\u001b[0m\u001b[0;34m(\u001b[0m\u001b[0mself\u001b[0m\u001b[0;34m)\u001b[0m\u001b[0;34m:\u001b[0m\u001b[0;34m\u001b[0m\u001b[0m\n",
      "\u001b[0;32m/home/brian/anaconda3/lib/python3.6/site-packages/pandas/indexes/api.py\u001b[0m in \u001b[0;36m_get_combined_index\u001b[0;34m(indexes, intersect)\u001b[0m\n\u001b[1;32m     35\u001b[0m             \u001b[0mindex\u001b[0m \u001b[0;34m=\u001b[0m \u001b[0mindex\u001b[0m\u001b[0;34m.\u001b[0m\u001b[0mintersection\u001b[0m\u001b[0;34m(\u001b[0m\u001b[0mother\u001b[0m\u001b[0;34m)\u001b[0m\u001b[0;34m\u001b[0m\u001b[0m\n\u001b[1;32m     36\u001b[0m         \u001b[0;32mreturn\u001b[0m \u001b[0mindex\u001b[0m\u001b[0;34m\u001b[0m\u001b[0m\n\u001b[0;32m---> 37\u001b[0;31m     \u001b[0munion\u001b[0m \u001b[0;34m=\u001b[0m \u001b[0m_union_indexes\u001b[0m\u001b[0;34m(\u001b[0m\u001b[0mindexes\u001b[0m\u001b[0;34m)\u001b[0m\u001b[0;34m\u001b[0m\u001b[0m\n\u001b[0m\u001b[1;32m     38\u001b[0m     \u001b[0;32mreturn\u001b[0m \u001b[0m_ensure_index\u001b[0m\u001b[0;34m(\u001b[0m\u001b[0munion\u001b[0m\u001b[0;34m)\u001b[0m\u001b[0;34m\u001b[0m\u001b[0m\n\u001b[1;32m     39\u001b[0m \u001b[0;34m\u001b[0m\u001b[0m\n",
      "\u001b[0;32m/home/brian/anaconda3/lib/python3.6/site-packages/pandas/indexes/api.py\u001b[0m in \u001b[0;36m_union_indexes\u001b[0;34m(indexes)\u001b[0m\n\u001b[1;32m     69\u001b[0m         \u001b[0;32melse\u001b[0m\u001b[0;34m:\u001b[0m\u001b[0;34m\u001b[0m\u001b[0m\n\u001b[1;32m     70\u001b[0m             \u001b[0;32mfor\u001b[0m \u001b[0mother\u001b[0m \u001b[0;32min\u001b[0m \u001b[0mindexes\u001b[0m\u001b[0;34m[\u001b[0m\u001b[0;36m1\u001b[0m\u001b[0;34m:\u001b[0m\u001b[0;34m]\u001b[0m\u001b[0;34m:\u001b[0m\u001b[0;34m\u001b[0m\u001b[0m\n\u001b[0;32m---> 71\u001b[0;31m                 \u001b[0mresult\u001b[0m \u001b[0;34m=\u001b[0m \u001b[0mresult\u001b[0m\u001b[0;34m.\u001b[0m\u001b[0munion\u001b[0m\u001b[0;34m(\u001b[0m\u001b[0mother\u001b[0m\u001b[0;34m)\u001b[0m\u001b[0;34m\u001b[0m\u001b[0m\n\u001b[0m\u001b[1;32m     72\u001b[0m             \u001b[0;32mreturn\u001b[0m \u001b[0mresult\u001b[0m\u001b[0;34m\u001b[0m\u001b[0m\n\u001b[1;32m     73\u001b[0m     \u001b[0;32melif\u001b[0m \u001b[0mkind\u001b[0m \u001b[0;34m==\u001b[0m \u001b[0;34m'array'\u001b[0m\u001b[0;34m:\u001b[0m\u001b[0;34m\u001b[0m\u001b[0m\n",
      "\u001b[0;32m/home/brian/anaconda3/lib/python3.6/site-packages/pandas/indexes/base.py\u001b[0m in \u001b[0;36munion\u001b[0;34m(self, other)\u001b[0m\n\u001b[1;32m   1853\u001b[0m             \u001b[0mthis\u001b[0m \u001b[0;34m=\u001b[0m \u001b[0mself\u001b[0m\u001b[0;34m.\u001b[0m\u001b[0mastype\u001b[0m\u001b[0;34m(\u001b[0m\u001b[0;34m'O'\u001b[0m\u001b[0;34m)\u001b[0m\u001b[0;34m\u001b[0m\u001b[0m\n\u001b[1;32m   1854\u001b[0m             \u001b[0mother\u001b[0m \u001b[0;34m=\u001b[0m \u001b[0mother\u001b[0m\u001b[0;34m.\u001b[0m\u001b[0mastype\u001b[0m\u001b[0;34m(\u001b[0m\u001b[0;34m'O'\u001b[0m\u001b[0;34m)\u001b[0m\u001b[0;34m\u001b[0m\u001b[0m\n\u001b[0;32m-> 1855\u001b[0;31m             \u001b[0;32mreturn\u001b[0m \u001b[0mthis\u001b[0m\u001b[0;34m.\u001b[0m\u001b[0munion\u001b[0m\u001b[0;34m(\u001b[0m\u001b[0mother\u001b[0m\u001b[0;34m)\u001b[0m\u001b[0;34m\u001b[0m\u001b[0m\n\u001b[0m\u001b[1;32m   1856\u001b[0m \u001b[0;34m\u001b[0m\u001b[0m\n\u001b[1;32m   1857\u001b[0m         \u001b[0;32mif\u001b[0m \u001b[0mself\u001b[0m\u001b[0;34m.\u001b[0m\u001b[0mis_monotonic\u001b[0m \u001b[0;32mand\u001b[0m \u001b[0mother\u001b[0m\u001b[0;34m.\u001b[0m\u001b[0mis_monotonic\u001b[0m\u001b[0;34m:\u001b[0m\u001b[0;34m\u001b[0m\u001b[0m\n",
      "\u001b[0;32m/home/brian/anaconda3/lib/python3.6/site-packages/pandas/indexes/base.py\u001b[0m in \u001b[0;36munion\u001b[0;34m(self, other)\u001b[0m\n\u001b[1;32m   1866\u001b[0m                 \u001b[0mresult\u001b[0m\u001b[0;34m.\u001b[0m\u001b[0mextend\u001b[0m\u001b[0;34m(\u001b[0m\u001b[0;34m[\u001b[0m\u001b[0mx\u001b[0m \u001b[0;32mfor\u001b[0m \u001b[0mx\u001b[0m \u001b[0;32min\u001b[0m \u001b[0mother\u001b[0m\u001b[0;34m.\u001b[0m\u001b[0m_values\u001b[0m \u001b[0;32mif\u001b[0m \u001b[0mx\u001b[0m \u001b[0;32mnot\u001b[0m \u001b[0;32min\u001b[0m \u001b[0mvalue_set\u001b[0m\u001b[0;34m]\u001b[0m\u001b[0;34m)\u001b[0m\u001b[0;34m\u001b[0m\u001b[0m\n\u001b[1;32m   1867\u001b[0m         \u001b[0;32melse\u001b[0m\u001b[0;34m:\u001b[0m\u001b[0;34m\u001b[0m\u001b[0m\n\u001b[0;32m-> 1868\u001b[0;31m             \u001b[0mindexer\u001b[0m \u001b[0;34m=\u001b[0m \u001b[0mself\u001b[0m\u001b[0;34m.\u001b[0m\u001b[0mget_indexer\u001b[0m\u001b[0;34m(\u001b[0m\u001b[0mother\u001b[0m\u001b[0;34m)\u001b[0m\u001b[0;34m\u001b[0m\u001b[0m\n\u001b[0m\u001b[1;32m   1869\u001b[0m             \u001b[0mindexer\u001b[0m\u001b[0;34m,\u001b[0m \u001b[0;34m=\u001b[0m \u001b[0;34m(\u001b[0m\u001b[0mindexer\u001b[0m \u001b[0;34m==\u001b[0m \u001b[0;34m-\u001b[0m\u001b[0;36m1\u001b[0m\u001b[0;34m)\u001b[0m\u001b[0;34m.\u001b[0m\u001b[0mnonzero\u001b[0m\u001b[0;34m(\u001b[0m\u001b[0;34m)\u001b[0m\u001b[0;34m\u001b[0m\u001b[0m\n\u001b[1;32m   1870\u001b[0m \u001b[0;34m\u001b[0m\u001b[0m\n",
      "\u001b[0;32m/home/brian/anaconda3/lib/python3.6/site-packages/pandas/indexes/base.py\u001b[0m in \u001b[0;36mget_indexer\u001b[0;34m(self, target, method, limit, tolerance)\u001b[0m\n\u001b[1;32m   2269\u001b[0m \u001b[0;34m\u001b[0m\u001b[0m\n\u001b[1;32m   2270\u001b[0m         \u001b[0;32mif\u001b[0m \u001b[0;32mnot\u001b[0m \u001b[0mself\u001b[0m\u001b[0;34m.\u001b[0m\u001b[0mis_unique\u001b[0m\u001b[0;34m:\u001b[0m\u001b[0;34m\u001b[0m\u001b[0m\n\u001b[0;32m-> 2271\u001b[0;31m             raise InvalidIndexError('Reindexing only valid with uniquely'\n\u001b[0m\u001b[1;32m   2272\u001b[0m                                     ' valued Index objects')\n\u001b[1;32m   2273\u001b[0m \u001b[0;34m\u001b[0m\u001b[0m\n",
      "\u001b[0;31mInvalidIndexError\u001b[0m: Reindexing only valid with uniquely valued Index objects"
     ]
    }
   ],
   "source": [
    "print(aligned_data.head(),trans_labels['manner'].head())\n",
    "\n",
    "phoneme_inputs = pandas.concat([aligned_data,trans_labels['manner'],trans_labels['place'],trans_labels['height'],trans_labels['vowel']],axis=1,join='outer')\n",
    "phoneme_labels = trans_labels.axes[0]\n",
    "phoneme_classifier = MLPC(solver='adam',hidden_layer_sizes=(90,90),random_state=6, max_iter=300)\n",
    "phoneme_classifier.fit(phoneme_inputs, phoneme_labels)"
   ]
  },
  {
   "cell_type": "code",
   "execution_count": 72,
   "metadata": {
    "collapsed": false
   },
   "outputs": [
    {
     "name": "stderr",
     "output_type": "stream",
     "text": [
      "/home/brian/anaconda3/lib/python3.6/site-packages/sklearn/neural_network/multilayer_perceptron.py:563: ConvergenceWarning: Stochastic Optimizer: Maximum iterations reached and the optimization hasn't converged yet.\n",
      "  % (), ConvergenceWarning)\n"
     ]
    },
    {
     "name": "stdout",
     "output_type": "stream",
     "text": [
      "place classifier score: 0.349811320755\n",
      "vowel score: 0.951698113208\n"
     ]
    }
   ],
   "source": [
    "# Experiment with PCA here\n",
    "\n",
    "from sklearn.decomposition import PCA\n",
    "dim_red = PCA(n_components=40,random_state=18)\n",
    "reduced_data = dim_red.fit_transform(aligned_data)\n",
    "\n",
    "place_classifier3 = MLPC(solver='adam',hidden_layer_sizes=(30,30),random_state=6)\n",
    "place_classifier3.fit(reduced_data, trans_labels['place'])\n",
    "p_score3 = place_classifier3.score(reduced_data, trans_labels['place'])\n",
    "print('place classifier score:',p_score3)\n",
    "\n",
    "vowel_classifier3 = MLPC(solver='adam',hidden_layer_sizes=(120,120),random_state=12)\n",
    "vowel_classifier3.fit(reduced_data, trans_labels['vowel'])\n",
    "v_score3 = vowel_classifier3.score(reduced_data, trans_labels['vowel'])\n",
    "\n",
    "print('vowel score:',v_score3)"
   ]
  },
  {
   "cell_type": "code",
   "execution_count": 64,
   "metadata": {
    "collapsed": false
   },
   "outputs": [
    {
     "data": {
      "text/plain": [
       "0.28075471698113208"
      ]
     },
     "execution_count": 64,
     "metadata": {},
     "output_type": "execute_result"
    }
   ],
   "source": [
    "p_score3\n"
   ]
  },
  {
   "cell_type": "code",
   "execution_count": null,
   "metadata": {
    "collapsed": true
   },
   "outputs": [],
   "source": []
  }
 ],
 "metadata": {
  "kernelspec": {
   "display_name": "Python 3",
   "language": "python",
   "name": "python3"
  },
  "language_info": {
   "codemirror_mode": {
    "name": "ipython",
    "version": 3
   },
   "file_extension": ".py",
   "mimetype": "text/x-python",
   "name": "python",
   "nbconvert_exporter": "python",
   "pygments_lexer": "ipython3",
   "version": "3.6.0"
  }
 },
 "nbformat": 4,
 "nbformat_minor": 2
}
