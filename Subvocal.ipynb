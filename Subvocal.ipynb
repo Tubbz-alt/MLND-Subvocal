{
 "cells": [
  {
   "cell_type": "markdown",
   "metadata": {},
   "source": [
    "### Helper Classes\n",
    "\n",
    "First we get all of our helper modules. The prepare_EMG module will prepare the EMG data for phoneme recognition. The prepare_outputs module will prepare our target labels and align them with our EMG data. The module 'prepare_data' will help us read data from CSV into a dataframe. Finally, 'vis' will help visualize EMG data in both time and frequency domains. "
   ]
  },
  {
   "cell_type": "code",
   "execution_count": 1,
   "metadata": {
    "collapsed": false
   },
   "outputs": [
    {
     "name": "stderr",
     "output_type": "stream",
     "text": [
      "/home/brian/anaconda3/lib/python3.6/site-packages/sklearn/utils/validation.py:526: DataConversionWarning: A column-vector y was passed when a 1d array was expected. Please change the shape of y to (n_samples, ), for example using ravel().\n",
      "  y = column_or_1d(y, warn=True)\n"
     ]
    },
    {
     "name": "stdout",
     "output_type": "stream",
     "text": [
      "Training Score: 0.696146245059\n"
     ]
    }
   ],
   "source": [
    "%load_ext autoreload\n",
    "%autoreload 2\n",
    "\n",
    "import prepare_EMG, prepare_outputs, prepare_data, vis\n",
    "# autodetector = Output_Prep.detector\n",
    "EMG_Prep = prepare_EMG.EMG_preparer(window_size=30.0)\n",
    "# Output_Prep = prepare_outputs.output_preparer(subvocal_detector = autodetector, window_size=30.0)\n",
    "Output_Prep = prepare_outputs.output_preparer(window_size=30.0)\n",
    "\n",
    "Data_Prep = prepare_data.data_preparer()\n",
    "\n"
   ]
  },
  {
   "cell_type": "markdown",
   "metadata": {},
   "source": [
    "### Labeling the Data\n",
    "\n",
    "First, we need to visualize a few EMG voltage graphs to find some sections that most likely contain no subvocalization. Then, we'll need to find some regions that almost certainly do. These two classes of EMG readouts will serve to train an identifier to help us automatically label EMG windows with phonemes. The model used here will most likely be an SVC, inside \"prepare_outputs\". It will process each EMG window in order, and when it finds one that most likely contains subvocalization, it applies the next phoneme as that window's label. "
   ]
  },
  {
   "cell_type": "code",
   "execution_count": 27,
   "metadata": {
    "collapsed": false
   },
   "outputs": [],
   "source": [
    "data_1 = Data_Prep.load('Sat Mar  4 00:44:23 2017')\n",
    "data_2 = Data_Prep.load('Sat Mar  4 00:45:02 2017')\n",
    "data_3 = Data_Prep.load('Sat Mar  4 00:45:47 2017')\n",
    "data_4 = Data_Prep.load('Sat Mar  4 00:47:01 2017')\n",
    "data_5 = Data_Prep.load('Sat Mar  4 00:47:36 2017')\n",
    "data_6 = Data_Prep.load('Sat Mar  4 00:48:09 2017')\n",
    "data_7 = Data_Prep.load('Sat Mar  4 00:49:05 2017')\n",
    "data_8 = Data_Prep.load('Sat Mar  4 00:49:41 2017')\n",
    "data_9 = Data_Prep.load('Sat Mar  4 00:50:22 2017')\n",
    "data_10 = Data_Prep.load('Sat Mar  4 00:51:17 2017')\n",
    "data_11 = Data_Prep.load('Sat Mar  4 00:52:02 2017')\n",
    "data_12 = Data_Prep.load('Sat Mar  4 00:52:38 2017')\n",
    "data_13 = Data_Prep.load('Sat Mar  4 00:53:24 2017')\n",
    "data_14 = Data_Prep.load('Sat Mar  4 00:53:51 2017')\n",
    "data_15 = Data_Prep.load('Sat Mar  4 00:54:25 2017')\n",
    "data_16 = Data_Prep.load('Sat Mar  4 00:54:57 2017')\n",
    "data_17 = Data_Prep.load('Sat Mar  4 00:56:01 2017')\n",
    "data_18 = Data_Prep.load('Sat Mar  4 00:56:35 2017')\n",
    "data_19 = Data_Prep.load('Sat Mar  4 00:57:21 2017')\n",
    "data_20 = Data_Prep.load('Sat Mar  4 00:57:49 2017')\n",
    "data_21 = Data_Prep.load('Sat Mar  4 00:58:59 2017')\n",
    "data_22 = Data_Prep.load('Sat Mar  4 00:59:53 2017')\n",
    "\n",
    "\n",
    "\n",
    "data_list = [data_1, data_2, data_3, data_4, data_5, data_6, data_7, data_8, data_9, data_10, data_11, data_12, data_13, data_14, data_15, data_16, data_17, data_18, data_19, data_20, data_21, data_22]"
   ]
  },
  {
   "cell_type": "code",
   "execution_count": 31,
   "metadata": {
    "collapsed": false
   },
   "outputs": [
    {
     "name": "stdout",
     "output_type": "stream",
     "text": [
      "Aligned Data shape: (5300, 30) Trans labels shape: (5300, 4)\n"
     ]
    }
   ],
   "source": [
    "import pandas\n",
    "%autoreload 2\n",
    "\n",
    "\n",
    "num_files = len(data_list)\n",
    "labels_frame = pandas.read_csv('austen_subvocal.csv')\n",
    "labels_frame\n",
    "# print(labels_frame.iloc[0][0])\n",
    "trans_labels = Output_Prep.transform(labels_frame.iloc[0][0])\n",
    "data_1_proc = EMG_Prep.process(data_1)\n",
    "aligned_data, trans_labels= Output_Prep.zip(data_1_proc, trans_labels, repeat=3)\n",
    "\n",
    "\n",
    "for file in range(1, num_files):\n",
    "    trans_labels_iter = Output_Prep.transform(labels_frame.iloc[file][0])\n",
    "    data_proc_iter = EMG_Prep.process(data_list[file])\n",
    "    aligned_data_iter, trans_labels_iter = Output_Prep.zip(data_proc_iter, trans_labels_iter, repeat=3)\n",
    "\n",
    "    aligned_data = aligned_data.append(aligned_data_iter)\n",
    "    trans_labels = trans_labels.append(trans_labels_iter)\n",
    "    \n",
    "# print(\"This is trans_labels:\",trans_labels,'This is trans_labels length:',len(trans_labels))\n",
    "# print('this is data_1_proc:',data_1_proc)\n",
    "# print('this is aligned_data', aligned_data)\n",
    "# aligned_data = aligned_data_1.append([aligned_data_2, aligned_data_3])\n",
    "# trans_labels = trans_labels_1.append([trans_labels_2, trans_labels_3])\n",
    "print('Aligned Data shape:',aligned_data.shape,'Trans labels shape:',trans_labels.shape)"
   ]
  },
  {
   "cell_type": "markdown",
   "metadata": {},
   "source": [
    "### AF Extractor Models\n",
    "\n",
    "These models will be optimized for extracting AF's from the data, before passing those AF's onto an MLPC for identifying the most likely phoneme. "
   ]
  },
  {
   "cell_type": "code",
   "execution_count": 38,
   "metadata": {
    "collapsed": false
   },
   "outputs": [
    {
     "name": "stdout",
     "output_type": "stream",
     "text": [
      "number layer sizes: 5 here be layer sizes [(30, 30), (60, 60), (90, 90), (120, 120), (150, 150)]\n"
     ]
    }
   ],
   "source": [
    "# Prepare lists of parameters for our GridSearch\n",
    "# First, our layer sizes\n",
    "layer_sizes = []\n",
    "for i in range(2,3):\n",
    "    for j in range(0,180,30):\n",
    "        if j:\n",
    "            tup = []\n",
    "            for k in range(i):\n",
    "                tup.append(j)\n",
    "            layer_sizes.append(tuple(tup))\n",
    "print('number layer sizes:',len(layer_sizes),'here be layer sizes',layer_sizes)\n",
    "\n",
    "# Next, our alpha values\n",
    "alphas = [0.0000001,1,1000]\n",
    "\n",
    "\n"
   ]
  },
  {
   "cell_type": "code",
   "execution_count": 59,
   "metadata": {
    "collapsed": false
   },
   "outputs": [
    {
     "name": "stdout",
     "output_type": "stream",
     "text": [
      "manner score: 0.389433962264 place score: 0.281132075472 height score: 0.505094339623 vowel score: 0.610566037736\n",
      "     0.000000  0.033333  0.033333  0.066667  0.066667      0.100000  \\\n",
      "0   45.336328  3.246606  1.194433  2.065605  1.649199  1.478745e+00   \n",
      "1   49.190625  0.194345  0.002563  0.099662  0.002144  6.749619e-02   \n",
      "2   48.984375  0.218216  0.026103  0.030316  0.180943  7.966844e-03   \n",
      "3   49.255078  0.145012  0.099569  0.033292  0.079299  5.062214e-02   \n",
      "4   48.842578  0.124892  0.009580  0.240587  0.085307  2.976467e-02   \n",
      "5   48.958594  0.005331  0.123206  0.210249  0.193549  8.437024e-02   \n",
      "6   48.907031  0.037701  0.001253  0.273924  0.045263  1.131945e-01   \n",
      "7   48.326953  0.138992  0.111664  0.051443  0.155449  2.791139e-01   \n",
      "8   48.584766  0.028369  0.086189  0.030830  0.019087  1.136909e-02   \n",
      "9   48.816797  0.002073  0.058700  0.040098  0.011378  7.966844e-03   \n",
      "10  48.507422  0.005252  0.204882  0.226363  0.048907  4.193893e-01   \n",
      "11  48.455859  0.005331  0.115226  0.056438  0.015383  2.675229e-01   \n",
      "12  48.932812  0.065130  0.009410  0.034155  0.012780  2.442035e-01   \n",
      "13  48.700781  0.041348  0.007231  0.084291  0.085351  4.359566e-02   \n",
      "14  48.932812  0.111546  0.092884  0.194171  0.022258  1.687405e-02   \n",
      "15  49.010156  0.109365  0.091300  0.021690  0.304495  4.113377e-02   \n",
      "16  49.023047  0.136668  0.010817  0.205499  0.151527  1.289063e-02   \n",
      "17  48.997266  0.051970  0.018599  0.140406  0.161194  3.983422e-03   \n",
      "18  48.997266  0.046734  0.006267  0.086095  0.094155  1.593369e-02   \n",
      "19  49.190625  0.163377  0.047479  0.145294  0.092884  8.014422e-16   \n",
      "20  49.100391  0.067680  0.104120  0.024667  0.257016  1.839558e-02   \n",
      "21  48.881250  0.146503  0.072273  0.155374  0.121150  7.241997e-02   \n",
      "22  49.100391  0.134176  0.014940  0.154130  0.077471  1.236233e-01   \n",
      "23  49.074609  0.073486  0.076146  0.073719  0.137887  1.027658e-01   \n",
      "24  49.087500  0.048256  0.070903  0.120453  0.075956  2.730278e-02   \n",
      "25  48.133594  0.184898  0.521387  0.658988  0.484811  2.074123e-01   \n",
      "26  47.927344  0.212730  0.350497  0.408566  0.893633  4.209108e-01   \n",
      "27  48.391406  0.434197  0.334258  0.323602  0.734820  4.816025e-02   \n",
      "28  48.017578  0.087168  0.253308  0.201288  1.038683  4.745760e-01   \n",
      "29  48.159375  0.406476  0.261138  0.706356  0.044867  6.037043e-01   \n",
      "30  48.417187  0.001295  0.219229  0.280249  0.731593  8.553258e-02   \n",
      "31  48.094922  0.469452  0.006533  1.044683  0.202441  4.205411e-03   \n",
      "32  48.120703  0.063312  0.076657  0.783632  0.326545  1.208022e-01   \n",
      "33  48.533203  0.065336  0.096233  0.174724  0.359561  1.136909e-02   \n",
      "34  48.829687  0.192183  0.041484  0.232510  0.074007  1.628763e-01   \n",
      "35  49.061719  0.030820  0.029331  0.020132  0.092437  1.289063e-01   \n",
      "36  49.126172  0.023552  0.085593  0.037545  0.174619  6.597466e-02   \n",
      "37  48.984375  0.094294  0.081043  0.173314  0.130033  6.445312e-03   \n",
      "38  49.100391  0.053317  0.012260  0.135416  0.155863  3.983422e-03   \n",
      "39  49.035938  0.038108  0.111926  0.114253  0.184129  1.441216e-02   \n",
      "40  48.842578  0.219377  0.004337  0.158958  0.044727  6.503430e-02   \n",
      "41  49.139063  0.033466  0.095447  0.035892  0.162202  1.687405e-02   \n",
      "42  49.164844  0.021323  0.010486  0.033748  0.118641  2.882431e-02   \n",
      "43  49.023047  0.121741  0.075917  0.161335  0.016060  1.839558e-02   \n",
      "44  49.087500  0.147474  0.081506  0.100602  0.232009  1.687405e-02   \n",
      "45  49.035938  0.151457  0.003240  0.268101  0.120945  6.445313e-03   \n",
      "46  48.894141  0.066585  0.092766  0.128594  0.137975  9.479897e-02   \n",
      "47  49.087500  0.036210  0.093863  0.038834  0.140032  1.037062e-01   \n",
      "48  48.907031  0.068532  0.150538  0.050566  0.117548  9.972275e-02   \n",
      "49  49.113281  0.056048  0.011913  0.185582  0.082627  1.221018e-01   \n",
      "\n",
      "        0.100000  0.133333  0.133333      0.166667      ...       \\\n",
      "0   1.325477e+00  1.069878  1.151899  9.925781e-01      ...        \n",
      "1   5.482710e-02  0.068651  0.034241  7.089844e-02      ...        \n",
      "2   2.255141e-16  0.029716  0.015463  6.445313e-02      ...        \n",
      "3   2.741355e-02  0.020169  0.090453  4.511719e-02      ...        \n",
      "4   5.193298e-02  0.109157  0.015214  9.667969e-02      ...        \n",
      "5   1.225971e-02  0.012539  0.008710  1.160156e-01      ...        \n",
      "6   1.225971e-02  0.101499  0.016810  3.867187e-02      ...        \n",
      "7   2.625590e-01  0.107418  0.146217  2.384766e-01      ...        \n",
      "8   2.766074e-01  0.003295  0.006827  1.933594e-02      ...        \n",
      "9   2.567708e-01  0.041193  0.038017  3.867188e-02      ...        \n",
      "10  1.047104e-02  0.120756  0.013142  1.675781e-01      ...        \n",
      "11  2.153088e-01  0.068988  0.012143  4.511719e-02      ...        \n",
      "12  1.283854e-01  0.026644  0.026941  2.602085e-18      ...        \n",
      "13  3.757906e-01  0.022398  0.067747  1.675781e-01      ...        \n",
      "14  7.645240e-02  0.067754  0.069460  1.289063e-01      ...        \n",
      "15  3.209635e-02  0.028369  0.011864  7.734375e-02      ...        \n",
      "16  8.871212e-02  0.061121  0.023600  6.445312e-03      ...        \n",
      "17  2.894126e-03  0.102350  0.085202  8.378906e-02      ...        \n",
      "18  6.419269e-02  0.019762  0.183232  1.289062e-02      ...        \n",
      "19  2.451943e-02  0.009477  0.027473  1.933594e-02      ...        \n",
      "20  7.576919e-03  0.021516  0.026901  6.445313e-03      ...        \n",
      "21  6.419269e-02  0.085317  0.117226  6.445312e-03      ...        \n",
      "22  5.950990e-02  0.109861  0.076432  1.031250e-01      ...        \n",
      "23  1.983663e-02  0.039882  0.068723  1.224609e-01      ...        \n",
      "24  4.682794e-03  0.027872  0.008628  6.445313e-03      ...        \n",
      "25  8.309276e-01  0.343484  0.126331  2.513672e-01      ...        \n",
      "26  6.441378e-01  0.296835  0.187272  7.927734e-01      ...        \n",
      "27  2.311459e-01  0.099682  0.464614  4.511719e-02      ...        \n",
      "28  3.742628e-01  0.594198  0.037230  3.158203e-01      ...        \n",
      "29  4.725018e-01  0.087973  0.082131  4.576172e-01      ...        \n",
      "30  9.518358e-02  0.330538  0.124166  1.546875e-01      ...        \n",
      "31  8.513478e-02  0.443230  0.448519  2.900391e-01      ...        \n",
      "32  1.172311e-01  0.628709  0.007656  2.964844e-01      ...        \n",
      "33  1.763188e-01  0.099761  0.281453  3.158203e-01      ...        \n",
      "34  1.896839e-01  0.119242  0.021523  3.158203e-01      ...        \n",
      "35  1.096542e-01  0.077013  0.161537  1.160156e-01      ...        \n",
      "36  6.887548e-02  0.059995  0.019732  1.289063e-02      ...        \n",
      "37  7.466374e-02  0.075721  0.027401  8.378906e-02      ...        \n",
      "38  1.709528e-01  0.031608  0.020360  9.023437e-02      ...        \n",
      "39  1.237026e-01  0.124173  0.124340  5.800781e-02      ...        \n",
      "40  3.209635e-02  0.046290  0.012187  1.417969e-01      ...        \n",
      "41  1.312795e-01  0.075210  0.007960  1.095703e-01      ...        \n",
      "42  1.680586e-01  0.004924  0.052899  7.734375e-02      ...        \n",
      "43  4.725018e-02  0.032340  0.018180  1.611328e-01      ...        \n",
      "44  2.741355e-02  0.024474  0.000670  1.031250e-01      ...        \n",
      "45  5.372165e-02  0.010355  0.041309  4.511719e-02      ...        \n",
      "46  1.983663e-02  0.032897  0.164705  6.445312e-02      ...        \n",
      "47  8.692345e-02  0.095642  0.034482  1.289063e-02      ...        \n",
      "48  1.540103e-01  0.143808  0.052615  6.445313e-02      ...        \n",
      "49  8.871212e-02  0.008978  0.009971  7.734375e-02      ...        \n",
      "\n",
      "        0.333333  0.366667  0.366667      0.400000      0.400000  0.433333  \\\n",
      "0   3.349083e-01  0.734918  0.264212  7.578630e-01  1.780078e-01  0.758977   \n",
      "1   1.116361e-02  0.022555  0.022400  1.289063e-02  1.515384e-02  0.027842   \n",
      "2   1.538700e-15  0.017080  0.010676  3.217912e-16  2.451943e-02  0.008319   \n",
      "3   1.116361e-02  0.000531  0.006174  1.383098e-02  1.225971e-02  0.015190   \n",
      "4   1.116361e-02  0.034941  0.002680  2.484089e-02  1.225971e-02  0.002199   \n",
      "5   2.232722e-02  0.007793  0.011764  1.687405e-02  1.225971e-02  0.002180   \n",
      "6   2.232722e-02  0.008356  0.039137  1.383098e-02  1.225971e-02  0.020906   \n",
      "7   1.116361e-02  0.001538  0.104087  1.289062e-02  5.482710e-02  0.010469   \n",
      "8   1.116361e-02  0.005990  0.016572  1.253144e-02  4.682794e-03  0.013579   \n",
      "9   2.232722e-02  0.027273  0.049165  3.186738e-02  1.294292e-02  0.072371   \n",
      "10  2.232722e-02  0.084699  0.018775  9.784203e-02  1.983663e-02  0.012268   \n",
      "11  1.116361e-02  0.007793  0.064398  7.385671e-03  1.915342e-02  0.002180   \n",
      "12  2.232722e-02  0.001426  0.021581  2.390053e-02  5.788251e-03  0.036850   \n",
      "13  2.312386e-15  0.003035  0.018394  7.241997e-02  4.903885e-02  0.021156   \n",
      "14  2.232722e-02  0.012763  0.005960  2.484089e-02  2.741355e-02  0.004553   \n",
      "15  7.702172e-16  0.006291  0.007884  1.535252e-02  1.694251e-02  0.012346   \n",
      "16  1.116361e-02  0.033594  0.000346  7.966844e-03  5.788251e-03  0.010824   \n",
      "17  1.116361e-02  0.038846  0.022863  7.026486e-03  1.225971e-02  0.019995   \n",
      "18  6.938894e-18  0.016969  0.009161  3.070503e-02  1.318390e-16  0.012009   \n",
      "19  1.116361e-02  0.011511  0.004454  4.923781e-03  9.365587e-03  0.013620   \n",
      "20  1.116361e-02  0.006048  0.002640  3.620998e-02  1.788668e-03  0.001868   \n",
      "21  1.116361e-02  0.028385  0.001608  2.578125e-02  2.359224e-16  0.016082   \n",
      "22  2.232722e-02  0.001757  0.021839  9.488376e-03  1.404838e-02  0.020361   \n",
      "23  1.116361e-02  0.039128  0.007270  2.425972e-02  4.682794e-03  0.031538   \n",
      "24  3.349083e-02  0.015448  0.005550  3.526963e-02  1.983663e-02  0.039312   \n",
      "25  2.567630e-01  0.126939  0.047097  4.735709e-02  1.190198e-01  0.074875   \n",
      "26  5.581804e-02  0.029730  0.109162  1.141349e-01  1.760578e-01  0.072147   \n",
      "27  1.004725e-01  0.059356  0.001035  2.470370e-02  3.720139e-02  0.026500   \n",
      "28  3.349083e-02  0.175025  0.098646  2.672161e-02  1.544325e-01  0.078155   \n",
      "29  1.451269e-01  0.071006  0.345798  8.154916e-02  1.047104e-01  0.135891   \n",
      "30  4.465443e-02  0.026136  0.052012  1.499333e-02  1.362613e-02  0.087315   \n",
      "31  2.121086e-01  0.135870  0.066726  8.719131e-02  9.534486e-02  0.152751   \n",
      "32  1.116361e-01  0.072937  0.092085  2.188262e-02  2.051984e-02  0.006652   \n",
      "33  1.116361e-02  0.202768  0.008888  8.031620e-04  8.981757e-02  0.040703   \n",
      "34  1.116361e-02  0.000842  0.062804  5.670827e-02  8.939533e-02  0.085178   \n",
      "35  6.698165e-02  0.083315  0.040908  8.038681e-02  2.094209e-02  0.028638   \n",
      "36  7.771561e-16  0.002695  0.000458  4.816025e-02  4.682794e-03  0.017251   \n",
      "37  1.116361e-02  0.012455  0.009273  1.441216e-02  4.077872e-02  0.007248   \n",
      "38  4.465443e-02  0.027070  0.012260  4.265530e-02  2.894126e-03  0.032604   \n",
      "39  1.116361e-02  0.004360  0.032579  9.488376e-03  1.047104e-02  0.010662   \n",
      "40  2.232722e-02  0.079820  0.015500  2.824314e-02  1.694251e-02  0.050200   \n",
      "41  1.116361e-02  0.012232  0.028360  1.687405e-02  2.894126e-03  0.019743   \n",
      "42  4.465443e-02  0.031171  0.025640  4.923781e-03  1.515384e-02  0.008721   \n",
      "43  3.349083e-02  0.023680  0.035526  1.535252e-02  1.115426e-02  0.007774   \n",
      "44  7.719519e-16  0.001931  0.011889  1.195027e-02  1.225971e-02  0.001684   \n",
      "45  1.116361e-02  0.005914  0.007923  9.488376e-03  3.499047e-02  0.008745   \n",
      "46  1.540434e-15  0.002131  0.037939  4.019341e-02  1.047104e-02  0.040337   \n",
      "47  2.232722e-02  0.036210  0.014516  2.461890e-03  1.694251e-02  0.021798   \n",
      "48  1.540434e-15  0.004828  0.018204  3.034585e-02  1.983663e-02  0.024201   \n",
      "49  7.632783e-16  0.020779  0.023077  6.036838e-16  2.706169e-16  0.020258   \n",
      "\n",
      "    0.433333  0.466667  0.466667      0.500000  \n",
      "0   0.104892  0.764764  0.072084  7.605469e-01  \n",
      "1   0.014823  0.024267  0.000750  2.578125e-02  \n",
      "2   0.008830  0.017766  0.019105  2.578125e-02  \n",
      "3   0.017443  0.012058  0.012308  1.289062e-02  \n",
      "4   0.012820  0.003211  0.008742  3.867188e-02  \n",
      "5   0.012997  0.019466  0.016232  3.552714e-15  \n",
      "6   0.022935  0.000392  0.021074  3.552714e-15  \n",
      "7   0.026636  0.000669  0.033408  1.289063e-02  \n",
      "8   0.030380  0.004816  0.026664  3.867187e-02  \n",
      "9   0.027175  0.001822  0.033753  3.867187e-02  \n",
      "10  0.023226  0.057962  0.042369  9.023438e-02  \n",
      "11  0.013715  0.039642  0.019719  6.445312e-02  \n",
      "12  0.012860  0.047879  0.028570  0.000000e+00  \n",
      "13  0.028856  0.040534  0.068852  2.578125e-02  \n",
      "14  0.027473  0.005965  0.007056  2.578125e-02  \n",
      "15  0.003490  0.005990  0.005815  3.552714e-15  \n",
      "16  0.027760  0.032959  0.009179  1.289062e-02  \n",
      "17  0.035897  0.010485  0.001856  1.289062e-02  \n",
      "18  0.004147  0.024774  0.018029  1.289063e-02  \n",
      "19  0.015037  0.001732  0.003517  0.000000e+00  \n",
      "20  0.006170  0.000282  0.022640  1.289063e-02  \n",
      "21  0.014320  0.031639  0.010476  2.578125e-02  \n",
      "22  0.002334  0.016362  0.005809  1.289063e-02  \n",
      "23  0.021030  0.010698  0.002363  1.289062e-02  \n",
      "24  0.011450  0.016664  0.018785  5.156250e-02  \n",
      "25  0.004445  0.017760  0.082136  1.546875e-01  \n",
      "26  0.177867  0.012677  0.061599  2.320312e-01  \n",
      "27  0.012870  0.014149  0.010682  5.156250e-02  \n",
      "28  0.018045  0.182913  0.094629  1.289062e-02  \n",
      "29  0.235648  0.029734  0.297497  1.289063e-01  \n",
      "30  0.109835  0.015850  0.089193  2.320312e-01  \n",
      "31  0.014745  0.049350  0.011984  1.933594e-01  \n",
      "32  0.089282  0.022458  0.084795  6.445312e-02  \n",
      "33  0.028276  0.116413  0.040355  9.023438e-02  \n",
      "34  0.038718  0.015092  0.046465  1.031250e-01  \n",
      "35  0.045815  0.008297  0.103132  0.000000e+00  \n",
      "36  0.009600  0.007501  0.031518  1.289062e-02  \n",
      "37  0.014013  0.013932  0.016247  2.578125e-02  \n",
      "38  0.007577  0.004665  0.017102  1.289063e-02  \n",
      "39  0.018232  0.003234  0.003109  3.552714e-15  \n",
      "40  0.003240  0.040563  0.007505  1.289062e-02  \n",
      "41  0.012651  0.014740  0.018009  2.578125e-02  \n",
      "42  0.019159  0.004924  0.000283  0.000000e+00  \n",
      "43  0.015632  0.013227  0.013916  1.289063e-02  \n",
      "44  0.010543  0.019910  0.012507  2.578125e-02  \n",
      "45  0.015500  0.001585  0.025050  2.578125e-02  \n",
      "46  0.007408  0.022871  0.014930  1.289063e-02  \n",
      "47  0.011333  0.000679  0.001614  5.156250e-02  \n",
      "48  0.040363  0.004833  0.062663  1.031250e-01  \n",
      "49  0.009019  0.019184  0.004078  7.105427e-15  \n",
      "\n",
      "[50 rows x 30 columns] DH    voiced-fricative\n",
      "AH               vowel\n",
      "F            fricative\n",
      "AE               vowel\n",
      "M                nasal\n",
      "AH               vowel\n",
      "L          approximant\n",
      "IY               vowel\n",
      "AH               vowel\n",
      "V     voiced-fricative\n",
      "D          voiced-stop\n",
      "AE               vowel\n",
      "SH           fricative\n",
      "W          approximant\n",
      "UH               vowel\n",
      "D          voiced-stop\n",
      "HH           aspirated\n",
      "AE               vowel\n",
      "D          voiced-stop\n",
      "L          approximant\n",
      "AO               vowel\n",
      "NG               nasal\n",
      "B          voiced-stop\n",
      "IH               vowel\n",
      "N                nasal\n",
      "S            fricative\n",
      "EH               vowel\n",
      "T                 stop\n",
      "AH               vowel\n",
      "L          approximant\n",
      "D          voiced-stop\n",
      "IH               vowel\n",
      "N                nasal\n",
      "S            fricative\n",
      "AH               vowel\n",
      "S            fricative\n",
      "IH               vowel\n",
      "K                 stop\n",
      "S            fricative\n",
      "DH    voiced-fricative\n",
      "AH               vowel\n",
      "F            fricative\n",
      "AE               vowel\n",
      "M                nasal\n",
      "AH               vowel\n",
      "L          approximant\n",
      "IY               vowel\n",
      "AH               vowel\n",
      "V     voiced-fricative\n",
      "D          voiced-stop\n",
      "Name: manner, dtype: object\n"
     ]
    }
   ],
   "source": [
    "from sklearn.neural_network import MLPClassifier as MLPC\n",
    "from sklearn.feature_extraction import DictVectorizer\n",
    "from sklearn.model_selection import GridSearchCV\n",
    "import copy\n",
    "\n",
    "param_grid = {\n",
    "    'solver':['adam'],\n",
    "    'hidden_layer_sizes':layer_sizes,\n",
    "    'activation':['logistic'],\n",
    "    'alpha': alphas,\n",
    "    'max_iter':[200],\n",
    "    'beta_1':[((10000-n)/10000) for n in range(2,2000,400)],\n",
    "    'beta_2':[((10000-n)/10000) for n in range(2,80,20)]\n",
    "}\n",
    "grid_search = GridSearchCV(MLPC(), param_grid, n_jobs=-1)\n",
    "# vectorizer = DictVectorizer()\n",
    "# trans_aligned_labels = vectorizer.fit_transform([item[1] for item in aligned_labels.iterrows()])\n",
    "# print(trans_aligned_labels)\n",
    "# TODO: Implement feature vectorization to use multioutput classification of MLPC\n",
    "manner_classifier = MLPC(solver='adam',hidden_layer_sizes=(21,21),random_state=3)\n",
    "manner_classifier.fit(aligned_data, trans_labels['manner'])\n",
    "m_score = manner_classifier.score(aligned_data, trans_labels['manner'])\n",
    "\n",
    "place_classifier = MLPC(solver='adam',hidden_layer_sizes=(30,30),random_state=6)\n",
    "place_classifier.fit(aligned_data, trans_labels['place'])\n",
    "p_score = place_classifier.score(aligned_data, trans_labels['place'])\n",
    "\n",
    "height_classifier = MLPC(solver='adam',hidden_layer_sizes=(30,30),random_state=9)\n",
    "height_classifier.fit(aligned_data, trans_labels['height'])\n",
    "h_score = height_classifier.score(aligned_data, trans_labels['height'])\n",
    "\n",
    "vowel_classifier = MLPC(solver='adam',hidden_layer_sizes=(30,30),random_state=12)\n",
    "vowel_classifier.fit(aligned_data, trans_labels['vowel'])\n",
    "v_score = vowel_classifier.score(aligned_data, trans_labels['vowel'])\n",
    "\n",
    "print('manner score:',m_score,'place score:',p_score,'height score:',h_score,'vowel score:',v_score)\n",
    "print(data_1_proc.head(50), trans_labels['manner'].head(50))"
   ]
  },
  {
   "cell_type": "code",
   "execution_count": 60,
   "metadata": {
    "collapsed": false
   },
   "outputs": [
    {
     "name": "stderr",
     "output_type": "stream",
     "text": [
      "/home/brian/anaconda3/lib/python3.6/site-packages/sklearn/neural_network/multilayer_perceptron.py:565: UserWarning: Training interrupted by user.\n",
      "  warnings.warn(\"Training interrupted by user.\")\n",
      "/home/brian/anaconda3/lib/python3.6/site-packages/sklearn/neural_network/multilayer_perceptron.py:565: UserWarning: Training interrupted by user.\n",
      "  warnings.warn(\"Training interrupted by user.\")\n",
      "/home/brian/anaconda3/lib/python3.6/site-packages/sklearn/neural_network/multilayer_perceptron.py:565: UserWarning: Training interrupted by user.\n",
      "  warnings.warn(\"Training interrupted by user.\")\n",
      "/home/brian/anaconda3/lib/python3.6/site-packages/sklearn/neural_network/multilayer_perceptron.py:565: UserWarning: Training interrupted by user.\n",
      "  warnings.warn(\"Training interrupted by user.\")\n",
      "/home/brian/anaconda3/lib/python3.6/site-packages/sklearn/neural_network/multilayer_perceptron.py:565: UserWarning: Training interrupted by user.\n",
      "  warnings.warn(\"Training interrupted by user.\")\n",
      "/home/brian/anaconda3/lib/python3.6/site-packages/sklearn/neural_network/multilayer_perceptron.py:565: UserWarning: Training interrupted by user.\n",
      "  warnings.warn(\"Training interrupted by user.\")\n",
      "/home/brian/anaconda3/lib/python3.6/site-packages/sklearn/neural_network/multilayer_perceptron.py:565: UserWarning: Training interrupted by user.\n",
      "  warnings.warn(\"Training interrupted by user.\")\n"
     ]
    },
    {
     "ename": "KeyboardInterrupt",
     "evalue": "",
     "output_type": "error",
     "traceback": [
      "\u001b[0;31m---------------------------------------------------------------------------\u001b[0m",
      "\u001b[0;31mKeyboardInterrupt\u001b[0m                         Traceback (most recent call last)",
      "\u001b[0;32m<ipython-input-60-7de5f54a1908>\u001b[0m in \u001b[0;36m<module>\u001b[0;34m()\u001b[0m\n\u001b[1;32m      1\u001b[0m \u001b[0mmanner_classifier2\u001b[0m \u001b[0;34m=\u001b[0m \u001b[0mcopy\u001b[0m\u001b[0;34m.\u001b[0m\u001b[0mdeepcopy\u001b[0m\u001b[0;34m(\u001b[0m\u001b[0mgrid_search\u001b[0m\u001b[0;34m)\u001b[0m\u001b[0;34m\u001b[0m\u001b[0m\n\u001b[0;32m----> 2\u001b[0;31m \u001b[0mmanner_classifier2\u001b[0m\u001b[0;34m.\u001b[0m\u001b[0mfit\u001b[0m\u001b[0;34m(\u001b[0m\u001b[0maligned_data\u001b[0m\u001b[0;34m,\u001b[0m \u001b[0mtrans_labels\u001b[0m\u001b[0;34m[\u001b[0m\u001b[0;34m'manner'\u001b[0m\u001b[0;34m]\u001b[0m\u001b[0;34m)\u001b[0m\u001b[0;34m\u001b[0m\u001b[0m\n\u001b[0m\u001b[1;32m      3\u001b[0m \u001b[0mm_score2\u001b[0m \u001b[0;34m=\u001b[0m \u001b[0mmanner_classifier2\u001b[0m\u001b[0;34m.\u001b[0m\u001b[0mscore\u001b[0m\u001b[0;34m(\u001b[0m\u001b[0maligned_data\u001b[0m\u001b[0;34m,\u001b[0m \u001b[0mtrans_labels\u001b[0m\u001b[0;34m[\u001b[0m\u001b[0;34m'manner'\u001b[0m\u001b[0;34m]\u001b[0m\u001b[0;34m)\u001b[0m\u001b[0;34m\u001b[0m\u001b[0m\n\u001b[1;32m      4\u001b[0m \u001b[0;34m\u001b[0m\u001b[0m\n\u001b[1;32m      5\u001b[0m \u001b[0mprint\u001b[0m\u001b[0;34m(\u001b[0m\u001b[0;34m'manner score:'\u001b[0m\u001b[0;34m,\u001b[0m\u001b[0mm_score2\u001b[0m\u001b[0;34m)\u001b[0m\u001b[0;34m\u001b[0m\u001b[0m\n",
      "\u001b[0;32m/home/brian/anaconda3/lib/python3.6/site-packages/sklearn/model_selection/_search.py\u001b[0m in \u001b[0;36mfit\u001b[0;34m(self, X, y, groups)\u001b[0m\n\u001b[1;32m    943\u001b[0m             \u001b[0mtrain\u001b[0m\u001b[0;34m/\u001b[0m\u001b[0mtest\u001b[0m \u001b[0mset\u001b[0m\u001b[0;34m.\u001b[0m\u001b[0;34m\u001b[0m\u001b[0m\n\u001b[1;32m    944\u001b[0m         \"\"\"\n\u001b[0;32m--> 945\u001b[0;31m         \u001b[0;32mreturn\u001b[0m \u001b[0mself\u001b[0m\u001b[0;34m.\u001b[0m\u001b[0m_fit\u001b[0m\u001b[0;34m(\u001b[0m\u001b[0mX\u001b[0m\u001b[0;34m,\u001b[0m \u001b[0my\u001b[0m\u001b[0;34m,\u001b[0m \u001b[0mgroups\u001b[0m\u001b[0;34m,\u001b[0m \u001b[0mParameterGrid\u001b[0m\u001b[0;34m(\u001b[0m\u001b[0mself\u001b[0m\u001b[0;34m.\u001b[0m\u001b[0mparam_grid\u001b[0m\u001b[0;34m)\u001b[0m\u001b[0;34m)\u001b[0m\u001b[0;34m\u001b[0m\u001b[0m\n\u001b[0m\u001b[1;32m    946\u001b[0m \u001b[0;34m\u001b[0m\u001b[0m\n\u001b[1;32m    947\u001b[0m \u001b[0;34m\u001b[0m\u001b[0m\n",
      "\u001b[0;32m/home/brian/anaconda3/lib/python3.6/site-packages/sklearn/model_selection/_search.py\u001b[0m in \u001b[0;36m_fit\u001b[0;34m(self, X, y, groups, parameter_iterable)\u001b[0m\n\u001b[1;32m    562\u001b[0m                                   \u001b[0mreturn_times\u001b[0m\u001b[0;34m=\u001b[0m\u001b[0;32mTrue\u001b[0m\u001b[0;34m,\u001b[0m \u001b[0mreturn_parameters\u001b[0m\u001b[0;34m=\u001b[0m\u001b[0;32mTrue\u001b[0m\u001b[0;34m,\u001b[0m\u001b[0;34m\u001b[0m\u001b[0m\n\u001b[1;32m    563\u001b[0m                                   error_score=self.error_score)\n\u001b[0;32m--> 564\u001b[0;31m           \u001b[0;32mfor\u001b[0m \u001b[0mparameters\u001b[0m \u001b[0;32min\u001b[0m \u001b[0mparameter_iterable\u001b[0m\u001b[0;34m\u001b[0m\u001b[0m\n\u001b[0m\u001b[1;32m    565\u001b[0m           for train, test in cv_iter)\n\u001b[1;32m    566\u001b[0m \u001b[0;34m\u001b[0m\u001b[0m\n",
      "\u001b[0;32m/home/brian/anaconda3/lib/python3.6/site-packages/sklearn/externals/joblib/parallel.py\u001b[0m in \u001b[0;36m__call__\u001b[0;34m(self, iterable)\u001b[0m\n\u001b[1;32m    766\u001b[0m                 \u001b[0;31m# consumption.\u001b[0m\u001b[0;34m\u001b[0m\u001b[0;34m\u001b[0m\u001b[0m\n\u001b[1;32m    767\u001b[0m                 \u001b[0mself\u001b[0m\u001b[0;34m.\u001b[0m\u001b[0m_iterating\u001b[0m \u001b[0;34m=\u001b[0m \u001b[0;32mFalse\u001b[0m\u001b[0;34m\u001b[0m\u001b[0m\n\u001b[0;32m--> 768\u001b[0;31m             \u001b[0mself\u001b[0m\u001b[0;34m.\u001b[0m\u001b[0mretrieve\u001b[0m\u001b[0;34m(\u001b[0m\u001b[0;34m)\u001b[0m\u001b[0;34m\u001b[0m\u001b[0m\n\u001b[0m\u001b[1;32m    769\u001b[0m             \u001b[0;31m# Make sure that we get a last message telling us we are done\u001b[0m\u001b[0;34m\u001b[0m\u001b[0;34m\u001b[0m\u001b[0m\n\u001b[1;32m    770\u001b[0m             \u001b[0melapsed_time\u001b[0m \u001b[0;34m=\u001b[0m \u001b[0mtime\u001b[0m\u001b[0;34m.\u001b[0m\u001b[0mtime\u001b[0m\u001b[0;34m(\u001b[0m\u001b[0;34m)\u001b[0m \u001b[0;34m-\u001b[0m \u001b[0mself\u001b[0m\u001b[0;34m.\u001b[0m\u001b[0m_start_time\u001b[0m\u001b[0;34m\u001b[0m\u001b[0m\n",
      "\u001b[0;32m/home/brian/anaconda3/lib/python3.6/site-packages/sklearn/externals/joblib/parallel.py\u001b[0m in \u001b[0;36mretrieve\u001b[0;34m(self)\u001b[0m\n\u001b[1;32m    717\u001b[0m                     \u001b[0mensure_ready\u001b[0m \u001b[0;34m=\u001b[0m \u001b[0mself\u001b[0m\u001b[0;34m.\u001b[0m\u001b[0m_managed_backend\u001b[0m\u001b[0;34m\u001b[0m\u001b[0m\n\u001b[1;32m    718\u001b[0m                     \u001b[0mbackend\u001b[0m\u001b[0;34m.\u001b[0m\u001b[0mabort_everything\u001b[0m\u001b[0;34m(\u001b[0m\u001b[0mensure_ready\u001b[0m\u001b[0;34m=\u001b[0m\u001b[0mensure_ready\u001b[0m\u001b[0;34m)\u001b[0m\u001b[0;34m\u001b[0m\u001b[0m\n\u001b[0;32m--> 719\u001b[0;31m                 \u001b[0;32mraise\u001b[0m \u001b[0mexception\u001b[0m\u001b[0;34m\u001b[0m\u001b[0m\n\u001b[0m\u001b[1;32m    720\u001b[0m \u001b[0;34m\u001b[0m\u001b[0m\n\u001b[1;32m    721\u001b[0m     \u001b[0;32mdef\u001b[0m \u001b[0m__call__\u001b[0m\u001b[0;34m(\u001b[0m\u001b[0mself\u001b[0m\u001b[0;34m,\u001b[0m \u001b[0miterable\u001b[0m\u001b[0;34m)\u001b[0m\u001b[0;34m:\u001b[0m\u001b[0;34m\u001b[0m\u001b[0m\n",
      "\u001b[0;32m/home/brian/anaconda3/lib/python3.6/site-packages/sklearn/externals/joblib/parallel.py\u001b[0m in \u001b[0;36mretrieve\u001b[0;34m(self)\u001b[0m\n\u001b[1;32m    680\u001b[0m                 \u001b[0;31m# check if timeout supported in backend future implementation\u001b[0m\u001b[0;34m\u001b[0m\u001b[0;34m\u001b[0m\u001b[0m\n\u001b[1;32m    681\u001b[0m                 \u001b[0;32mif\u001b[0m \u001b[0;34m'timeout'\u001b[0m \u001b[0;32min\u001b[0m \u001b[0mgetfullargspec\u001b[0m\u001b[0;34m(\u001b[0m\u001b[0mjob\u001b[0m\u001b[0;34m.\u001b[0m\u001b[0mget\u001b[0m\u001b[0;34m)\u001b[0m\u001b[0;34m.\u001b[0m\u001b[0margs\u001b[0m\u001b[0;34m:\u001b[0m\u001b[0;34m\u001b[0m\u001b[0m\n\u001b[0;32m--> 682\u001b[0;31m                     \u001b[0mself\u001b[0m\u001b[0;34m.\u001b[0m\u001b[0m_output\u001b[0m\u001b[0;34m.\u001b[0m\u001b[0mextend\u001b[0m\u001b[0;34m(\u001b[0m\u001b[0mjob\u001b[0m\u001b[0;34m.\u001b[0m\u001b[0mget\u001b[0m\u001b[0;34m(\u001b[0m\u001b[0mtimeout\u001b[0m\u001b[0;34m=\u001b[0m\u001b[0mself\u001b[0m\u001b[0;34m.\u001b[0m\u001b[0mtimeout\u001b[0m\u001b[0;34m)\u001b[0m\u001b[0;34m)\u001b[0m\u001b[0;34m\u001b[0m\u001b[0m\n\u001b[0m\u001b[1;32m    683\u001b[0m                 \u001b[0;32melse\u001b[0m\u001b[0;34m:\u001b[0m\u001b[0;34m\u001b[0m\u001b[0m\n\u001b[1;32m    684\u001b[0m                     \u001b[0mself\u001b[0m\u001b[0;34m.\u001b[0m\u001b[0m_output\u001b[0m\u001b[0;34m.\u001b[0m\u001b[0mextend\u001b[0m\u001b[0;34m(\u001b[0m\u001b[0mjob\u001b[0m\u001b[0;34m.\u001b[0m\u001b[0mget\u001b[0m\u001b[0;34m(\u001b[0m\u001b[0;34m)\u001b[0m\u001b[0;34m)\u001b[0m\u001b[0;34m\u001b[0m\u001b[0m\n",
      "\u001b[0;32m/home/brian/anaconda3/lib/python3.6/multiprocessing/pool.py\u001b[0m in \u001b[0;36mget\u001b[0;34m(self, timeout)\u001b[0m\n\u001b[1;32m    600\u001b[0m \u001b[0;34m\u001b[0m\u001b[0m\n\u001b[1;32m    601\u001b[0m     \u001b[0;32mdef\u001b[0m \u001b[0mget\u001b[0m\u001b[0;34m(\u001b[0m\u001b[0mself\u001b[0m\u001b[0;34m,\u001b[0m \u001b[0mtimeout\u001b[0m\u001b[0;34m=\u001b[0m\u001b[0;32mNone\u001b[0m\u001b[0;34m)\u001b[0m\u001b[0;34m:\u001b[0m\u001b[0;34m\u001b[0m\u001b[0m\n\u001b[0;32m--> 602\u001b[0;31m         \u001b[0mself\u001b[0m\u001b[0;34m.\u001b[0m\u001b[0mwait\u001b[0m\u001b[0;34m(\u001b[0m\u001b[0mtimeout\u001b[0m\u001b[0;34m)\u001b[0m\u001b[0;34m\u001b[0m\u001b[0m\n\u001b[0m\u001b[1;32m    603\u001b[0m         \u001b[0;32mif\u001b[0m \u001b[0;32mnot\u001b[0m \u001b[0mself\u001b[0m\u001b[0;34m.\u001b[0m\u001b[0mready\u001b[0m\u001b[0;34m(\u001b[0m\u001b[0;34m)\u001b[0m\u001b[0;34m:\u001b[0m\u001b[0;34m\u001b[0m\u001b[0m\n\u001b[1;32m    604\u001b[0m             \u001b[0;32mraise\u001b[0m \u001b[0mTimeoutError\u001b[0m\u001b[0;34m\u001b[0m\u001b[0m\n",
      "\u001b[0;32m/home/brian/anaconda3/lib/python3.6/multiprocessing/pool.py\u001b[0m in \u001b[0;36mwait\u001b[0;34m(self, timeout)\u001b[0m\n\u001b[1;32m    597\u001b[0m \u001b[0;34m\u001b[0m\u001b[0m\n\u001b[1;32m    598\u001b[0m     \u001b[0;32mdef\u001b[0m \u001b[0mwait\u001b[0m\u001b[0;34m(\u001b[0m\u001b[0mself\u001b[0m\u001b[0;34m,\u001b[0m \u001b[0mtimeout\u001b[0m\u001b[0;34m=\u001b[0m\u001b[0;32mNone\u001b[0m\u001b[0;34m)\u001b[0m\u001b[0;34m:\u001b[0m\u001b[0;34m\u001b[0m\u001b[0m\n\u001b[0;32m--> 599\u001b[0;31m         \u001b[0mself\u001b[0m\u001b[0;34m.\u001b[0m\u001b[0m_event\u001b[0m\u001b[0;34m.\u001b[0m\u001b[0mwait\u001b[0m\u001b[0;34m(\u001b[0m\u001b[0mtimeout\u001b[0m\u001b[0;34m)\u001b[0m\u001b[0;34m\u001b[0m\u001b[0m\n\u001b[0m\u001b[1;32m    600\u001b[0m \u001b[0;34m\u001b[0m\u001b[0m\n\u001b[1;32m    601\u001b[0m     \u001b[0;32mdef\u001b[0m \u001b[0mget\u001b[0m\u001b[0;34m(\u001b[0m\u001b[0mself\u001b[0m\u001b[0;34m,\u001b[0m \u001b[0mtimeout\u001b[0m\u001b[0;34m=\u001b[0m\u001b[0;32mNone\u001b[0m\u001b[0;34m)\u001b[0m\u001b[0;34m:\u001b[0m\u001b[0;34m\u001b[0m\u001b[0m\n",
      "\u001b[0;32m/home/brian/anaconda3/lib/python3.6/threading.py\u001b[0m in \u001b[0;36mwait\u001b[0;34m(self, timeout)\u001b[0m\n\u001b[1;32m    549\u001b[0m             \u001b[0msignaled\u001b[0m \u001b[0;34m=\u001b[0m \u001b[0mself\u001b[0m\u001b[0;34m.\u001b[0m\u001b[0m_flag\u001b[0m\u001b[0;34m\u001b[0m\u001b[0m\n\u001b[1;32m    550\u001b[0m             \u001b[0;32mif\u001b[0m \u001b[0;32mnot\u001b[0m \u001b[0msignaled\u001b[0m\u001b[0;34m:\u001b[0m\u001b[0;34m\u001b[0m\u001b[0m\n\u001b[0;32m--> 551\u001b[0;31m                 \u001b[0msignaled\u001b[0m \u001b[0;34m=\u001b[0m \u001b[0mself\u001b[0m\u001b[0;34m.\u001b[0m\u001b[0m_cond\u001b[0m\u001b[0;34m.\u001b[0m\u001b[0mwait\u001b[0m\u001b[0;34m(\u001b[0m\u001b[0mtimeout\u001b[0m\u001b[0;34m)\u001b[0m\u001b[0;34m\u001b[0m\u001b[0m\n\u001b[0m\u001b[1;32m    552\u001b[0m             \u001b[0;32mreturn\u001b[0m \u001b[0msignaled\u001b[0m\u001b[0;34m\u001b[0m\u001b[0m\n\u001b[1;32m    553\u001b[0m \u001b[0;34m\u001b[0m\u001b[0m\n",
      "\u001b[0;32m/home/brian/anaconda3/lib/python3.6/threading.py\u001b[0m in \u001b[0;36mwait\u001b[0;34m(self, timeout)\u001b[0m\n\u001b[1;32m    293\u001b[0m         \u001b[0;32mtry\u001b[0m\u001b[0;34m:\u001b[0m    \u001b[0;31m# restore state no matter what (e.g., KeyboardInterrupt)\u001b[0m\u001b[0;34m\u001b[0m\u001b[0m\n\u001b[1;32m    294\u001b[0m             \u001b[0;32mif\u001b[0m \u001b[0mtimeout\u001b[0m \u001b[0;32mis\u001b[0m \u001b[0;32mNone\u001b[0m\u001b[0;34m:\u001b[0m\u001b[0;34m\u001b[0m\u001b[0m\n\u001b[0;32m--> 295\u001b[0;31m                 \u001b[0mwaiter\u001b[0m\u001b[0;34m.\u001b[0m\u001b[0macquire\u001b[0m\u001b[0;34m(\u001b[0m\u001b[0;34m)\u001b[0m\u001b[0;34m\u001b[0m\u001b[0m\n\u001b[0m\u001b[1;32m    296\u001b[0m                 \u001b[0mgotit\u001b[0m \u001b[0;34m=\u001b[0m \u001b[0;32mTrue\u001b[0m\u001b[0;34m\u001b[0m\u001b[0m\n\u001b[1;32m    297\u001b[0m             \u001b[0;32melse\u001b[0m\u001b[0;34m:\u001b[0m\u001b[0;34m\u001b[0m\u001b[0m\n",
      "\u001b[0;31mKeyboardInterrupt\u001b[0m: "
     ]
    }
   ],
   "source": [
    "manner_classifier2 = copy.deepcopy(grid_search)\n",
    "manner_classifier2.fit(aligned_data, trans_labels['manner'])\n",
    "m_score2 = manner_classifier2.score(aligned_data, trans_labels['manner'])\n",
    "\n",
    "print('manner score:',m_score2)"
   ]
  },
  {
   "cell_type": "code",
   "execution_count": 61,
   "metadata": {
    "collapsed": false
   },
   "outputs": [
    {
     "name": "stdout",
     "output_type": "stream",
     "text": [
      "place score: 0.281509433962\n"
     ]
    }
   ],
   "source": [
    "place_classifier2 = MLPC(solver='adam',hidden_layer_sizes=(60,60),random_state=6, max_iter=300)\n",
    "place_classifier2.fit(aligned_data, trans_labels['place'])\n",
    "p_score2 = place_classifier2.score(aligned_data, trans_labels['place'])\n",
    "\n",
    "print('place score:',p_score2)"
   ]
  },
  {
   "cell_type": "code",
   "execution_count": 83,
   "metadata": {
    "collapsed": false
   },
   "outputs": [
    {
     "name": "stdout",
     "output_type": "stream",
     "text": [
      "height score: 0.532051282051\n"
     ]
    }
   ],
   "source": [
    "height_classifier2 = MLPC(solver='lbfgs',hidden_layer_sizes=(60,60),random_state=9)\n",
    "height_classifier2.fit(aligned_data, trans_labels['height'])\n",
    "h_score2 = height_classifier2.score(aligned_data, trans_labels['height'])\n",
    "\n",
    "print('height score:',h_score2)"
   ]
  },
  {
   "cell_type": "code",
   "execution_count": 84,
   "metadata": {
    "collapsed": false
   },
   "outputs": [
    {
     "name": "stdout",
     "output_type": "stream",
     "text": [
      "vowel score: 0.647435897436\n"
     ]
    }
   ],
   "source": [
    "vowel_classifier2 = MLPC(solver='lbfgs',hidden_layer_sizes=(240,240,240),random_state=12)\n",
    "vowel_classifier2.fit(aligned_data, trans_labels['vowel'])\n",
    "v_score2 = vowel_classifier2.score(aligned_data, trans_labels['vowel'])\n",
    "\n",
    "print('vowel score:',v_score2)"
   ]
  },
  {
   "cell_type": "code",
   "execution_count": 66,
   "metadata": {
    "collapsed": false
   },
   "outputs": [
    {
     "name": "stdout",
     "output_type": "stream",
     "text": [
      "    0.000000  0.033333  0.033333  0.066667  0.066667  0.100000  0.100000  \\\n",
      "0  48.133594  0.184898  0.521387  0.658988  0.484811  0.207412  0.830928   \n",
      "1  48.391406  0.434197  0.334258  0.323602  0.734820  0.048160  0.231146   \n",
      "2  48.017578  0.087168  0.253308  0.201288  1.038683  0.474576  0.374263   \n",
      "3  48.417187  0.001295  0.219229  0.280249  0.731593  0.085533  0.095184   \n",
      "4  48.120703  0.063312  0.076657  0.783632  0.326545  0.120802  0.117231   \n",
      "\n",
      "   0.133333  0.133333  0.166667    ...     0.333333  0.366667  0.366667  \\\n",
      "0  0.343484  0.126331  0.251367    ...     0.256763  0.126939  0.047097   \n",
      "1  0.099682  0.464614  0.045117    ...     0.100472  0.059356  0.001035   \n",
      "2  0.594198  0.037230  0.315820    ...     0.033491  0.175025  0.098646   \n",
      "3  0.330538  0.124166  0.154687    ...     0.044654  0.026136  0.052012   \n",
      "4  0.628709  0.007656  0.296484    ...     0.111636  0.072937  0.092085   \n",
      "\n",
      "   0.400000  0.400000  0.433333  0.433333  0.466667  0.466667  0.500000  \n",
      "0  0.047357  0.119020  0.074875  0.004445  0.017760  0.082136  0.154688  \n",
      "1  0.024704  0.037201  0.026500  0.012870  0.014149  0.010682  0.051563  \n",
      "2  0.026722  0.154433  0.078155  0.018045  0.182913  0.094629  0.012891  \n",
      "3  0.014993  0.013626  0.087315  0.109835  0.015850  0.089193  0.232031  \n",
      "4  0.021883  0.020520  0.006652  0.089282  0.022458  0.084795  0.064453  \n",
      "\n",
      "[5 rows x 30 columns] DH    voiced-fricative\n",
      "AH               vowel\n",
      "F            fricative\n",
      "AE               vowel\n",
      "M                nasal\n",
      "Name: manner, dtype: object\n"
     ]
    },
    {
     "ename": "InvalidIndexError",
     "evalue": "Reindexing only valid with uniquely valued Index objects",
     "output_type": "error",
     "traceback": [
      "\u001b[0;31m---------------------------------------------------------------------------\u001b[0m",
      "\u001b[0;31mInvalidIndexError\u001b[0m                         Traceback (most recent call last)",
      "\u001b[0;32m<ipython-input-66-324d9ab4fa3f>\u001b[0m in \u001b[0;36m<module>\u001b[0;34m()\u001b[0m\n\u001b[1;32m      1\u001b[0m \u001b[0mprint\u001b[0m\u001b[0;34m(\u001b[0m\u001b[0maligned_data\u001b[0m\u001b[0;34m.\u001b[0m\u001b[0mhead\u001b[0m\u001b[0;34m(\u001b[0m\u001b[0;34m)\u001b[0m\u001b[0;34m,\u001b[0m\u001b[0mtrans_labels\u001b[0m\u001b[0;34m[\u001b[0m\u001b[0;34m'manner'\u001b[0m\u001b[0;34m]\u001b[0m\u001b[0;34m.\u001b[0m\u001b[0mhead\u001b[0m\u001b[0;34m(\u001b[0m\u001b[0;34m)\u001b[0m\u001b[0;34m)\u001b[0m\u001b[0;34m\u001b[0m\u001b[0m\n\u001b[1;32m      2\u001b[0m \u001b[0;34m\u001b[0m\u001b[0m\n\u001b[0;32m----> 3\u001b[0;31m \u001b[0mphoneme_inputs\u001b[0m \u001b[0;34m=\u001b[0m \u001b[0mpandas\u001b[0m\u001b[0;34m.\u001b[0m\u001b[0mconcat\u001b[0m\u001b[0;34m(\u001b[0m\u001b[0;34m[\u001b[0m\u001b[0maligned_data\u001b[0m\u001b[0;34m,\u001b[0m\u001b[0mtrans_labels\u001b[0m\u001b[0;34m[\u001b[0m\u001b[0;34m'manner'\u001b[0m\u001b[0;34m]\u001b[0m\u001b[0;34m,\u001b[0m\u001b[0mtrans_labels\u001b[0m\u001b[0;34m[\u001b[0m\u001b[0;34m'place'\u001b[0m\u001b[0;34m]\u001b[0m\u001b[0;34m,\u001b[0m\u001b[0mtrans_labels\u001b[0m\u001b[0;34m[\u001b[0m\u001b[0;34m'height'\u001b[0m\u001b[0;34m]\u001b[0m\u001b[0;34m,\u001b[0m\u001b[0mtrans_labels\u001b[0m\u001b[0;34m[\u001b[0m\u001b[0;34m'vowel'\u001b[0m\u001b[0;34m]\u001b[0m\u001b[0;34m]\u001b[0m\u001b[0;34m,\u001b[0m\u001b[0maxis\u001b[0m\u001b[0;34m=\u001b[0m\u001b[0;36m1\u001b[0m\u001b[0;34m,\u001b[0m\u001b[0mjoin\u001b[0m\u001b[0;34m=\u001b[0m\u001b[0;34m'outer'\u001b[0m\u001b[0;34m)\u001b[0m\u001b[0;34m\u001b[0m\u001b[0m\n\u001b[0m\u001b[1;32m      4\u001b[0m \u001b[0mphoneme_labels\u001b[0m \u001b[0;34m=\u001b[0m \u001b[0mtrans_labels\u001b[0m\u001b[0;34m.\u001b[0m\u001b[0maxes\u001b[0m\u001b[0;34m[\u001b[0m\u001b[0;36m0\u001b[0m\u001b[0;34m]\u001b[0m\u001b[0;34m\u001b[0m\u001b[0m\n\u001b[1;32m      5\u001b[0m \u001b[0mphoneme_classifier\u001b[0m \u001b[0;34m=\u001b[0m \u001b[0mMLPC\u001b[0m\u001b[0;34m(\u001b[0m\u001b[0msolver\u001b[0m\u001b[0;34m=\u001b[0m\u001b[0;34m'adam'\u001b[0m\u001b[0;34m,\u001b[0m\u001b[0mhidden_layer_sizes\u001b[0m\u001b[0;34m=\u001b[0m\u001b[0;34m(\u001b[0m\u001b[0;36m90\u001b[0m\u001b[0;34m,\u001b[0m\u001b[0;36m90\u001b[0m\u001b[0;34m)\u001b[0m\u001b[0;34m,\u001b[0m\u001b[0mrandom_state\u001b[0m\u001b[0;34m=\u001b[0m\u001b[0;36m6\u001b[0m\u001b[0;34m,\u001b[0m \u001b[0mmax_iter\u001b[0m\u001b[0;34m=\u001b[0m\u001b[0;36m300\u001b[0m\u001b[0;34m)\u001b[0m\u001b[0;34m\u001b[0m\u001b[0m\n",
      "\u001b[0;32m/home/brian/anaconda3/lib/python3.6/site-packages/pandas/tools/merge.py\u001b[0m in \u001b[0;36mconcat\u001b[0;34m(objs, axis, join, join_axes, ignore_index, keys, levels, names, verify_integrity, copy)\u001b[0m\n\u001b[1;32m   1449\u001b[0m                        \u001b[0mkeys\u001b[0m\u001b[0;34m=\u001b[0m\u001b[0mkeys\u001b[0m\u001b[0;34m,\u001b[0m \u001b[0mlevels\u001b[0m\u001b[0;34m=\u001b[0m\u001b[0mlevels\u001b[0m\u001b[0;34m,\u001b[0m \u001b[0mnames\u001b[0m\u001b[0;34m=\u001b[0m\u001b[0mnames\u001b[0m\u001b[0;34m,\u001b[0m\u001b[0;34m\u001b[0m\u001b[0m\n\u001b[1;32m   1450\u001b[0m                        \u001b[0mverify_integrity\u001b[0m\u001b[0;34m=\u001b[0m\u001b[0mverify_integrity\u001b[0m\u001b[0;34m,\u001b[0m\u001b[0;34m\u001b[0m\u001b[0m\n\u001b[0;32m-> 1451\u001b[0;31m                        copy=copy)\n\u001b[0m\u001b[1;32m   1452\u001b[0m     \u001b[0;32mreturn\u001b[0m \u001b[0mop\u001b[0m\u001b[0;34m.\u001b[0m\u001b[0mget_result\u001b[0m\u001b[0;34m(\u001b[0m\u001b[0;34m)\u001b[0m\u001b[0;34m\u001b[0m\u001b[0m\n\u001b[1;32m   1453\u001b[0m \u001b[0;34m\u001b[0m\u001b[0m\n",
      "\u001b[0;32m/home/brian/anaconda3/lib/python3.6/site-packages/pandas/tools/merge.py\u001b[0m in \u001b[0;36m__init__\u001b[0;34m(self, objs, axis, join, join_axes, keys, levels, names, ignore_index, verify_integrity, copy)\u001b[0m\n\u001b[1;32m   1595\u001b[0m         \u001b[0mself\u001b[0m\u001b[0;34m.\u001b[0m\u001b[0mcopy\u001b[0m \u001b[0;34m=\u001b[0m \u001b[0mcopy\u001b[0m\u001b[0;34m\u001b[0m\u001b[0m\n\u001b[1;32m   1596\u001b[0m \u001b[0;34m\u001b[0m\u001b[0m\n\u001b[0;32m-> 1597\u001b[0;31m         \u001b[0mself\u001b[0m\u001b[0;34m.\u001b[0m\u001b[0mnew_axes\u001b[0m \u001b[0;34m=\u001b[0m \u001b[0mself\u001b[0m\u001b[0;34m.\u001b[0m\u001b[0m_get_new_axes\u001b[0m\u001b[0;34m(\u001b[0m\u001b[0;34m)\u001b[0m\u001b[0;34m\u001b[0m\u001b[0m\n\u001b[0m\u001b[1;32m   1598\u001b[0m \u001b[0;34m\u001b[0m\u001b[0m\n\u001b[1;32m   1599\u001b[0m     \u001b[0;32mdef\u001b[0m \u001b[0mget_result\u001b[0m\u001b[0;34m(\u001b[0m\u001b[0mself\u001b[0m\u001b[0;34m)\u001b[0m\u001b[0;34m:\u001b[0m\u001b[0;34m\u001b[0m\u001b[0m\n",
      "\u001b[0;32m/home/brian/anaconda3/lib/python3.6/site-packages/pandas/tools/merge.py\u001b[0m in \u001b[0;36m_get_new_axes\u001b[0;34m(self)\u001b[0m\n\u001b[1;32m   1670\u001b[0m                 \u001b[0;32mif\u001b[0m \u001b[0mi\u001b[0m \u001b[0;34m==\u001b[0m \u001b[0mself\u001b[0m\u001b[0;34m.\u001b[0m\u001b[0maxis\u001b[0m\u001b[0;34m:\u001b[0m\u001b[0;34m\u001b[0m\u001b[0m\n\u001b[1;32m   1671\u001b[0m                     \u001b[0;32mcontinue\u001b[0m\u001b[0;34m\u001b[0m\u001b[0m\n\u001b[0;32m-> 1672\u001b[0;31m                 \u001b[0mnew_axes\u001b[0m\u001b[0;34m[\u001b[0m\u001b[0mi\u001b[0m\u001b[0;34m]\u001b[0m \u001b[0;34m=\u001b[0m \u001b[0mself\u001b[0m\u001b[0;34m.\u001b[0m\u001b[0m_get_comb_axis\u001b[0m\u001b[0;34m(\u001b[0m\u001b[0mi\u001b[0m\u001b[0;34m)\u001b[0m\u001b[0;34m\u001b[0m\u001b[0m\n\u001b[0m\u001b[1;32m   1673\u001b[0m         \u001b[0;32melse\u001b[0m\u001b[0;34m:\u001b[0m\u001b[0;34m\u001b[0m\u001b[0m\n\u001b[1;32m   1674\u001b[0m             \u001b[0;32mif\u001b[0m \u001b[0mlen\u001b[0m\u001b[0;34m(\u001b[0m\u001b[0mself\u001b[0m\u001b[0;34m.\u001b[0m\u001b[0mjoin_axes\u001b[0m\u001b[0;34m)\u001b[0m \u001b[0;34m!=\u001b[0m \u001b[0mndim\u001b[0m \u001b[0;34m-\u001b[0m \u001b[0;36m1\u001b[0m\u001b[0;34m:\u001b[0m\u001b[0;34m\u001b[0m\u001b[0m\n",
      "\u001b[0;32m/home/brian/anaconda3/lib/python3.6/site-packages/pandas/tools/merge.py\u001b[0m in \u001b[0;36m_get_comb_axis\u001b[0;34m(self, i)\u001b[0m\n\u001b[1;32m   1696\u001b[0m                 \u001b[0;32mraise\u001b[0m \u001b[0mTypeError\u001b[0m\u001b[0;34m(\u001b[0m\u001b[0;34m\"Cannot concatenate list of %s\"\u001b[0m \u001b[0;34m%\u001b[0m \u001b[0mtypes\u001b[0m\u001b[0;34m)\u001b[0m\u001b[0;34m\u001b[0m\u001b[0m\n\u001b[1;32m   1697\u001b[0m \u001b[0;34m\u001b[0m\u001b[0m\n\u001b[0;32m-> 1698\u001b[0;31m         \u001b[0;32mreturn\u001b[0m \u001b[0m_get_combined_index\u001b[0m\u001b[0;34m(\u001b[0m\u001b[0mall_indexes\u001b[0m\u001b[0;34m,\u001b[0m \u001b[0mintersect\u001b[0m\u001b[0;34m=\u001b[0m\u001b[0mself\u001b[0m\u001b[0;34m.\u001b[0m\u001b[0mintersect\u001b[0m\u001b[0;34m)\u001b[0m\u001b[0;34m\u001b[0m\u001b[0m\n\u001b[0m\u001b[1;32m   1699\u001b[0m \u001b[0;34m\u001b[0m\u001b[0m\n\u001b[1;32m   1700\u001b[0m     \u001b[0;32mdef\u001b[0m \u001b[0m_get_concat_axis\u001b[0m\u001b[0;34m(\u001b[0m\u001b[0mself\u001b[0m\u001b[0;34m)\u001b[0m\u001b[0;34m:\u001b[0m\u001b[0;34m\u001b[0m\u001b[0m\n",
      "\u001b[0;32m/home/brian/anaconda3/lib/python3.6/site-packages/pandas/indexes/api.py\u001b[0m in \u001b[0;36m_get_combined_index\u001b[0;34m(indexes, intersect)\u001b[0m\n\u001b[1;32m     35\u001b[0m             \u001b[0mindex\u001b[0m \u001b[0;34m=\u001b[0m \u001b[0mindex\u001b[0m\u001b[0;34m.\u001b[0m\u001b[0mintersection\u001b[0m\u001b[0;34m(\u001b[0m\u001b[0mother\u001b[0m\u001b[0;34m)\u001b[0m\u001b[0;34m\u001b[0m\u001b[0m\n\u001b[1;32m     36\u001b[0m         \u001b[0;32mreturn\u001b[0m \u001b[0mindex\u001b[0m\u001b[0;34m\u001b[0m\u001b[0m\n\u001b[0;32m---> 37\u001b[0;31m     \u001b[0munion\u001b[0m \u001b[0;34m=\u001b[0m \u001b[0m_union_indexes\u001b[0m\u001b[0;34m(\u001b[0m\u001b[0mindexes\u001b[0m\u001b[0;34m)\u001b[0m\u001b[0;34m\u001b[0m\u001b[0m\n\u001b[0m\u001b[1;32m     38\u001b[0m     \u001b[0;32mreturn\u001b[0m \u001b[0m_ensure_index\u001b[0m\u001b[0;34m(\u001b[0m\u001b[0munion\u001b[0m\u001b[0;34m)\u001b[0m\u001b[0;34m\u001b[0m\u001b[0m\n\u001b[1;32m     39\u001b[0m \u001b[0;34m\u001b[0m\u001b[0m\n",
      "\u001b[0;32m/home/brian/anaconda3/lib/python3.6/site-packages/pandas/indexes/api.py\u001b[0m in \u001b[0;36m_union_indexes\u001b[0;34m(indexes)\u001b[0m\n\u001b[1;32m     69\u001b[0m         \u001b[0;32melse\u001b[0m\u001b[0;34m:\u001b[0m\u001b[0;34m\u001b[0m\u001b[0m\n\u001b[1;32m     70\u001b[0m             \u001b[0;32mfor\u001b[0m \u001b[0mother\u001b[0m \u001b[0;32min\u001b[0m \u001b[0mindexes\u001b[0m\u001b[0;34m[\u001b[0m\u001b[0;36m1\u001b[0m\u001b[0;34m:\u001b[0m\u001b[0;34m]\u001b[0m\u001b[0;34m:\u001b[0m\u001b[0;34m\u001b[0m\u001b[0m\n\u001b[0;32m---> 71\u001b[0;31m                 \u001b[0mresult\u001b[0m \u001b[0;34m=\u001b[0m \u001b[0mresult\u001b[0m\u001b[0;34m.\u001b[0m\u001b[0munion\u001b[0m\u001b[0;34m(\u001b[0m\u001b[0mother\u001b[0m\u001b[0;34m)\u001b[0m\u001b[0;34m\u001b[0m\u001b[0m\n\u001b[0m\u001b[1;32m     72\u001b[0m             \u001b[0;32mreturn\u001b[0m \u001b[0mresult\u001b[0m\u001b[0;34m\u001b[0m\u001b[0m\n\u001b[1;32m     73\u001b[0m     \u001b[0;32melif\u001b[0m \u001b[0mkind\u001b[0m \u001b[0;34m==\u001b[0m \u001b[0;34m'array'\u001b[0m\u001b[0;34m:\u001b[0m\u001b[0;34m\u001b[0m\u001b[0m\n",
      "\u001b[0;32m/home/brian/anaconda3/lib/python3.6/site-packages/pandas/indexes/base.py\u001b[0m in \u001b[0;36munion\u001b[0;34m(self, other)\u001b[0m\n\u001b[1;32m   1853\u001b[0m             \u001b[0mthis\u001b[0m \u001b[0;34m=\u001b[0m \u001b[0mself\u001b[0m\u001b[0;34m.\u001b[0m\u001b[0mastype\u001b[0m\u001b[0;34m(\u001b[0m\u001b[0;34m'O'\u001b[0m\u001b[0;34m)\u001b[0m\u001b[0;34m\u001b[0m\u001b[0m\n\u001b[1;32m   1854\u001b[0m             \u001b[0mother\u001b[0m \u001b[0;34m=\u001b[0m \u001b[0mother\u001b[0m\u001b[0;34m.\u001b[0m\u001b[0mastype\u001b[0m\u001b[0;34m(\u001b[0m\u001b[0;34m'O'\u001b[0m\u001b[0;34m)\u001b[0m\u001b[0;34m\u001b[0m\u001b[0m\n\u001b[0;32m-> 1855\u001b[0;31m             \u001b[0;32mreturn\u001b[0m \u001b[0mthis\u001b[0m\u001b[0;34m.\u001b[0m\u001b[0munion\u001b[0m\u001b[0;34m(\u001b[0m\u001b[0mother\u001b[0m\u001b[0;34m)\u001b[0m\u001b[0;34m\u001b[0m\u001b[0m\n\u001b[0m\u001b[1;32m   1856\u001b[0m \u001b[0;34m\u001b[0m\u001b[0m\n\u001b[1;32m   1857\u001b[0m         \u001b[0;32mif\u001b[0m \u001b[0mself\u001b[0m\u001b[0;34m.\u001b[0m\u001b[0mis_monotonic\u001b[0m \u001b[0;32mand\u001b[0m \u001b[0mother\u001b[0m\u001b[0;34m.\u001b[0m\u001b[0mis_monotonic\u001b[0m\u001b[0;34m:\u001b[0m\u001b[0;34m\u001b[0m\u001b[0m\n",
      "\u001b[0;32m/home/brian/anaconda3/lib/python3.6/site-packages/pandas/indexes/base.py\u001b[0m in \u001b[0;36munion\u001b[0;34m(self, other)\u001b[0m\n\u001b[1;32m   1866\u001b[0m                 \u001b[0mresult\u001b[0m\u001b[0;34m.\u001b[0m\u001b[0mextend\u001b[0m\u001b[0;34m(\u001b[0m\u001b[0;34m[\u001b[0m\u001b[0mx\u001b[0m \u001b[0;32mfor\u001b[0m \u001b[0mx\u001b[0m \u001b[0;32min\u001b[0m \u001b[0mother\u001b[0m\u001b[0;34m.\u001b[0m\u001b[0m_values\u001b[0m \u001b[0;32mif\u001b[0m \u001b[0mx\u001b[0m \u001b[0;32mnot\u001b[0m \u001b[0;32min\u001b[0m \u001b[0mvalue_set\u001b[0m\u001b[0;34m]\u001b[0m\u001b[0;34m)\u001b[0m\u001b[0;34m\u001b[0m\u001b[0m\n\u001b[1;32m   1867\u001b[0m         \u001b[0;32melse\u001b[0m\u001b[0;34m:\u001b[0m\u001b[0;34m\u001b[0m\u001b[0m\n\u001b[0;32m-> 1868\u001b[0;31m             \u001b[0mindexer\u001b[0m \u001b[0;34m=\u001b[0m \u001b[0mself\u001b[0m\u001b[0;34m.\u001b[0m\u001b[0mget_indexer\u001b[0m\u001b[0;34m(\u001b[0m\u001b[0mother\u001b[0m\u001b[0;34m)\u001b[0m\u001b[0;34m\u001b[0m\u001b[0m\n\u001b[0m\u001b[1;32m   1869\u001b[0m             \u001b[0mindexer\u001b[0m\u001b[0;34m,\u001b[0m \u001b[0;34m=\u001b[0m \u001b[0;34m(\u001b[0m\u001b[0mindexer\u001b[0m \u001b[0;34m==\u001b[0m \u001b[0;34m-\u001b[0m\u001b[0;36m1\u001b[0m\u001b[0;34m)\u001b[0m\u001b[0;34m.\u001b[0m\u001b[0mnonzero\u001b[0m\u001b[0;34m(\u001b[0m\u001b[0;34m)\u001b[0m\u001b[0;34m\u001b[0m\u001b[0m\n\u001b[1;32m   1870\u001b[0m \u001b[0;34m\u001b[0m\u001b[0m\n",
      "\u001b[0;32m/home/brian/anaconda3/lib/python3.6/site-packages/pandas/indexes/base.py\u001b[0m in \u001b[0;36mget_indexer\u001b[0;34m(self, target, method, limit, tolerance)\u001b[0m\n\u001b[1;32m   2269\u001b[0m \u001b[0;34m\u001b[0m\u001b[0m\n\u001b[1;32m   2270\u001b[0m         \u001b[0;32mif\u001b[0m \u001b[0;32mnot\u001b[0m \u001b[0mself\u001b[0m\u001b[0;34m.\u001b[0m\u001b[0mis_unique\u001b[0m\u001b[0;34m:\u001b[0m\u001b[0;34m\u001b[0m\u001b[0m\n\u001b[0;32m-> 2271\u001b[0;31m             raise InvalidIndexError('Reindexing only valid with uniquely'\n\u001b[0m\u001b[1;32m   2272\u001b[0m                                     ' valued Index objects')\n\u001b[1;32m   2273\u001b[0m \u001b[0;34m\u001b[0m\u001b[0m\n",
      "\u001b[0;31mInvalidIndexError\u001b[0m: Reindexing only valid with uniquely valued Index objects"
     ]
    }
   ],
   "source": [
    "print(aligned_data.head(),trans_labels['manner'].head())\n",
    "\n",
    "phoneme_inputs = pandas.concat([aligned_data,trans_labels['manner'],trans_labels['place'],trans_labels['height'],trans_labels['vowel']],axis=1,join='outer')\n",
    "phoneme_labels = trans_labels.axes[0]\n",
    "phoneme_classifier = MLPC(solver='adam',hidden_layer_sizes=(90,90),random_state=6, max_iter=300)\n",
    "phoneme_classifier.fit(phoneme_inputs, phoneme_labels)"
   ]
  },
  {
   "cell_type": "code",
   "execution_count": null,
   "metadata": {
    "collapsed": true
   },
   "outputs": [],
   "source": []
  }
 ],
 "metadata": {
  "kernelspec": {
   "display_name": "Python 3",
   "language": "python",
   "name": "python3"
  },
  "language_info": {
   "codemirror_mode": {
    "name": "ipython",
    "version": 3
   },
   "file_extension": ".py",
   "mimetype": "text/x-python",
   "name": "python",
   "nbconvert_exporter": "python",
   "pygments_lexer": "ipython3",
   "version": "3.6.0"
  }
 },
 "nbformat": 4,
 "nbformat_minor": 2
}
