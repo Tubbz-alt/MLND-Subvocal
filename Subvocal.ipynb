{
 "cells": [
  {
   "cell_type": "markdown",
   "metadata": {},
   "source": [
    "### Helper Classes\n",
    "\n",
    "First we get all of our helper modules. The prepare_EMG module will prepare the EMG data for phoneme recognition. The prepare_outputs module will prepare our target labels and align them with our EMG data. The module 'prepare_data' will help us read data from CSV into a dataframe. Finally, 'vis' will help visualize EMG data in both time and frequency domains. "
   ]
  },
  {
   "cell_type": "code",
   "execution_count": 22,
   "metadata": {
    "collapsed": false
   },
   "outputs": [
    {
     "name": "stdout",
     "output_type": "stream",
     "text": [
      "The autoreload extension is already loaded. To reload it, use:\n",
      "  %reload_ext autoreload\n"
     ]
    }
   ],
   "source": [
    "%load_ext autoreload\n",
    "%autoreload 2\n",
    "\n",
    "import prepare_EMG, prepare_outputs, prepare_data, vis\n",
    "autodetector = Output_Prep.detector\n",
    "EMG_Prep = prepare_EMG.EMG_preparer(window_size=30.0)\n",
    "Output_Prep = prepare_outputs.output_preparer(subvocal_detector = autodetector, window_size=30.0)\n",
    "Data_Prep = prepare_data.data_preparer()\n",
    "\n"
   ]
  },
  {
   "cell_type": "markdown",
   "metadata": {},
   "source": [
    "### Labeling the Data\n",
    "\n",
    "First, we need to visualize a few EMG voltage graphs to find some sections that most likely contain no subvocalization. Then, we'll need to find some regions that almost certainly do. These two classes of EMG readouts will serve to train an identifier to help us automatically label EMG windows with phonemes. The model used here will most likely be an SVC, inside \"prepare_outputs\". It will process each EMG window in order, and when it finds one that most likely contains subvocalization, it applies the next phoneme as that window's label. "
   ]
  },
  {
   "cell_type": "code",
   "execution_count": 2,
   "metadata": {
    "collapsed": false
   },
   "outputs": [
    {
     "data": {
      "text/plain": [
       "(       time   voltage\n",
       " 0         2 -0.412500\n",
       " 1         3 -0.812109\n",
       " 2         4 -1.057031\n",
       " 3         5 -1.237500\n",
       " 4         6 -1.353516\n",
       " 5         7 -1.456641\n",
       " 6         8 -1.521094\n",
       " 7         9 -1.559766\n",
       " 8        10 -1.598437\n",
       " 9        11 -1.611328\n",
       " 10       12 -1.624219\n",
       " 11       13 -1.637109\n",
       " 12       14 -1.650000\n",
       " 13       15 -1.650000\n",
       " 14       16 -1.650000\n",
       " 15       17 -1.650000\n",
       " 16       18 -1.650000\n",
       " 17       19 -1.637109\n",
       " 18       20 -1.624219\n",
       " 19       21 -1.624219\n",
       " 20       22 -1.624219\n",
       " 21       23 -1.637109\n",
       " 22       24 -1.637109\n",
       " 23       25 -1.637109\n",
       " 24       26 -1.637109\n",
       " 25       27 -1.624219\n",
       " 26       28 -1.611328\n",
       " 27       29 -1.624219\n",
       " 28       30 -1.637109\n",
       " 29       31 -1.650000\n",
       " ...     ...       ...\n",
       " 28716  1972 -1.611328\n",
       " 28717  1973 -1.637109\n",
       " 28718  1974 -1.650000\n",
       " 28719  1975 -1.650000\n",
       " 28720  1976 -1.650000\n",
       " 28721  1977 -1.650000\n",
       " 28722  1978 -1.650000\n",
       " 28723  1979 -1.650000\n",
       " 28724  1980 -1.637109\n",
       " 28725  1981 -1.533984\n",
       " 28726  1982 -1.533984\n",
       " 28727  1983 -1.546875\n",
       " 28728  1984 -1.559766\n",
       " 28729  1985 -1.585547\n",
       " 28730  1986 -1.611328\n",
       " 28731  1987 -1.611328\n",
       " 28732  1988 -1.611328\n",
       " 28733  1989 -1.598437\n",
       " 28734  1990 -1.611328\n",
       " 28735  1991 -1.637109\n",
       " 28736  1992 -1.650000\n",
       " 28737  1993 -1.650000\n",
       " 28738  1994 -1.650000\n",
       " 28739  1995 -1.650000\n",
       " 28740  1996 -1.650000\n",
       " 28741  1997 -1.624219\n",
       " 28742  1998 -1.611328\n",
       " 28743  1999 -1.611328\n",
       " 28744  2000 -1.611328\n",
       " 28745  2001 -1.624219\n",
       " \n",
       " [28746 rows x 2 columns],         time   voltage\n",
       " 0       5002 -1.495312\n",
       " 1       5003 -1.495312\n",
       " 2       5004 -1.533984\n",
       " 3       5005 -1.559766\n",
       " 4       5006 -1.559766\n",
       " 5       5007 -1.559766\n",
       " 6       5008 -1.585547\n",
       " 7       5009 -1.611328\n",
       " 8       5010 -1.637109\n",
       " 9       5011 -1.650000\n",
       " 10      5012 -1.650000\n",
       " 11      5013 -1.650000\n",
       " 12      5014 -1.650000\n",
       " 13      5015 -1.650000\n",
       " 14      5016 -1.650000\n",
       " 15      5017 -1.650000\n",
       " 16      5018 -1.650000\n",
       " 17      5019 -1.611328\n",
       " 18      5020 -1.598437\n",
       " 19      5021 -1.598437\n",
       " 20      5022 -1.611328\n",
       " 21      5023 -1.611328\n",
       " 22      5024 -1.611328\n",
       " 23      5025 -1.611328\n",
       " 24      5026 -1.611328\n",
       " 25      5027 -1.611328\n",
       " 26      5028 -1.611328\n",
       " 27      5029 -1.637109\n",
       " 28      5030 -1.650000\n",
       " 29      5031 -1.650000\n",
       " ...      ...       ...\n",
       " 31970  13972 -1.650000\n",
       " 31971  13973 -1.650000\n",
       " 31972  13974 -1.650000\n",
       " 31973  13975 -1.611328\n",
       " 31974  13976 -1.598437\n",
       " 31975  13977 -1.611328\n",
       " 31976  13978 -1.611328\n",
       " 31977  13979 -1.611328\n",
       " 31978  13980 -1.624219\n",
       " 31979  13981 -1.611328\n",
       " 31980  13982 -1.611328\n",
       " 31981  13983 -1.611328\n",
       " 31982  13984 -1.624219\n",
       " 31983  13985 -1.637109\n",
       " 31984  13986 -1.650000\n",
       " 31985  13987 -1.650000\n",
       " 31986  13988 -1.650000\n",
       " 31987  13989 -1.650000\n",
       " 31988  13990 -1.650000\n",
       " 31989  13991 -1.572656\n",
       " 31990  13992 -1.559766\n",
       " 31991  13993 -1.572656\n",
       " 31992  13994 -1.585547\n",
       " 31993  13995 -1.598437\n",
       " 31994  13996 -1.598437\n",
       " 31995  13997 -1.611328\n",
       " 31996  13998 -1.611328\n",
       " 31997  13999 -1.611328\n",
       " 31998  14000 -1.624219\n",
       " 31999  14001 -1.650000\n",
       " \n",
       " [32000 rows x 2 columns])"
      ]
     },
     "execution_count": 2,
     "metadata": {},
     "output_type": "execute_result"
    }
   ],
   "source": [
    "data_1 = Data_Prep.load('Sat Mar  4 00:44:23 2017')\n",
    "data_1[:3000]\n",
    "\n",
    "data_no_sv = Data_Prep.sv_detection()\n",
    "data_no_sv"
   ]
  },
  {
   "cell_type": "code",
   "execution_count": null,
   "metadata": {
    "collapsed": false
   },
   "outputs": [],
   "source": [
    "\n"
   ]
  },
  {
   "cell_type": "code",
   "execution_count": 21,
   "metadata": {
    "collapsed": false
   },
   "outputs": [
    {
     "data": {
      "text/plain": [
       "(2.0, 2)"
      ]
     },
     "execution_count": 21,
     "metadata": {},
     "output_type": "execute_result"
    }
   ],
   "source": [
    "a = 4/2\n",
    "b = 4//2\n",
    "\n",
    "a,b"
   ]
  },
  {
   "cell_type": "code",
   "execution_count": 26,
   "metadata": {
    "collapsed": false
   },
   "outputs": [
    {
     "name": "stdout",
     "output_type": "stream",
     "text": [
      "wat W\n",
      "wat EH\n",
      "wat L\n",
      "wat HH\n",
      "wat AH\n",
      "wat L\n",
      "wat OW\n",
      "wat DH\n",
      "wat EH\n",
      "wat R\n",
      "wat W\n",
      "wat AH\n",
      "wat T\n",
      "wat S\n",
      "wat F\n",
      "wat AO\n",
      "wat R\n",
      "wat D\n",
      "wat IH\n",
      "wat N\n",
      "wat ER\n",
      "['W', 'EH1', 'L', 'HH', 'AH0', 'L', 'OW1', 'DH', 'EH1', 'R'] ['W', 'AH0', 'T', 'S', 'F', 'AO1', 'R', 'D', 'IH1', 'N', 'ER0']\n"
     ]
    }
   ],
   "source": [
    "phoneme_list = Output_Prep.transform('Well Hello There!')\n",
    "phoneme_list_2 = Output_Prep.transform(\"What's for dinner?\")\n",
    "\n",
    "print (phoneme_list, phoneme_list_2)\n",
    "\n"
   ]
  },
  {
   "cell_type": "markdown",
   "metadata": {},
   "source": [
    "### Our Phonemes\n",
    "\n",
    "We use a counter to see what phonemes nltk actually has in store for us, then we sort and display them in order. We can then better fill-in articulatory features from the 50 or so the rasipuram paper has. The nltk docs say there's only 39, but clearly there are a bit more here. We'll try to fill in articulatory features for all of the phonemes here, duplicating ones where we don't have unique AF's from the paper. We need to specify AF's for all of these because these are the phonemes we'll be classifying. "
   ]
  },
  {
   "cell_type": "code",
   "execution_count": 14,
   "metadata": {
    "collapsed": false
   },
   "outputs": [],
   "source": [
    "from collections import Counter\n",
    "phonemes = Counter()\n",
    "values = Output_Prep.arpabet.values()\n",
    "for list_1 in values:\n",
    "    for list_2 in list_1:\n",
    "        if len(list_2) == 1:\n",
    "            phonemes.update(list_2)\n",
    "        else:\n",
    "            for item in list_2:\n",
    "                phonemes.update([str(item)])"
   ]
  },
  {
   "cell_type": "code",
   "execution_count": 15,
   "metadata": {
    "collapsed": false
   },
   "outputs": [
    {
     "name": "stderr",
     "output_type": "stream",
     "text": [
      "[autoreload of prepare_outputs failed: Traceback (most recent call last):\n",
      "  File \"/home/brian/anaconda3/lib/python3.6/site-packages/IPython/extensions/autoreload.py\", line 247, in check\n",
      "    superreload(m, reload, self.old_objects)\n",
      "  File \"/home/brian/Documents/Projects/MLND/p5/MLND-Subvocal/prepare_outputs.py\", line 108\n",
      "    vector =\n",
      "           ^\n",
      "SyntaxError: invalid syntax\n",
      "]\n"
     ]
    },
    {
     "data": {
      "text/plain": [
       "['AA0',\n",
       " 'AA1',\n",
       " 'AA2',\n",
       " 'AE0',\n",
       " 'AE1',\n",
       " 'AE2',\n",
       " 'AH0',\n",
       " 'AH1',\n",
       " 'AH2',\n",
       " 'AO0',\n",
       " 'AO1',\n",
       " 'AO2',\n",
       " 'AW0',\n",
       " 'AW1',\n",
       " 'AW2',\n",
       " 'AY0',\n",
       " 'AY1',\n",
       " 'AY2',\n",
       " 'B',\n",
       " 'CH',\n",
       " 'D',\n",
       " 'DH',\n",
       " 'EH0',\n",
       " 'EH1',\n",
       " 'EH2',\n",
       " 'ER0',\n",
       " 'ER1',\n",
       " 'ER2',\n",
       " 'EY0',\n",
       " 'EY1',\n",
       " 'EY2',\n",
       " 'F',\n",
       " 'G',\n",
       " 'HH',\n",
       " 'IH0',\n",
       " 'IH1',\n",
       " 'IH2',\n",
       " 'IY0',\n",
       " 'IY1',\n",
       " 'IY2',\n",
       " 'JH',\n",
       " 'K',\n",
       " 'L',\n",
       " 'M',\n",
       " 'N',\n",
       " 'NG',\n",
       " 'OW0',\n",
       " 'OW1',\n",
       " 'OW2',\n",
       " 'OY0',\n",
       " 'OY1',\n",
       " 'OY2',\n",
       " 'P',\n",
       " 'R',\n",
       " 'S',\n",
       " 'SH',\n",
       " 'T',\n",
       " 'TH',\n",
       " 'UH0',\n",
       " 'UH1',\n",
       " 'UH2',\n",
       " 'UW',\n",
       " 'UW0',\n",
       " 'UW1',\n",
       " 'UW2',\n",
       " 'V',\n",
       " 'W',\n",
       " 'Y',\n",
       " 'Z',\n",
       " 'ZH']"
      ]
     },
     "execution_count": 15,
     "metadata": {},
     "output_type": "execute_result"
    }
   ],
   "source": [
    "keys = list(phonemes.keys()) \n",
    "keys.sort()\n",
    "keys"
   ]
  },
  {
   "cell_type": "code",
   "execution_count": null,
   "metadata": {
    "collapsed": true
   },
   "outputs": [],
   "source": []
  }
 ],
 "metadata": {
  "kernelspec": {
   "display_name": "Python 3",
   "language": "python",
   "name": "python3"
  },
  "language_info": {
   "codemirror_mode": {
    "name": "ipython",
    "version": 3
   },
   "file_extension": ".py",
   "mimetype": "text/x-python",
   "name": "python",
   "nbconvert_exporter": "python",
   "pygments_lexer": "ipython3",
   "version": "3.6.0"
  }
 },
 "nbformat": 4,
 "nbformat_minor": 2
}
